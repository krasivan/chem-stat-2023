{
 "cells": [
  {
   "cell_type": "markdown",
   "id": "4eec3a0c",
   "metadata": {},
   "source": [
    "# Занятие 5"
   ]
  },
  {
   "cell_type": "markdown",
   "id": "079f8743",
   "metadata": {},
   "source": [
    "## Введение"
   ]
  },
  {
   "cell_type": "markdown",
   "id": "86e9f6c8",
   "metadata": {},
   "source": [
    "Всем привет! Здесь будет материал пятого занятия. "
   ]
  },
  {
   "cell_type": "markdown",
   "id": "fda9909a",
   "metadata": {},
   "source": [
    "Сегодня мы поговорим о таком понятии, как *регрессия*, а точнее говоря о *регрессионном аналзизе*."
   ]
  },
  {
   "cell_type": "markdown",
   "id": "95370528",
   "metadata": {},
   "source": [
    "### Постановка задачи."
   ]
  },
  {
   "cell_type": "markdown",
   "id": "6ad5eb9e",
   "metadata": {},
   "source": [
    "Традиционная постановка задачи для регрессионного анализа может быть сформулирована следующим образом."
   ]
  },
  {
   "cell_type": "markdown",
   "id": "2858072e",
   "metadata": {},
   "source": [
    "Пусть есть интересующий нас показатель $Y$, который как-то функционально зависит от переменных $X_1, \\dots, X_m$, при этом эта зависимость может быть каким-либо образом искажена некоторыми случайными помехами или, как правильнее говорить, шумом. Нам надо найти эту зависимость и сделать как можно более точное *предсказание* $Y$ на основе измеряемых *предикторных* переменных $X_1, \\dots, X_m$."
   ]
  },
  {
   "cell_type": "markdown",
   "id": "70bd0955",
   "metadata": {},
   "source": [
    "## Часть 1. Подгонка прямой."
   ]
  },
  {
   "cell_type": "markdown",
   "id": "8eeb2b49",
   "metadata": {},
   "source": [
    "Пусть есть облако эксперементальных точек $(x_i, \\eta_i)$, полученных в соответсвии с моделью"
   ]
  },
  {
   "cell_type": "markdown",
   "id": "54562a55",
   "metadata": {},
   "source": [
    "$$\n",
    "\\eta_i = a + b x_i + \\varepsilon_i, \\quad i = 1, \\dots, n.\n",
    "$$"
   ]
  },
  {
   "cell_type": "markdown",
   "id": "bcf2d08c",
   "metadata": {},
   "source": [
    "> При этом в нашем конкретном случае мы видим линейную зависимость, но в более общем случае мы можем взять некоторое произвольное параметрическое семейство функций $f(x, T),$ где $T$ – набор параметров. Тогда можем написать следующее выражение: $\\eta_i = f(x, T) + \\varepsilon_i$."
   ]
  },
  {
   "cell_type": "markdown",
   "id": "208ada90",
   "metadata": {},
   "source": [
    "В нашем же случае коэффициенты прямой $a$ и $b$ – неизвестные параметры, $x_i$ – значения предиктора (которые неслучайны), $\\varepsilon_i$ – независимые и одинаково распределённые случайные ошибки с нулевым средним, т. е. $\\mathbb{E}\\varepsilon_i = 0$."
   ]
  },
  {
   "cell_type": "markdown",
   "id": "7e6a7b23",
   "metadata": {},
   "source": [
    "Интерпретируя исходную постановку задачи на наш конкретный случай, мы понимаем, что нам как раз и нужно отыскать коэффициенты $a$ и $b$. Как же это можно сделать?"
   ]
  },
  {
   "cell_type": "markdown",
   "id": "dad7a7dd",
   "metadata": {},
   "source": [
    "## Часть 2. Метод наименьших квадратов (МНК)."
   ]
  },
  {
   "cell_type": "markdown",
   "id": "d92ba929",
   "metadata": {},
   "source": [
    "Построим пробную прямую $y = \\alpha + \\beta x$. При этом остатки можно определить как $\\delta(\\alpha, \\beta) = \\eta_i - \\alpha - \\beta x_i.$"
   ]
  },
  {
   "cell_type": "markdown",
   "id": "d3189ca8",
   "metadata": {},
   "source": [
    "Нам нужно как-то измерить качество нашей пробной прямой, т. е. понять, насколько хорошо она приближает исходное облако точек $(x_i, \\eta_i)$. В качестве общей меры близости предлагается взять следущую меру"
   ]
  },
  {
   "cell_type": "markdown",
   "id": "5bdfae27",
   "metadata": {},
   "source": [
    "$$\n",
    "F(\\alpha, \\beta) = \\sum_{i = 1}^{n} \\delta_i^2 = \\sum_{i = 1}^{n}(\\eta_i - \\alpha - \\beta x_i)^2.\n",
    "$$"
   ]
  },
  {
   "cell_type": "markdown",
   "id": "fd2e2d73",
   "metadata": {},
   "source": [
    "Таким образом, нам надо минимизировать данный функционал. Обозначим через $(\\hat{a}, \\hat{b})$ точку минимума. Оказывается, что они имеют вид"
   ]
  },
  {
   "cell_type": "markdown",
   "id": "84a3fc15",
   "metadata": {},
   "source": [
    "$$\n",
    "\\hat{b} = \\dfrac{\\sum_{i = 1}^{n}(\\eta_i - \\overline{\\eta})(x_i - \\overline{x})}{\\sum_{i = 1}^{n}(x_i - \\overline{x})^2}, \\qquad \\hat{a} = \\overline{\\eta} - \\hat{b} \\overline{x}.\n",
    "$$"
   ]
  },
  {
   "cell_type": "markdown",
   "id": "307aba09",
   "metadata": {},
   "source": [
    "Нельзя не упомянуть один из существенных недостатков метода наименьших квадратов: данный метод обладает сильной чувствительностью к выбросам (наблюдениям, которые выбиваются из общего облака точек)."
   ]
  },
  {
   "cell_type": "markdown",
   "id": "e8b632b1",
   "metadata": {},
   "source": [
    "> Контрольный вопрос: почему?"
   ]
  },
  {
   "cell_type": "code",
   "execution_count": 1,
   "id": "efdba13c",
   "metadata": {},
   "outputs": [
    {
     "data": {
      "text/html": [
       "<div>\n",
       "<style scoped>\n",
       "    .dataframe tbody tr th:only-of-type {\n",
       "        vertical-align: middle;\n",
       "    }\n",
       "\n",
       "    .dataframe tbody tr th {\n",
       "        vertical-align: top;\n",
       "    }\n",
       "\n",
       "    .dataframe thead th {\n",
       "        text-align: right;\n",
       "    }\n",
       "</style>\n",
       "<table border=\"1\" class=\"dataframe\">\n",
       "  <thead>\n",
       "    <tr style=\"text-align: right;\">\n",
       "      <th></th>\n",
       "      <th>Алкины</th>\n",
       "      <th>Пик</th>\n",
       "      <th>Бензол</th>\n",
       "      <th>Экст</th>\n",
       "      <th>Дан</th>\n",
       "      <th>Рез</th>\n",
       "      <th>Станд</th>\n",
       "      <th>Энзим</th>\n",
       "      <th>T(C)</th>\n",
       "      <th>Раств</th>\n",
       "    </tr>\n",
       "  </thead>\n",
       "  <tbody>\n",
       "    <tr>\n",
       "      <th>0</th>\n",
       "      <td>0.09</td>\n",
       "      <td>3.2</td>\n",
       "      <td>0.2</td>\n",
       "      <td>0.20</td>\n",
       "      <td>9.5</td>\n",
       "      <td>12.08</td>\n",
       "      <td>10.2</td>\n",
       "      <td>10.2</td>\n",
       "      <td>0</td>\n",
       "      <td>33.5</td>\n",
       "    </tr>\n",
       "    <tr>\n",
       "      <th>1</th>\n",
       "      <td>0.14</td>\n",
       "      <td>4.7</td>\n",
       "      <td>0.5</td>\n",
       "      <td>0.37</td>\n",
       "      <td>19.0</td>\n",
       "      <td>19.42</td>\n",
       "      <td>20.3</td>\n",
       "      <td>20.5</td>\n",
       "      <td>10</td>\n",
       "      <td>37.0</td>\n",
       "    </tr>\n",
       "    <tr>\n",
       "      <th>2</th>\n",
       "      <td>0.18</td>\n",
       "      <td>5.9</td>\n",
       "      <td>1.0</td>\n",
       "      <td>0.64</td>\n",
       "      <td>28.5</td>\n",
       "      <td>28.64</td>\n",
       "      <td>29.8</td>\n",
       "      <td>30.9</td>\n",
       "      <td>20</td>\n",
       "      <td>41.2</td>\n",
       "    </tr>\n",
       "    <tr>\n",
       "      <th>3</th>\n",
       "      <td>0.25</td>\n",
       "      <td>7.7</td>\n",
       "      <td>1.5</td>\n",
       "      <td>0.93</td>\n",
       "      <td>38.0</td>\n",
       "      <td>37.87</td>\n",
       "      <td>40.1</td>\n",
       "      <td>41.3</td>\n",
       "      <td>30</td>\n",
       "      <td>46.1</td>\n",
       "    </tr>\n",
       "    <tr>\n",
       "      <th>4</th>\n",
       "      <td>0.30</td>\n",
       "      <td>9.1</td>\n",
       "      <td>2.0</td>\n",
       "      <td>1.22</td>\n",
       "      <td>47.5</td>\n",
       "      <td>46.37</td>\n",
       "      <td>49.8</td>\n",
       "      <td>51.2</td>\n",
       "      <td>40</td>\n",
       "      <td>50.0</td>\n",
       "    </tr>\n",
       "    <tr>\n",
       "      <th>5</th>\n",
       "      <td>0.35</td>\n",
       "      <td>10.7</td>\n",
       "      <td>2.5</td>\n",
       "      <td>1.50</td>\n",
       "      <td>95.0</td>\n",
       "      <td>93.12</td>\n",
       "      <td>NaN</td>\n",
       "      <td>NaN</td>\n",
       "      <td>50</td>\n",
       "      <td>52.9</td>\n",
       "    </tr>\n",
       "    <tr>\n",
       "      <th>6</th>\n",
       "      <td>NaN</td>\n",
       "      <td>NaN</td>\n",
       "      <td>3.0</td>\n",
       "      <td>1.80</td>\n",
       "      <td>142.5</td>\n",
       "      <td>139.50</td>\n",
       "      <td>NaN</td>\n",
       "      <td>NaN</td>\n",
       "      <td>60</td>\n",
       "      <td>56.8</td>\n",
       "    </tr>\n",
       "    <tr>\n",
       "      <th>7</th>\n",
       "      <td>NaN</td>\n",
       "      <td>NaN</td>\n",
       "      <td>NaN</td>\n",
       "      <td>NaN</td>\n",
       "      <td>190.0</td>\n",
       "      <td>185.96</td>\n",
       "      <td>NaN</td>\n",
       "      <td>NaN</td>\n",
       "      <td>70</td>\n",
       "      <td>64.3</td>\n",
       "    </tr>\n",
       "    <tr>\n",
       "      <th>8</th>\n",
       "      <td>NaN</td>\n",
       "      <td>NaN</td>\n",
       "      <td>NaN</td>\n",
       "      <td>NaN</td>\n",
       "      <td>237.0</td>\n",
       "      <td>232.95</td>\n",
       "      <td>NaN</td>\n",
       "      <td>NaN</td>\n",
       "      <td>80</td>\n",
       "      <td>69.9</td>\n",
       "    </tr>\n",
       "  </tbody>\n",
       "</table>\n",
       "</div>"
      ],
      "text/plain": [
       "   Алкины   Пик  Бензол  Экст    Дан     Рез  Станд  Энзим  T(C)  Раств\n",
       "0    0.09   3.2     0.2  0.20    9.5   12.08   10.2   10.2     0   33.5\n",
       "1    0.14   4.7     0.5  0.37   19.0   19.42   20.3   20.5    10   37.0\n",
       "2    0.18   5.9     1.0  0.64   28.5   28.64   29.8   30.9    20   41.2\n",
       "3    0.25   7.7     1.5  0.93   38.0   37.87   40.1   41.3    30   46.1\n",
       "4    0.30   9.1     2.0  1.22   47.5   46.37   49.8   51.2    40   50.0\n",
       "5    0.35  10.7     2.5  1.50   95.0   93.12    NaN    NaN    50   52.9\n",
       "6     NaN   NaN     3.0  1.80  142.5  139.50    NaN    NaN    60   56.8\n",
       "7     NaN   NaN     NaN   NaN  190.0  185.96    NaN    NaN    70   64.3\n",
       "8     NaN   NaN     NaN   NaN  237.0  232.95    NaN    NaN    80   69.9"
      ]
     },
     "metadata": {},
     "output_type": "display_data"
    }
   ],
   "source": [
    "import pandas as pd\n",
    "import scipy.stats as stats\n",
    "import seaborn as sns\n",
    "import matplotlib.pyplot as plt\n",
    "import numpy as np\n",
    "pd.set_option('display.max_rows', 100)\n",
    "df = pd.read_excel(\"../Data/Linear.xlsx\")\n",
    "display(df)"
   ]
  },
  {
   "cell_type": "code",
   "execution_count": 2,
   "id": "e7aa3011",
   "metadata": {},
   "outputs": [
    {
     "name": "stdout",
     "output_type": "stream",
     "text": [
      "<class 'pandas.core.frame.DataFrame'>\n",
      "RangeIndex: 9 entries, 0 to 8\n",
      "Data columns (total 10 columns):\n",
      " #   Column  Non-Null Count  Dtype  \n",
      "---  ------  --------------  -----  \n",
      " 0   Алкины  6 non-null      float64\n",
      " 1   Пик     6 non-null      float64\n",
      " 2   Бензол  7 non-null      float64\n",
      " 3   Экст    7 non-null      float64\n",
      " 4   Дан     9 non-null      float64\n",
      " 5   Рез     9 non-null      float64\n",
      " 6   Станд   5 non-null      float64\n",
      " 7   Энзим   5 non-null      float64\n",
      " 8   T(C)    9 non-null      int64  \n",
      " 9   Раств   9 non-null      float64\n",
      "dtypes: float64(9), int64(1)\n",
      "memory usage: 848.0 bytes\n"
     ]
    }
   ],
   "source": [
    "df.info()"
   ]
  },
  {
   "cell_type": "markdown",
   "id": "9060a41e",
   "metadata": {},
   "source": [
    "**Легенда к заданию.**\n",
    "\n",
    "* Для построения градуировочного графика при определении алкинов прямым термометрическим методом получены данные:\n",
    "    * **Алкины** – содержание алкинов (%),\n",
    "    * **Пик** – высота пика (в см).\n",
    "    \n",
    "* Для градуировки фотометрического определения бензола в ультрафиолетовой части спектра были измерены экстинкции (поглощения) семи эталонных проб известного содержания:\n",
    "    * **Бензол** – содержания бензола (г/л),\n",
    "    * **Экст** – экстинкция.\n",
    "    \n",
    "* Для изучения систематических ошибок при определении сульфата методом объемного анализа представлены результаты:\n",
    "    * **Дан** – данные,\n",
    "    * **Рез** – результат.\n",
    "    \n",
    "* Проведено определение лактата стандартным методом и с помощью энзимного электрода (в моль/л):\n",
    "    * **Станд** – стандартным методом,\n",
    "    * **Энзим** – энзимным электродом.\n",
    "    \n",
    "* Зависимость растворимости тиосульфата натрия в воде от температуры:\n",
    "    * **Т(С)** – температура,\n",
    "    * **Раств** – растворимость (%)."
   ]
  },
  {
   "cell_type": "markdown",
   "id": "f707b1ad",
   "metadata": {},
   "source": [
    "Построим диаграму зависимости **Пик** от **Алкины**, но сначала соберём нужные данны в один датафрейм."
   ]
  },
  {
   "cell_type": "code",
   "execution_count": 3,
   "id": "e7b7b386",
   "metadata": {},
   "outputs": [
    {
     "data": {
      "text/html": [
       "<div>\n",
       "<style scoped>\n",
       "    .dataframe tbody tr th:only-of-type {\n",
       "        vertical-align: middle;\n",
       "    }\n",
       "\n",
       "    .dataframe tbody tr th {\n",
       "        vertical-align: top;\n",
       "    }\n",
       "\n",
       "    .dataframe thead th {\n",
       "        text-align: right;\n",
       "    }\n",
       "</style>\n",
       "<table border=\"1\" class=\"dataframe\">\n",
       "  <thead>\n",
       "    <tr style=\"text-align: right;\">\n",
       "      <th></th>\n",
       "      <th>Пик</th>\n",
       "      <th>Алкины</th>\n",
       "    </tr>\n",
       "  </thead>\n",
       "  <tbody>\n",
       "    <tr>\n",
       "      <th>0</th>\n",
       "      <td>3.2</td>\n",
       "      <td>0.09</td>\n",
       "    </tr>\n",
       "    <tr>\n",
       "      <th>1</th>\n",
       "      <td>4.7</td>\n",
       "      <td>0.14</td>\n",
       "    </tr>\n",
       "    <tr>\n",
       "      <th>2</th>\n",
       "      <td>5.9</td>\n",
       "      <td>0.18</td>\n",
       "    </tr>\n",
       "    <tr>\n",
       "      <th>3</th>\n",
       "      <td>7.7</td>\n",
       "      <td>0.25</td>\n",
       "    </tr>\n",
       "    <tr>\n",
       "      <th>4</th>\n",
       "      <td>9.1</td>\n",
       "      <td>0.30</td>\n",
       "    </tr>\n",
       "    <tr>\n",
       "      <th>5</th>\n",
       "      <td>10.7</td>\n",
       "      <td>0.35</td>\n",
       "    </tr>\n",
       "  </tbody>\n",
       "</table>\n",
       "</div>"
      ],
      "text/plain": [
       "    Пик  Алкины\n",
       "0   3.2    0.09\n",
       "1   4.7    0.14\n",
       "2   5.9    0.18\n",
       "3   7.7    0.25\n",
       "4   9.1    0.30\n",
       "5  10.7    0.35"
      ]
     },
     "metadata": {},
     "output_type": "display_data"
    }
   ],
   "source": [
    "dfAlkPic = df[['Пик', 'Алкины']].dropna()\n",
    "display(dfAlkPic)"
   ]
  },
  {
   "cell_type": "code",
   "execution_count": 4,
   "id": "b02b809d",
   "metadata": {},
   "outputs": [
    {
     "data": {
      "image/png": "[encoded data removed]",
      "text/plain": [
       "<Figure size 640x480 with 1 Axes>"
      ]
     },
     "metadata": {},
     "output_type": "display_data"
    }
   ],
   "source": [
    "plt.scatter(dfAlkPic['Алкины'], dfAlkPic['Пик'])\n",
    "plt.show()"
   ]
  },
  {
   "cell_type": "markdown",
   "id": "846f5a0c",
   "metadata": {},
   "source": [
    "Что мы видим? Очень хорошую, практически линейную зависимость. Но как же нам найти ту самую линейную регрессию? Для этого нам надо найти коэффициенты."
   ]
  },
  {
   "cell_type": "markdown",
   "id": "7826638e",
   "metadata": {},
   "source": [
    "Для нахождения коэффициентов прямой мы будем использовать уже знакомый вам метод `np.polyfit()`. Давайте сделаем это, а заодно и выведем уравнение искомой прямой."
   ]
  },
  {
   "cell_type": "code",
   "execution_count": 23,
   "id": "43e109af",
   "metadata": {},
   "outputs": [
    {
     "name": "stdout",
     "output_type": "stream",
     "text": [
      " \n",
      "28.34 x + 0.6966\n"
     ]
    }
   ],
   "source": [
    "coefs = np.polyfit(dfAlkPic['Алкины'], dfAlkPic['Пик'], 1)\n",
    "polynom = np.poly1d(coefs)\n",
    "print(polynom)"
   ]
  },
  {
   "cell_type": "markdown",
   "id": "4ce21821",
   "metadata": {},
   "source": [
    "Теперь соберём всё на одну картинку."
   ]
  },
  {
   "cell_type": "code",
   "execution_count": 24,
   "id": "bd5a0510",
   "metadata": {},
   "outputs": [
    {
     "data": {
      "image/png": "[encoded data removed]",
      "text/plain": [
       "<Figure size 640x480 with 1 Axes>"
      ]
     },
     "metadata": {},
     "output_type": "display_data"
    }
   ],
   "source": [
    "plt.scatter(dfAlkPic['Алкины'], dfAlkPic['Пик'])\n",
    "plt.plot(dfAlkPic['Алкины'], polynom(dfAlkPic['Алкины']))\n",
    "plt.grid()\n",
    "plt.show()"
   ]
  },
  {
   "cell_type": "markdown",
   "id": "6f582fa7",
   "metadata": {},
   "source": [
    "Подтверждаем то, что заметили раньше – укладка почти линейная."
   ]
  },
  {
   "cell_type": "markdown",
   "id": "2f0b1a39",
   "metadata": {},
   "source": [
    "### Ещё один метод."
   ]
  },
  {
   "cell_type": "markdown",
   "id": "ec604884",
   "metadata": {},
   "source": [
    "Ещё один метод выполнения линейной регрессии состоит в использовании библиотеки `sklearn.linear_model`. (Снова может быть так, что у вас отсутствует данная библиотека, в этом случае вам поможет `pip`)."
   ]
  },
  {
   "cell_type": "code",
   "execution_count": 7,
   "id": "b6bfa1b7",
   "metadata": {},
   "outputs": [],
   "source": [
    "from sklearn.linear_model import LinearRegression"
   ]
  },
  {
   "cell_type": "markdown",
   "id": "fcedec40",
   "metadata": {},
   "source": [
    "Здесь есть один нюанс. Какой тип у объекта `dfAlcPic['Пик']`?"
   ]
  },
  {
   "cell_type": "code",
   "execution_count": 25,
   "id": "1303386e",
   "metadata": {},
   "outputs": [
    {
     "data": {
      "text/plain": [
       "pandas.core.series.Series"
      ]
     },
     "execution_count": 25,
     "metadata": {},
     "output_type": "execute_result"
    }
   ],
   "source": [
    "type(dfAlkPic['Пик'])"
   ]
  },
  {
   "cell_type": "markdown",
   "id": "4eb3e195",
   "metadata": {},
   "source": [
    "Как мы видим, `series`. Но нам понадобится объект типа `arrays`. Изменим типы и зададим переменные для более удобного обращения к ним в дальнейшем. Также обратите внимание на конструкуцию `.reshape(-1, 1)` – что она делает?"
   ]
  },
  {
   "cell_type": "code",
   "execution_count": 26,
   "id": "da00c947",
   "metadata": {},
   "outputs": [],
   "source": [
    "alc = dfAlkPic['Алкины'].values.reshape(-1, 1)\n",
    "pic = dfAlkPic['Пик'].values"
   ]
  },
  {
   "cell_type": "markdown",
   "id": "b65b83f5",
   "metadata": {},
   "source": [
    "Зададим теперь нужную нам модель и выполним подгонку."
   ]
  },
  {
   "cell_type": "code",
   "execution_count": 27,
   "id": "2af9571d",
   "metadata": {},
   "outputs": [
    {
     "data": {
      "text/plain": [
       "LinearRegression()"
      ]
     },
     "execution_count": 27,
     "metadata": {},
     "output_type": "execute_result"
    }
   ],
   "source": [
    "model = LinearRegression()\n",
    "model.fit(alc, pic)"
   ]
  },
  {
   "cell_type": "markdown",
   "id": "05672638",
   "metadata": {},
   "source": [
    "> Если бы мы не сделали `.reshape(-1, 1)`, то функция `.fit()` вернула бы ошибку. Попробуйте запустить её без `.reshape(-1, 1)`."
   ]
  },
  {
   "cell_type": "markdown",
   "id": "2fdaf769",
   "metadata": {},
   "source": [
    "Попробуем предсказать поведение нашей регрессии в двух \"соседних\" от построенного графика точках: $0.05, 0.40$."
   ]
  },
  {
   "cell_type": "code",
   "execution_count": 28,
   "id": "afca5732",
   "metadata": {},
   "outputs": [],
   "source": [
    "sample = np.array([0.05, 0.40]).reshape(-1, 1)"
   ]
  },
  {
   "cell_type": "code",
   "execution_count": 29,
   "id": "8dc41c5e",
   "metadata": {},
   "outputs": [],
   "source": [
    "pred = model.predict(sample)"
   ]
  },
  {
   "cell_type": "code",
   "execution_count": 30,
   "id": "433788b5",
   "metadata": {},
   "outputs": [
    {
     "name": "stdout",
     "output_type": "stream",
     "text": [
      "[28.33616299]\n",
      "0.6966044142614587\n",
      "[ 2.11341256 12.03106961]\n"
     ]
    }
   ],
   "source": [
    "print(model.coef_)\n",
    "print(model.intercept_)\n",
    "print(pred)"
   ]
  },
  {
   "cell_type": "markdown",
   "id": "ec424659",
   "metadata": {},
   "source": [
    "Что мы только что получили? Первые два вывода соответствуют неизвестным коэффициентам в уравнении прямой – сравните их с результатами выше. Последний вывод соответствуют \"предсказанию\" значений нашей регрессии в заданных точках."
   ]
  },
  {
   "cell_type": "markdown",
   "id": "731579f4",
   "metadata": {},
   "source": [
    "> Кстати, почему первый вывод – список?"
   ]
  },
  {
   "cell_type": "markdown",
   "id": "e8448525",
   "metadata": {},
   "source": [
    "Соберём всё на одну картинку."
   ]
  },
  {
   "cell_type": "code",
   "execution_count": 14,
   "id": "75dd8ab5",
   "metadata": {},
   "outputs": [
    {
     "data": {
      "image/png": "[encoded data removed]",
      "text/plain": [
       "<Figure size 640x480 with 1 Axes>"
      ]
     },
     "metadata": {},
     "output_type": "display_data"
    }
   ],
   "source": [
    "plt.scatter(dfAlkPic['Алкины'], dfAlkPic['Пик'])\n",
    "plt.plot(dfAlkPic['Алкины'], polynom(dfAlkPic['Алкины']))\n",
    "plt.plot([0.05, 0.40],pred, 'ro--')\n",
    "plt.grid()\n",
    "plt.show()"
   ]
  },
  {
   "cell_type": "markdown",
   "id": "e7831331",
   "metadata": {},
   "source": [
    "Разумеется, в рамках этого занятия мы не сможем даже примерно описать библиотеку [`scikit-learn`](https://scikit-learn.org/stable/). Но теперь вы знаете, что она существует. Стоит сказать, что это одна из самых часто используемых библиотек по для анализа данных и машинного обучения."
   ]
  },
  {
   "cell_type": "markdown",
   "id": "1adaeb80",
   "metadata": {},
   "source": [
    "Снова можете сказать: \"Хорошо, допустим, что прямую мы построили. Но как быть, если я не верю своим глазам?\" Это очень правильный вопрос. Этот вопрос можно даже расширить: \"Как понять, что построенная мной модель, хороша?\" Ответ простой: \"Нужно использовать метрики, которые отражают качество построенной модели.\""
   ]
  },
  {
   "cell_type": "markdown",
   "id": "cb99e0a2",
   "metadata": {},
   "source": [
    "Нам \"повезло\" с тем, что наша модель очень простая. Но тем не менее, даже с её помощью мы можем проиллюстрировать общий подход."
   ]
  },
  {
   "cell_type": "markdown",
   "id": "ca0f8edd",
   "metadata": {},
   "source": [
    "Величина $R^2$ (величина достоверности аппроксимации) измеряется в диапазоне от $0$ до $1$. Чем ближе он к единице, тем точнее наша регрессия. При этом если она далека от единицы, то это вовсе не означает, что мы построили какую-то плохую регрессию – в реальных задачах это может обхясняться наличием других влияющих факторов. При этом если данная величина оказывается очень близкой к нулю, то это означает отсутствие влияния данного фактора – и следовательно, проведение регрессии по нему бесполезно."
   ]
  },
  {
   "cell_type": "markdown",
   "id": "2ee670ed",
   "metadata": {},
   "source": [
    "Давайте вычислим этот коэффициент для нашей модели. (При этом мы очень подозреваем, что он будет близок к $1$)."
   ]
  },
  {
   "cell_type": "code",
   "execution_count": 15,
   "id": "4f087bd5",
   "metadata": {},
   "outputs": [
    {
     "name": "stdout",
     "output_type": "stream",
     "text": [
      "0.9990505730526149\n"
     ]
    }
   ],
   "source": [
    "from sklearn.metrics import r2_score\n",
    "R2 = r2_score(pic, model.predict(alc))\n",
    "print(R2)"
   ]
  },
  {
   "cell_type": "markdown",
   "id": "af093069",
   "metadata": {},
   "source": [
    "Что и требовалось доказать."
   ]
  },
  {
   "cell_type": "markdown",
   "id": "3961553c",
   "metadata": {},
   "source": [
    "## Часть 2. Изучение ошибок для некоторого метода."
   ]
  },
  {
   "cell_type": "markdown",
   "id": "2dcc05db",
   "metadata": {},
   "source": [
    "Рассмотрим два других столбца таблицы. Сделаем для них всё то же, что делали выше."
   ]
  },
  {
   "cell_type": "code",
   "execution_count": 78,
   "id": "1f6a21b0",
   "metadata": {},
   "outputs": [],
   "source": [
    "dan = df['Дан']\n",
    "res = df['Рез']"
   ]
  },
  {
   "cell_type": "code",
   "execution_count": 79,
   "id": "7e8af9ca",
   "metadata": {},
   "outputs": [
    {
     "name": "stdout",
     "output_type": "stream",
     "text": [
      " \n",
      "0.9749 x + 1.02\n"
     ]
    },
    {
     "data": {
      "image/png": "[encoded data removed]",
      "text/plain": [
       "<Figure size 640x480 with 1 Axes>"
      ]
     },
     "metadata": {},
     "output_type": "display_data"
    }
   ],
   "source": [
    "coefs = np.polyfit(dan, res, 1)\n",
    "polynom = np.poly1d(coefs)\n",
    "print(polynom)\n",
    "\n",
    "plt.scatter(dan, res)\n",
    "plt.plot(dan, polynom(dan))\n",
    "plt.grid()\n",
    "plt.show()"
   ]
  },
  {
   "cell_type": "code",
   "execution_count": 80,
   "id": "0beb1c4c",
   "metadata": {},
   "outputs": [
    {
     "name": "stdout",
     "output_type": "stream",
     "text": [
      "[0.97488549]\n",
      "1.019711977811781\n",
      "0.9998922473302879\n"
     ]
    }
   ],
   "source": [
    "danArr = dan.values.reshape(-1, 1)\n",
    "resArr = res.values\n",
    "\n",
    "model = LinearRegression()\n",
    "model.fit(danArr, resArr)\n",
    "\n",
    "R2 = r2_score(resArr, model.predict(danArr))\n",
    "print(model.coef_)\n",
    "print(model.intercept_)\n",
    "print(R2)"
   ]
  },
  {
   "cell_type": "markdown",
   "id": "9912b43f",
   "metadata": {},
   "source": [
    "Так как наша прямая имеет вид $y = \\texttt{.coef }  x + \\texttt{.intercept} = ax + b$, то значение коэффициента $a$ можно интерпретировать как линейную составляющую отклонения; коэффициент $b$ как как систематическое отклонение. "
   ]
  },
  {
   "cell_type": "markdown",
   "id": "e7bd2e81",
   "metadata": {},
   "source": [
    "Таким образом, измерение даёт заниженное значение величины, если $a < 1$, и завышенное, если $a > 1$."
   ]
  },
  {
   "cell_type": "markdown",
   "id": "f7ce5deb",
   "metadata": {},
   "source": [
    "Вычислим \"остатки\" для нашей модели (как разность между предсказанными значениями и значениями в колонке `Рез`)."
   ]
  },
  {
   "cell_type": "code",
   "execution_count": 81,
   "id": "c275dd78",
   "metadata": {},
   "outputs": [
    {
     "name": "stdout",
     "output_type": "stream",
     "text": [
      "[ 10.28112415  19.54253633  28.80394851  38.06536068  47.32677286\n",
      "  93.63383374 139.94089462 186.24795549 232.06757363]\n"
     ]
    }
   ],
   "source": [
    "print(model.predict(danArr))"
   ]
  },
  {
   "cell_type": "code",
   "execution_count": 82,
   "id": "0043539a",
   "metadata": {},
   "outputs": [
    {
     "name": "stdout",
     "output_type": "stream",
     "text": [
      "[ 12.08  19.42  28.64  37.87  46.37  93.12 139.5  185.96 232.95]\n"
     ]
    }
   ],
   "source": [
    "print(resArr)"
   ]
  },
  {
   "cell_type": "code",
   "execution_count": 83,
   "id": "5620a8ad",
   "metadata": {},
   "outputs": [],
   "source": [
    "# residuals – остатки\n",
    "residuals = resArr - model.predict(danArr)"
   ]
  },
  {
   "cell_type": "code",
   "execution_count": 84,
   "id": "5ee7903c",
   "metadata": {},
   "outputs": [
    {
     "name": "stdout",
     "output_type": "stream",
     "text": [
      "[ 1.79887585 -0.12253633 -0.16394851 -0.19536068 -0.95677286 -0.51383374\n",
      " -0.44089462 -0.28795549  0.88242637]\n"
     ]
    }
   ],
   "source": [
    "print(residuals)"
   ]
  },
  {
   "cell_type": "code",
   "execution_count": 85,
   "id": "16301da2",
   "metadata": {},
   "outputs": [
    {
     "data": {
      "image/png": "[encoded data removed]",
      "text/plain": [
       "<Figure size 640x480 with 1 Axes>"
      ]
     },
     "metadata": {},
     "output_type": "display_data"
    }
   ],
   "source": [
    "plt.scatter(dan, residuals)\n",
    "# Добавил нулевой уровень, чтобы было лучше видно разницу относительно нуля\n",
    "plt.axhline(y=0, color='red', linewidth=1.5)\n",
    "plt.grid()\n",
    "plt.show()"
   ]
  },
  {
   "cell_type": "markdown",
   "id": "5909c2cd",
   "metadata": {},
   "source": [
    "Если значение $R^2$ будет близко к нулю, то есть рассмотрение регрессии практически не уменьшает дисперсию выборки (при этом прямая будет практически параллельна оси абсцисс), то можно проверить следуюущю гипотезу:"
   ]
  },
  {
   "cell_type": "markdown",
   "id": "d9ccf473",
   "metadata": {},
   "source": [
    "$H_0$: Среднее не зависит от параметра $X$, то есть регрессия отсутствует."
   ]
  },
  {
   "cell_type": "markdown",
   "id": "b64ba718",
   "metadata": {},
   "source": [
    "То есть нам нужно выполнить известный вам $F$-тест для проверки равенства для двух дисперсий: исходной выборки и остатков. Напомним, что в случае справедливости нулевой гипотезы, мы получим $F$-значение, близкое к единице, а $P$-значение будет большим."
   ]
  },
  {
   "cell_type": "code",
   "execution_count": 93,
   "id": "84f505bf",
   "metadata": {},
   "outputs": [],
   "source": [
    "def fTest(firstSample, secondSample):\n",
    "    firstSample = np.array(firstSample)\n",
    "    secondSample = np.array(secondSample)\n",
    "    f = np.var(firstSample, ddof=1) / np.var(secondSample, ddof=1)\n",
    "    dfn = firstSample.size - 1\n",
    "    dfd = secondSample.size - 1\n",
    "    p = 1 - scipy.stats.f.cdf(f, dfn, dfd)\n",
    "    return (f, p)"
   ]
  },
  {
   "cell_type": "code",
   "execution_count": 94,
   "id": "9cb81283",
   "metadata": {},
   "outputs": [
    {
     "data": {
      "text/plain": [
       "(9763.779140432272, 3.885780586188048e-15)"
      ]
     },
     "execution_count": 94,
     "metadata": {},
     "output_type": "execute_result"
    }
   ],
   "source": [
    "fTest(dan, residuals)"
   ]
  },
  {
   "cell_type": "markdown",
   "id": "8734079c",
   "metadata": {},
   "source": [
    "Полученные значения однозначно опровергают нулевую гипотезу."
   ]
  },
  {
   "cell_type": "markdown",
   "id": "fe684fe5",
   "metadata": {},
   "source": [
    "Ещё раз:\n",
    "1. Мы построили картинку, увидили там линейную укладку.\n",
    "2. Вычислили остатки – они оказались малы.\n",
    "3. Для окончательной уверенности выполнили $F$-тест для проверки дисперсий исходной выборки и остатков."
   ]
  },
  {
   "cell_type": "markdown",
   "id": "8c49bc99",
   "metadata": {},
   "source": [
    "## Часть 3. Многомерная регрессия."
   ]
  },
  {
   "cell_type": "markdown",
   "id": "8d88df80",
   "metadata": {},
   "source": [
    "Возьмём другой фрейм для работы."
   ]
  },
  {
   "cell_type": "code",
   "execution_count": 95,
   "id": "7386f50f",
   "metadata": {},
   "outputs": [],
   "source": [
    "dfFlame = pd.read_excel(\"../Data/Flame.xlsx\")"
   ]
  },
  {
   "cell_type": "code",
   "execution_count": 110,
   "id": "8e34f154",
   "metadata": {
    "scrolled": true
   },
   "outputs": [
    {
     "name": "stdout",
     "output_type": "stream",
     "text": [
      "<class 'pandas.core.frame.DataFrame'>\n",
      "RangeIndex: 8 entries, 0 to 7\n",
      "Data columns (total 4 columns):\n",
      " #   Column   Non-Null Count  Dtype\n",
      "---  ------   --------------  -----\n",
      " 0   Cl       8 non-null      int64\n",
      " 1   SO4      8 non-null      int64\n",
      " 2   PO3      8 non-null      int64\n",
      " 3   Стрелка  8 non-null      int64\n",
      "dtypes: int64(4)\n",
      "memory usage: 384.0 bytes\n"
     ]
    }
   ],
   "source": [
    "dfFlame.info()"
   ]
  },
  {
   "cell_type": "code",
   "execution_count": 112,
   "id": "dc0b5b5d",
   "metadata": {},
   "outputs": [
    {
     "data": {
      "text/html": [
       "<div>\n",
       "<style scoped>\n",
       "    .dataframe tbody tr th:only-of-type {\n",
       "        vertical-align: middle;\n",
       "    }\n",
       "\n",
       "    .dataframe tbody tr th {\n",
       "        vertical-align: top;\n",
       "    }\n",
       "\n",
       "    .dataframe thead th {\n",
       "        text-align: right;\n",
       "    }\n",
       "</style>\n",
       "<table border=\"1\" class=\"dataframe\">\n",
       "  <thead>\n",
       "    <tr style=\"text-align: right;\">\n",
       "      <th></th>\n",
       "      <th>Cl</th>\n",
       "      <th>SO4</th>\n",
       "      <th>PO3</th>\n",
       "      <th>Стрелка</th>\n",
       "    </tr>\n",
       "  </thead>\n",
       "  <tbody>\n",
       "    <tr>\n",
       "      <th>0</th>\n",
       "      <td>0</td>\n",
       "      <td>0</td>\n",
       "      <td>0</td>\n",
       "      <td>214</td>\n",
       "    </tr>\n",
       "    <tr>\n",
       "      <th>1</th>\n",
       "      <td>0</td>\n",
       "      <td>0</td>\n",
       "      <td>20</td>\n",
       "      <td>161</td>\n",
       "    </tr>\n",
       "    <tr>\n",
       "      <th>2</th>\n",
       "      <td>0</td>\n",
       "      <td>20</td>\n",
       "      <td>0</td>\n",
       "      <td>185</td>\n",
       "    </tr>\n",
       "    <tr>\n",
       "      <th>3</th>\n",
       "      <td>0</td>\n",
       "      <td>20</td>\n",
       "      <td>20</td>\n",
       "      <td>132</td>\n",
       "    </tr>\n",
       "    <tr>\n",
       "      <th>4</th>\n",
       "      <td>20</td>\n",
       "      <td>0</td>\n",
       "      <td>0</td>\n",
       "      <td>217</td>\n",
       "    </tr>\n",
       "    <tr>\n",
       "      <th>5</th>\n",
       "      <td>20</td>\n",
       "      <td>0</td>\n",
       "      <td>20</td>\n",
       "      <td>162</td>\n",
       "    </tr>\n",
       "    <tr>\n",
       "      <th>6</th>\n",
       "      <td>20</td>\n",
       "      <td>20</td>\n",
       "      <td>0</td>\n",
       "      <td>190</td>\n",
       "    </tr>\n",
       "    <tr>\n",
       "      <th>7</th>\n",
       "      <td>20</td>\n",
       "      <td>20</td>\n",
       "      <td>20</td>\n",
       "      <td>136</td>\n",
       "    </tr>\n",
       "  </tbody>\n",
       "</table>\n",
       "</div>"
      ],
      "text/plain": [
       "   Cl  SO4  PO3  Стрелка\n",
       "0   0    0    0      214\n",
       "1   0    0   20      161\n",
       "2   0   20    0      185\n",
       "3   0   20   20      132\n",
       "4  20    0    0      217\n",
       "5  20    0   20      162\n",
       "6  20   20    0      190\n",
       "7  20   20   20      136"
      ]
     },
     "metadata": {},
     "output_type": "display_data"
    }
   ],
   "source": [
    "display(dfFlame)"
   ]
  },
  {
   "cell_type": "markdown",
   "id": "fb7e9bd3",
   "metadata": {},
   "source": [
    "**Легенда к заданию.**\n",
    "\n",
    "Изучается влияние хлоридов, сульфатов и фосфатов на определение кальцияпламенно-фотометрическим методом:\n",
    "* **Cl** – содержание хлоридов (%),\n",
    "* **SO4** – cодержание сульфатов,\n",
    "* **PO3** – cодержание фосфатов,\n",
    "* **Стрелка** – отклонение стрелки."
   ]
  },
  {
   "cell_type": "markdown",
   "id": "7746bf9e",
   "metadata": {},
   "source": [
    "К нашему счастью, нам нужно лишь повторить то, что мы уже делали. "
   ]
  },
  {
   "cell_type": "code",
   "execution_count": 113,
   "id": "65ecee3a",
   "metadata": {},
   "outputs": [],
   "source": [
    "dfFlameFeatures = dfFlame[['Cl', 'SO4', 'PO3']]\n",
    "arrow = dfFlame['Стрелка']"
   ]
  },
  {
   "cell_type": "code",
   "execution_count": 117,
   "id": "9d8344a7",
   "metadata": {},
   "outputs": [
    {
     "name": "stdout",
     "output_type": "stream",
     "text": [
      "Coefficients: [ 0.1625 -1.3875 -2.6875]\n",
      "Intercept: 213.75\n",
      "0.9993872444724345\n"
     ]
    }
   ],
   "source": [
    "model = LinearRegression()\n",
    "model.fit(dfFlameFeatures, arrow)\n",
    "R2 = r2_score(arrow, model.predict(dfFlameFeatures))\n",
    "print(\"Coefficients:\", model.coef_)\n",
    "print(\"Intercept:\", model.intercept_)\n",
    "print(R2)"
   ]
  },
  {
   "cell_type": "markdown",
   "id": "5146a2cc",
   "metadata": {},
   "source": [
    "Мы видим, что коэффициент $R^2$ снова почти что $1$. Следовательно, регрессия объясняет практически весь разброс данных."
   ]
  },
  {
   "cell_type": "code",
   "execution_count": null,
   "id": "f7095a52",
   "metadata": {},
   "outputs": [],
   "source": []
  },
  {
   "cell_type": "code",
   "execution_count": null,
   "id": "f6e210ee",
   "metadata": {},
   "outputs": [],
   "source": []
  },
  {
   "cell_type": "code",
   "execution_count": null,
   "id": "867e7d7b",
   "metadata": {},
   "outputs": [],
   "source": []
  },
  {
   "cell_type": "code",
   "execution_count": null,
   "id": "e636b694",
   "metadata": {},
   "outputs": [],
   "source": []
  },
  {
   "cell_type": "code",
   "execution_count": null,
   "id": "2dcd6989",
   "metadata": {},
   "outputs": [],
   "source": []
  },
  {
   "cell_type": "code",
   "execution_count": null,
   "id": "fc6b5285",
   "metadata": {},
   "outputs": [],
   "source": []
  },
  {
   "cell_type": "code",
   "execution_count": null,
   "id": "741e0b4c",
   "metadata": {},
   "outputs": [],
   "source": []
  },
  {
   "cell_type": "code",
   "execution_count": null,
   "id": "e60f6dd9",
   "metadata": {},
   "outputs": [],
   "source": []
  },
  {
   "cell_type": "code",
   "execution_count": null,
   "id": "99f1223b",
   "metadata": {},
   "outputs": [],
   "source": [
    "z = np.polyfit(Al, Si, 1)\n",
    "polynom = np.poly1d(z)\n",
    "print(polynom)\n",
    "\n",
    "ns_plot = sns.scatterplot(data = dfControl[sampleColumns], x = 'Al', y = 'Si')\n",
    "\n",
    "\n",
    "# В качестве аргументов `plt.plot()` нам нужно задать точки \n",
    "# и значения нашей прямой\n",
    "plt.plot(Al, polynom(Al), color = 'red')\n",
    "\n",
    "# Добавим сетку, чтобы было ещё красивее\n",
    "plt.grid()"
   ]
  },
  {
   "cell_type": "code",
   "execution_count": null,
   "id": "1d9b5e44",
   "metadata": {},
   "outputs": [],
   "source": []
  },
  {
   "cell_type": "code",
   "execution_count": null,
   "id": "39720b4c",
   "metadata": {},
   "outputs": [],
   "source": []
  },
  {
   "cell_type": "code",
   "execution_count": null,
   "id": "6af58611",
   "metadata": {},
   "outputs": [],
   "source": []
  },
  {
   "cell_type": "code",
   "execution_count": null,
   "id": "5cab1c55",
   "metadata": {},
   "outputs": [],
   "source": []
  },
  {
   "cell_type": "code",
   "execution_count": null,
   "id": "e9e36a59",
   "metadata": {},
   "outputs": [],
   "source": []
  },
  {
   "cell_type": "code",
   "execution_count": null,
   "id": "dc7d1939",
   "metadata": {},
   "outputs": [],
   "source": []
  },
  {
   "cell_type": "code",
   "execution_count": null,
   "id": "0273b2da",
   "metadata": {},
   "outputs": [],
   "source": []
  },
  {
   "cell_type": "code",
   "execution_count": null,
   "id": "3a9e9140",
   "metadata": {},
   "outputs": [],
   "source": []
  },
  {
   "cell_type": "code",
   "execution_count": null,
   "id": "a9d37271",
   "metadata": {},
   "outputs": [],
   "source": []
  },
  {
   "cell_type": "code",
   "execution_count": null,
   "id": "3ba5b757",
   "metadata": {},
   "outputs": [],
   "source": []
  },
  {
   "cell_type": "code",
   "execution_count": null,
   "id": "e485974c",
   "metadata": {},
   "outputs": [],
   "source": []
  },
  {
   "cell_type": "code",
   "execution_count": null,
   "id": "481a871a",
   "metadata": {},
   "outputs": [],
   "source": []
  },
  {
   "cell_type": "code",
   "execution_count": null,
   "id": "c4138c93",
   "metadata": {},
   "outputs": [],
   "source": []
  },
  {
   "cell_type": "code",
   "execution_count": null,
   "id": "6e095c42",
   "metadata": {},
   "outputs": [],
   "source": []
  },
  {
   "cell_type": "code",
   "execution_count": null,
   "id": "f3759c2c",
   "metadata": {},
   "outputs": [],
   "source": []
  },
  {
   "cell_type": "code",
   "execution_count": null,
   "id": "165fb2d7",
   "metadata": {},
   "outputs": [],
   "source": []
  },
  {
   "cell_type": "code",
   "execution_count": null,
   "id": "30256478",
   "metadata": {},
   "outputs": [],
   "source": []
  },
  {
   "cell_type": "code",
   "execution_count": null,
   "id": "3ec5b19c",
   "metadata": {},
   "outputs": [],
   "source": []
  },
  {
   "cell_type": "code",
   "execution_count": null,
   "id": "af306e2d",
   "metadata": {},
   "outputs": [],
   "source": []
  },
  {
   "cell_type": "code",
   "execution_count": null,
   "id": "0ebdf22f",
   "metadata": {},
   "outputs": [],
   "source": []
  },
  {
   "cell_type": "markdown",
   "id": "9131128c",
   "metadata": {},
   "source": [
    "Как вы уже знаете, в математической статистике существует задача проверки статистических гипотез: нулевая гипотеза проверяется против кaакой-либо альтернативы. Напомню, что в прошлый раз вы занимались проверкой двух выборок на однородность. На этом занятии мы будем проверять на однородность несколького выборок. Но сначала небольшое напоминание."
   ]
  },
  {
   "cell_type": "markdown",
   "id": "761f803f",
   "metadata": {},
   "source": [
    "### Напоминание. Сравнение средних двух выборок. Криетрий Стьюдента."
   ]
  },
  {
   "cell_type": "markdown",
   "id": "c04a0209",
   "metadata": {},
   "source": [
    "Для сравнения средних двух выборок можно использовать критерий Стьюдента (или, как его ещё называют, $t$-тест)."
   ]
  },
  {
   "cell_type": "markdown",
   "id": "b88b7244",
   "metadata": {},
   "source": [
    "Стоит отметить, что классический критерий Стьюдента использует предположение о том, что дисперсии равны."
   ]
  },
  {
   "cell_type": "markdown",
   "id": "b11e5215",
   "metadata": {},
   "source": [
    "Рассмотрим следующие гипотезы:\n",
    "<br>$H_0:$ Выборки имеют равные средние,\n",
    "<br>$H_1:$ Выборки имеют различные средние."
   ]
  },
  {
   "cell_type": "markdown",
   "id": "6240c9e9",
   "metadata": {},
   "source": [
    "Пусть есть две независимые нормальные выборки объёма $n_1$ и $n_2$. В случае совпадения дисперсий статистика критерия имеет вид"
   ]
  },
  {
   "cell_type": "markdown",
   "id": "e28f4ff2",
   "metadata": {},
   "source": [
    "$$\n",
    "t = \\frac{\\overline X_1 - \\overline X_2}{s_X \\sqrt{\\frac{1}{n_1}+\\frac{1}{n_2}}} ~,~~s_X=\\sqrt {\\frac{(n_1 - 1)s_1^2 + (n_2 - 1)s_2^2}{n_1 + n_2 - 2}},\n",
    "$$\n",
    "где $s$ – несмещённая оценка дисперсии:\n",
    "$$\n",
    "s^2=\\frac {\\sum^n_{t=1}(X_t-\\overline X)^2}{n-1}\n",
    "$$"
   ]
  },
  {
   "cell_type": "markdown",
   "id": "0f395ea9",
   "metadata": {},
   "source": [
    "Отметим также, что эта статистика имеет распределение Стьюдента $t(n_1 + n_2 - 2)$."
   ]
  },
  {
   "cell_type": "markdown",
   "id": "853de357",
   "metadata": {},
   "source": [
    "## Часть 1. Сравнение дисперсий нескольких выборок."
   ]
  },
  {
   "cell_type": "markdown",
   "id": "9c8c577d",
   "metadata": {},
   "source": [
    "В предположении нормальности выборок для проверки равенства дисперсий нескольких выборок можно использовать криетрий Бартлетта."
   ]
  },
  {
   "cell_type": "markdown",
   "id": "2b3acc34",
   "metadata": {},
   "source": [
    "Пусть все $X_{ij} \\sim \\mathcal{N}(m_j, \\sigma_j), \\:(i = 1, \\dots, n_j, j = 1, \\dots, k)$ независимы, при этом параметры $m_j, \\sigma_j$ неизвестны. Как мы знаем, несмещёнными оценками для параметров сдвига и масштаба являются:"
   ]
  },
  {
   "cell_type": "markdown",
   "id": "a75bb975",
   "metadata": {},
   "source": [
    "$$\n",
    "X_{\\cdot j} = \\dfrac{1}{n_j} \\sum_{i = 1}^{n_j} X_{ij} \\; \\text{и} \\; S_{j}^{2} = \\dfrac{1}{n_j - 1} \\sum_{i = 1}^{n_j}(X_{ij} - X_{\\cdot j})^2.\n",
    "$$"
   ]
  },
  {
   "cell_type": "markdown",
   "id": "9ae46097",
   "metadata": {},
   "source": [
    "Положим $N = n_1 + \\dots + n_k$. Проверяется гипотеза равенства всех дисперсий:\n",
    "<br>$H_0:$ Все выборки имеют равные дисперсии,\n",
    "<br>$H_1:$ Не все выборки имеют равные дисперсии."
   ]
  },
  {
   "cell_type": "markdown",
   "id": "53b4b01b",
   "metadata": {},
   "source": [
    "Статистикой критерия Бартлетта является следующая функция"
   ]
  },
  {
   "cell_type": "markdown",
   "id": "ae809320",
   "metadata": {},
   "source": [
    "$$\n",
    "B = \\dfrac{\\dfrac{1}{N} \\sum_{j = 1}^{k} n_j S_j^2}{\\sqrt[N]{\\prod_{j = 1}^{k}(S_j^2)^{n_j}}}.\n",
    "$$"
   ]
  },
  {
   "cell_type": "markdown",
   "id": "9a2b12da",
   "metadata": {},
   "source": [
    "Если нулевая гипотеза выполняется и все $n_j > 3$, то статистика"
   ]
  },
  {
   "cell_type": "markdown",
   "id": "6ba1957a",
   "metadata": {},
   "source": [
    "$$\n",
    "B^* = \\gamma^{-1} N \\ln{B}, \\text{где } \\gamma = 1 + \\dfrac{1}{3(k - 1) }\\left[\\left( \\sum_{j = 1}^{k} \\dfrac{1}{n_j} \\right) - \\dfrac{1}{N} \\right]\n",
    "$$"
   ]
  },
  {
   "cell_type": "markdown",
   "id": "488752a4",
   "metadata": {},
   "source": [
    "приближённо имеет $\\chi_{k - 1}^2$ распределение."
   ]
  },
  {
   "cell_type": "markdown",
   "id": "9cf4f987",
   "metadata": {},
   "source": [
    "Проверим критерий Бартлетта для следующего набора данных."
   ]
  },
  {
   "cell_type": "code",
   "execution_count": null,
   "id": "72b82478",
   "metadata": {
    "scrolled": true
   },
   "outputs": [],
   "source": [
    "import pandas as pd\n",
    "import scipy.stats as stats\n",
    "import seaborn as sns\n",
    "import matplotlib.pyplot as plt\n",
    "pd.set_option('display.max_rows', 100)\n",
    "df = pd.read_excel(\"../Data/Chromium.xls\")\n",
    "df.head()"
   ]
  },
  {
   "cell_type": "markdown",
   "id": "e709a2fb",
   "metadata": {},
   "source": [
    "**Легенда к заданию.**\n",
    "\n",
    "Исследовалось содержание хрома в стальном пруте, разрезанном на пластины. Каждую пластину измеряли несколько раз.\n",
    "* **Пласт** – номер пластины,\n",
    "* **Cr** – содержание хрома (%)."
   ]
  },
  {
   "cell_type": "code",
   "execution_count": null,
   "id": "b5d00d7f",
   "metadata": {
    "scrolled": true
   },
   "outputs": [],
   "source": [
    "display(df)"
   ]
  },
  {
   "cell_type": "markdown",
   "id": "506d1cd6",
   "metadata": {},
   "source": [
    "Как обычно, давайте вызовем метод `info()`."
   ]
  },
  {
   "cell_type": "code",
   "execution_count": null,
   "id": "ea48d6b4",
   "metadata": {},
   "outputs": [],
   "source": [
    "df.info()"
   ]
  },
  {
   "cell_type": "markdown",
   "id": "644f13c3",
   "metadata": {},
   "source": [
    "В этот раз я снова заранее подготовил данные."
   ]
  },
  {
   "cell_type": "markdown",
   "id": "e5e1bab0",
   "metadata": {},
   "source": [
    "Также давайте вызовем метод `describe()`."
   ]
  },
  {
   "cell_type": "code",
   "execution_count": null,
   "id": "46cb1041",
   "metadata": {},
   "outputs": [],
   "source": [
    "df.describe()"
   ]
  },
  {
   "cell_type": "markdown",
   "id": "0f61d9e1",
   "metadata": {},
   "source": [
    "Как мы видим из таблицы наших исходных данных выше, у нас есть 8 пластин – выборок, дисперсии которых и нужно проверить. Давайте придумаем какую-нибудь более изящную функцию для создания выборок, чем просто перечисление столбцов таблицы в качестве аргумента функции."
   ]
  },
  {
   "cell_type": "markdown",
   "id": "1f5bdf09",
   "metadata": {},
   "source": [
    "Сначала заведём список, в который положим названия всех колонок из таблицы. "
   ]
  },
  {
   "cell_type": "code",
   "execution_count": null,
   "id": "a878ca25",
   "metadata": {},
   "outputs": [],
   "source": [
    "names = list(df.columns)\n",
    "print(names)"
   ]
  },
  {
   "cell_type": "markdown",
   "id": "e5c8fd95",
   "metadata": {},
   "source": [
    "Будем использовать оператор `*` для автоматического перебора по всем таблицы – распаковки в аргументы функции. Подробнее можно прочитать, например, [тут](https://tproger.ru/translations/asterisks-in-python-what-they-are-and-how-to-use-them/)."
   ]
  },
  {
   "cell_type": "code",
   "execution_count": null,
   "id": "d458f3f0",
   "metadata": {},
   "outputs": [],
   "source": [
    "f, p = stats.bartlett(*[df[col] for col in names])\n",
    "print(\"F:\", f)\n",
    "print(\"P-value:\", p)"
   ]
  },
  {
   "cell_type": "markdown",
   "id": "610884b5",
   "metadata": {},
   "source": [
    "Мы получили большое $P$-значение. Значит, достаточно уверенно мы можем принять гипотезу о равенстве дисперсий."
   ]
  },
  {
   "cell_type": "markdown",
   "id": "f36c58df",
   "metadata": {},
   "source": [
    "## Часть 2. Сравнение средних нескольких выборок."
   ]
  },
  {
   "cell_type": "markdown",
   "id": "6daceaf9",
   "metadata": {},
   "source": [
    "Классический критерий Стьюдента существенно использует предположение о нормальности выборок, а также о равенстве дисперсий. Сохраним это требование на случай многих выборок. Тем более, равенство диперсий мы уже проверили."
   ]
  },
  {
   "cell_type": "markdown",
   "id": "3644f3ea",
   "metadata": {},
   "source": [
    "Давайте рассмотрим задачу проверки средних нескольких выборок. Сформулируем следующие гипотезы."
   ]
  },
  {
   "cell_type": "markdown",
   "id": "9880658e",
   "metadata": {},
   "source": [
    "$H_0:$ Все выборки имеют равные средние,\n",
    "<br>$H_1:$ Не все выборки имеют равные средние."
   ]
  },
  {
   "cell_type": "markdown",
   "id": "ec990031",
   "metadata": {},
   "source": [
    "Для выполнения однофакторного дисперсионного анализа будем использовать метод `f_oneway()` из библиотеки `scipy.stats`."
   ]
  },
  {
   "cell_type": "code",
   "execution_count": null,
   "id": "142acbb7",
   "metadata": {},
   "outputs": [],
   "source": [
    "f, p = stats.f_oneway(*[df[col] for col in names])\n",
    "print(\"F:\", f)\n",
    "print(\"P-value:\", p)"
   ]
  },
  {
   "cell_type": "markdown",
   "id": "b3646299",
   "metadata": {},
   "source": [
    "Что мы видим? Значение статистики большое. $P$-значение при этом очень маленькое. Значит, мы достаточно уверенно можем отклонить гипотезу о равенстве средних."
   ]
  },
  {
   "cell_type": "markdown",
   "id": "55853da1",
   "metadata": {},
   "source": [
    "## Часть 3. Замечание про \"длинный\" формат таблицы и ящики с усами."
   ]
  },
  {
   "cell_type": "markdown",
   "id": "323380be",
   "metadata": {},
   "source": [
    "Наша исходная таблица представлена в \"широком\" формате. Такой формат более удобно читать человеку, но для компьютера лучше годится \"длинный\" формат. Выполним необходимые преобразования, наблюдая разницу."
   ]
  },
  {
   "cell_type": "code",
   "execution_count": null,
   "id": "41995ddb",
   "metadata": {
    "scrolled": true
   },
   "outputs": [],
   "source": [
    "display(df)"
   ]
  },
  {
   "cell_type": "code",
   "execution_count": null,
   "id": "de251396",
   "metadata": {},
   "outputs": [],
   "source": [
    "dfMelt = pd.melt(df, var_name = 'plast', value_name = 'value' )"
   ]
  },
  {
   "cell_type": "code",
   "execution_count": null,
   "id": "ed04bf7b",
   "metadata": {
    "scrolled": true
   },
   "outputs": [],
   "source": [
    "print(dfMelt)"
   ]
  },
  {
   "cell_type": "code",
   "execution_count": null,
   "id": "a46a5411",
   "metadata": {
    "scrolled": true
   },
   "outputs": [],
   "source": [
    "sns.boxplot(x = 'plast', y = 'value', data=dfMelt)"
   ]
  },
  {
   "cell_type": "markdown",
   "id": "05309520",
   "metadata": {},
   "source": [
    "Как следует понимать эти картинки?\n",
    "* Если ящик короткий, а усы – длинные, то это означает, что данные плотно сгруппированы вокруг медианы, и дисперсия маленькая. \n",
    "* Если квадрат длинный, а усы – короткие, это указывает на то, что данные разбросаны, и дисперсия большая."
   ]
  },
  {
   "cell_type": "markdown",
   "id": "61b85bae",
   "metadata": {},
   "source": [
    "## Часть 4. Поиск зависимости дисперсии от среднего."
   ]
  },
  {
   "cell_type": "markdown",
   "id": "0dc30f63",
   "metadata": {},
   "source": [
    "Для начала давайте примением критерий Бартлетта для проверки дисперсий следующего набора данных."
   ]
  },
  {
   "cell_type": "code",
   "execution_count": null,
   "id": "737c9ca9",
   "metadata": {},
   "outputs": [],
   "source": [
    "dfSamples = pd.read_excel('../Data/Samples.xls')"
   ]
  },
  {
   "cell_type": "code",
   "execution_count": null,
   "id": "097f7611",
   "metadata": {},
   "outputs": [],
   "source": [
    "dfSamples.head()"
   ]
  },
  {
   "cell_type": "code",
   "execution_count": null,
   "id": "eb47da3a",
   "metadata": {},
   "outputs": [],
   "source": [
    "dfSamples.info()"
   ]
  },
  {
   "cell_type": "code",
   "execution_count": null,
   "id": "6b39df2b",
   "metadata": {},
   "outputs": [],
   "source": [
    "dfSamples.describe()"
   ]
  },
  {
   "cell_type": "code",
   "execution_count": null,
   "id": "20499e31",
   "metadata": {},
   "outputs": [],
   "source": [
    "names = list(dfSamples.columns)\n",
    "f, p = stats.bartlett(*[dfSamples[col] for col in names])\n",
    "print(\"F:\", f)\n",
    "print(\"P-value:\", p)"
   ]
  },
  {
   "cell_type": "markdown",
   "id": "b373ac0a",
   "metadata": {},
   "source": [
    "Вновь получаем достаточно маленькое $P$-значение. Следовательно, нулевую гипотезу о равенстве дисперсий можно отклонять. "
   ]
  },
  {
   "cell_type": "markdown",
   "id": "40165e32",
   "metadata": {},
   "source": [
    "Но от чего же зависят значения дисперсий? Самая наивная идея, которая только может здесь возникнуть состоит в том, что значения дисперсий зависят от значений средних. \n",
    "\n",
    "При этом тут есть маленький нюанс, связанный с размерностями: размерности диперсии и среднего не равны. Поэтому вместо дисперсии давайте брать среднеквадратичное отклонение.\n",
    "\n",
    "Проверим эту идею и построим график зависимости отклонения от среднего."
   ]
  },
  {
   "cell_type": "markdown",
   "id": "4e16f081",
   "metadata": {},
   "source": [
    "Зададим какой-нибудь пустой список, который будет содержать пары точек на плоскости для построения графика. Этими парами будут являться `std` и `mean`. "
   ]
  },
  {
   "cell_type": "code",
   "execution_count": null,
   "id": "88aafffd",
   "metadata": {},
   "outputs": [],
   "source": [
    "dots = []\n",
    "for column in dfSamples.columns:\n",
    "    dots.append([dfSamples[column].std(), dfSamples[column].mean()])\n",
    "print(dots)"
   ]
  },
  {
   "cell_type": "markdown",
   "id": "27f76320",
   "metadata": {},
   "source": [
    "Осталось только построить график! Снова используем оператор `*`, а также метод `zip()`."
   ]
  },
  {
   "cell_type": "code",
   "execution_count": null,
   "id": "4ede84ad",
   "metadata": {},
   "outputs": [],
   "source": [
    "plt.scatter(*zip(*dots), color = 'red')\n",
    "plt.plot(*zip(*dots), color = 'blue')\n",
    "plt.xlabel('std')\n",
    "plt.ylabel('mean')"
   ]
  },
  {
   "cell_type": "markdown",
   "id": "6677c956",
   "metadata": {},
   "source": [
    "**P.S.** Посмотрите, как работает `zip()`."
   ]
  },
  {
   "cell_type": "markdown",
   "id": "a9051133",
   "metadata": {},
   "source": [
    "> Контрольный вопрос: чем `zip(dots)` отличается от `zip(*dots)`?"
   ]
  },
  {
   "cell_type": "markdown",
   "id": "53525c5e",
   "metadata": {},
   "source": [
    "## Задача."
   ]
  },
  {
   "cell_type": "markdown",
   "id": "cb345a59",
   "metadata": {},
   "source": [
    "Выполнить своё индивидуальное задание."
   ]
  }
 ],
 "metadata": {
  "kernelspec": {
   "display_name": "Python 3 (ipykernel)",
   "language": "python",
   "name": "python3"
  },
  "language_info": {
   "codemirror_mode": {
    "name": "ipython",
    "version": 3
   },
   "file_extension": ".py",
   "mimetype": "text/x-python",
   "name": "python",
   "nbconvert_exporter": "python",
   "pygments_lexer": "ipython3",
   "version": "3.9.13"
  }
 },
 "nbformat": 4,
 "nbformat_minor": 5
}
