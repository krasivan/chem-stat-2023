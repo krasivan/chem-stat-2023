{
 "cells": [
  {
   "cell_type": "markdown",
   "id": "76947c28",
   "metadata": {},
   "source": [
    "# Lesson 3"
   ]
  },
  {
   "cell_type": "markdown",
   "id": "079f8743",
   "metadata": {},
   "source": [
    "## Intro"
   ]
  },
  {
   "cell_type": "markdown",
   "id": "66fd76b6",
   "metadata": {},
   "source": [
    "Hello, everyone! Here is the material for the third lesson."
   ]
  },
  {
   "cell_type": "markdown",
   "id": "c3734a4f",
   "metadata": {},
   "source": [
    "As an introduction, let's look at the following example for contextual immersion - make sure you understand all the words in this introduction."
   ]
  },
  {
   "cell_type": "markdown",
   "id": "288a6439",
   "metadata": {},
   "source": [
    "Suppose you have many different experts, each of whom is given individual statistical material on the basis of which you need to solve a correlation analysis problem with which you are already familiar. Also assume that they need to decide to reject the hypothesis at the $5\\%$ significance level. Finally, let's assume that they are all investigating a case of independence. Thus, we would expect, on average, $5\\%$ of the experts to reject the correct hypothesis (in other words *make a Type I error*)."
   ]
  },
  {
   "cell_type": "markdown",
   "id": "09e47d39",
   "metadata": {},
   "source": [
    "Let $t$ be some positive value at which the corresponding $P$- value is $5\\%$, i.e. $P(r < t) = 0.05$. For the corresponding negative value we have $P(r < -t) = 0.05$."
   ]
  },
  {
   "cell_type": "markdown",
   "id": "55e06799",
   "metadata": {},
   "source": [
    "## Part 1. Parametric Tasks."
   ]
  },
  {
   "cell_type": "markdown",
   "id": "893820a1",
   "metadata": {},
   "source": [
    "Let there be some sample. For the purposes of this assignment, we will always assume that the sample is normal (in other words, that the sample has a normal distribution)."
   ]
  },
  {
   "cell_type": "markdown",
   "id": "c28fdb66",
   "metadata": {},
   "source": [
    "We can also think of it this way: by sampling we mean a series of independent measurements of some physical quantity, i.e. the result of the measurement can be represented as"
   ]
  },
  {
   "cell_type": "markdown",
   "id": "5bb3ddaf",
   "metadata": {},
   "source": [
    "$$\n",
    "X = a + \\varepsilon,\n",
    "$$"
   ]
  },
  {
   "cell_type": "markdown",
   "id": "e2f5e5b0",
   "metadata": {},
   "source": [
    "where $a$ is the true value of the measured quantity (fixed, non-random, but not known in advance); $\\varepsilon$ is the error of measurement (a random variable, different for each new experiment)."
   ]
  },
  {
   "cell_type": "markdown",
   "id": "50f27375",
   "metadata": {},
   "source": [
    "Let us now represent the error of measurement $\\varepsilon$ as the sum of the random error $\\varepsilon_0$ with zero mathematical expectation and some fixed component $\\mathbb{E}\\varepsilon$, which is the systematic error:"
   ]
  },
  {
   "cell_type": "markdown",
   "id": "a2152e8d",
   "metadata": {},
   "source": [
    "$$\n",
    "\\varepsilon = \\varepsilon_0 + \\mathbb{E}\\varepsilon.\n",
    "$$"
   ]
  },
  {
   "cell_type": "markdown",
   "id": "3c3c0bb3",
   "metadata": {},
   "source": [
    "> In simpler terms: You conduct a series of experiments on an instrument. Because you do not change the instrument on which you perform your tests, your systematic error does not change. However, you always have some random error, which differs from test to test. "
   ]
  },
  {
   "cell_type": "markdown",
   "id": "c7d21e00",
   "metadata": {},
   "source": [
    "The result of the measurement $X$ can now be written as "
   ]
  },
  {
   "cell_type": "markdown",
   "id": "ee4ebdce",
   "metadata": {},
   "source": [
    "$$\n",
    "X = a + \\varepsilon_0 + \\mathbb{E}\\varepsilon.\n",
    "$$"
   ]
  },
  {
   "cell_type": "markdown",
   "id": "75ef0db9",
   "metadata": {},
   "source": [
    "### 1.1. Zero Systematic Error. "
   ]
  },
  {
   "cell_type": "markdown",
   "id": "ef1f7a69",
   "metadata": {},
   "source": [
    "If $\\mathbb{E}\\varepsilon = 0$, then passing to the expectation we have"
   ]
  },
  {
   "cell_type": "markdown",
   "id": "c698fba5",
   "metadata": {},
   "source": [
    "$\n",
    "\\mathbb{E} X = \\mathbb{E} a = a.\n",
    "$"
   ]
  },
  {
   "cell_type": "markdown",
   "id": "1db66114",
   "metadata": {},
   "source": [
    "Thus, the task of finding the true value of the measured value is reduced to the task of estimating the mathematical expectation of the sample."
   ]
  },
  {
   "cell_type": "markdown",
   "id": "69b67615",
   "metadata": {},
   "source": [
    "### 1.2. Non-Zero Systematic Error. "
   ]
  },
  {
   "cell_type": "markdown",
   "id": "93d9f361",
   "metadata": {},
   "source": [
    "If $\\mathbb{E}\\varepsilon \\neq 0$, then going to the expectation we have"
   ]
  },
  {
   "cell_type": "markdown",
   "id": "a52a9767",
   "metadata": {},
   "source": [
    "$\n",
    "\\mathbb{E} X = \\mathbb{E} a + \\mathbb{E} \\varepsilon \\neq a.\n",
    "$"
   ]
  },
  {
   "cell_type": "markdown",
   "id": "2bd1ac55",
   "metadata": {},
   "source": [
    "In this case, nothing good will come of it, because even though we can determine $\\mathbb{E}X$, we won't have enough. So it is important to try to get rid of systematic error whenever possible. "
   ]
  },
  {
   "cell_type": "markdown",
   "id": "a3cedc90",
   "metadata": {},
   "source": [
    "#### Remark"
   ]
  },
  {
   "cell_type": "markdown",
   "id": "21529b48",
   "metadata": {},
   "source": [
    "Turning to the variance in the same equality, we get"
   ]
  },
  {
   "cell_type": "markdown",
   "id": "40603ea8",
   "metadata": {},
   "source": [
    "$$\n",
    "D X = D \\varepsilon,\n",
    "$$"
   ]
  },
  {
   "cell_type": "markdown",
   "id": "217bb717",
   "metadata": {},
   "source": [
    "i.e., the variance really determines the random scatter of the measurement results around the mean."
   ]
  },
  {
   "cell_type": "markdown",
   "id": "53d27e27",
   "metadata": {},
   "source": [
    "## Part 2. Comparison of the Variance of the Two Samples."
   ]
  },
  {
   "cell_type": "markdown",
   "id": "6a73d9fa",
   "metadata": {},
   "source": [
    "Consider the following hypotheses:\n",
    "<br>$H_0:$ The samples have equal variance,\n",
    "<br>$H_1:$ The samples have different variances."
   ]
  },
  {
   "cell_type": "markdown",
   "id": "6053636e",
   "metadata": {},
   "source": [
    "To check for equality of variance, we will conduct the $F$-test or, as it is also called, the Fisher test (or the $F$-criterion)."
   ]
  },
  {
   "cell_type": "markdown",
   "id": "fe270f6a",
   "metadata": {},
   "source": [
    "The statistic of the criterion is the value $F$, which is the ratio of the point estimates of the variance of each of the samples:\n",
    "$$\n",
    "F = \\dfrac{\\hat{\\sigma}_X^2}{\\hat{\\sigma}_Y^2}\n",
    "$$"
   ]
  },
  {
   "cell_type": "markdown",
   "id": "de761e0b",
   "metadata": {},
   "source": [
    "It can be proved that if the variances of the samples are equal if the samples are normal, then the distribution of $F$-statistics is known and depends only on the volumes of the samples."
   ]
  },
  {
   "cell_type": "markdown",
   "id": "56882a85",
   "metadata": {},
   "source": [
    "If the variance is different, the $F$-statistics will deviate."
   ]
  },
  {
   "cell_type": "markdown",
   "id": "1a29118d",
   "metadata": {},
   "source": [
    "For two samples of volume $m$ and $n$ of normal random variables $X$ and $Y$, respectively, the $F$-statistic will have a Fisher distribution $F(m - 1, n - 1)$."
   ]
  },
  {
   "cell_type": "markdown",
   "id": "d9c09ae0",
   "metadata": {},
   "source": [
    "Let's finally get busy."
   ]
  },
  {
   "cell_type": "code",
   "execution_count": 1,
   "id": "9f1a3d0f",
   "metadata": {},
   "outputs": [
    {
     "data": {
      "text/html": [
       "<div>\n",
       "<style scoped>\n",
       "    .dataframe tbody tr th:only-of-type {\n",
       "        vertical-align: middle;\n",
       "    }\n",
       "\n",
       "    .dataframe tbody tr th {\n",
       "        vertical-align: top;\n",
       "    }\n",
       "\n",
       "    .dataframe thead th {\n",
       "        text-align: right;\n",
       "    }\n",
       "</style>\n",
       "<table border=\"1\" class=\"dataframe\">\n",
       "  <thead>\n",
       "    <tr style=\"text-align: right;\">\n",
       "      <th></th>\n",
       "      <th>Method</th>\n",
       "      <th>CuO</th>\n",
       "      <th>Part</th>\n",
       "      <th>CuSO4</th>\n",
       "      <th>Group</th>\n",
       "      <th>N</th>\n",
       "      <th>Place</th>\n",
       "      <th>X</th>\n",
       "      <th>Т(С)</th>\n",
       "      <th>Product</th>\n",
       "    </tr>\n",
       "  </thead>\n",
       "  <tbody>\n",
       "    <tr>\n",
       "      <th>0</th>\n",
       "      <td>1.0</td>\n",
       "      <td>38.20</td>\n",
       "      <td>1.0</td>\n",
       "      <td>98.2</td>\n",
       "      <td>1.0</td>\n",
       "      <td>9.29</td>\n",
       "      <td>1.0</td>\n",
       "      <td>26.3</td>\n",
       "      <td>20</td>\n",
       "      <td>2.4</td>\n",
       "    </tr>\n",
       "    <tr>\n",
       "      <th>1</th>\n",
       "      <td>1.0</td>\n",
       "      <td>38.00</td>\n",
       "      <td>1.0</td>\n",
       "      <td>98.7</td>\n",
       "      <td>1.0</td>\n",
       "      <td>9.38</td>\n",
       "      <td>1.0</td>\n",
       "      <td>26.6</td>\n",
       "      <td>20</td>\n",
       "      <td>3.3</td>\n",
       "    </tr>\n",
       "    <tr>\n",
       "      <th>2</th>\n",
       "      <td>1.0</td>\n",
       "      <td>37.66</td>\n",
       "      <td>1.0</td>\n",
       "      <td>97.8</td>\n",
       "      <td>1.0</td>\n",
       "      <td>9.35</td>\n",
       "      <td>1.0</td>\n",
       "      <td>26.1</td>\n",
       "      <td>20</td>\n",
       "      <td>3.4</td>\n",
       "    </tr>\n",
       "    <tr>\n",
       "      <th>3</th>\n",
       "      <td>2.0</td>\n",
       "      <td>37.70</td>\n",
       "      <td>2.0</td>\n",
       "      <td>98.1</td>\n",
       "      <td>1.0</td>\n",
       "      <td>9.43</td>\n",
       "      <td>1.0</td>\n",
       "      <td>26.0</td>\n",
       "      <td>20</td>\n",
       "      <td>3.2</td>\n",
       "    </tr>\n",
       "    <tr>\n",
       "      <th>4</th>\n",
       "      <td>2.0</td>\n",
       "      <td>37.65</td>\n",
       "      <td>2.0</td>\n",
       "      <td>97.7</td>\n",
       "      <td>2.0</td>\n",
       "      <td>9.53</td>\n",
       "      <td>1.0</td>\n",
       "      <td>26.9</td>\n",
       "      <td>20</td>\n",
       "      <td>4.4</td>\n",
       "    </tr>\n",
       "  </tbody>\n",
       "</table>\n",
       "</div>"
      ],
      "text/plain": [
       "   Method    CuO  Part  CuSO4  Group     N  Place     X  Т(С)  Product\n",
       "0     1.0  38.20   1.0   98.2    1.0  9.29    1.0  26.3    20      2.4\n",
       "1     1.0  38.00   1.0   98.7    1.0  9.38    1.0  26.6    20      3.3\n",
       "2     1.0  37.66   1.0   97.8    1.0  9.35    1.0  26.1    20      3.4\n",
       "3     2.0  37.70   2.0   98.1    1.0  9.43    1.0  26.0    20      3.2\n",
       "4     2.0  37.65   2.0   97.7    2.0  9.53    1.0  26.9    20      4.4"
      ]
     },
     "execution_count": 1,
     "metadata": {},
     "output_type": "execute_result"
    }
   ],
   "source": [
    "import pandas as pd\n",
    "df = pd.read_excel(\"../Data-EN/Comparisons.xls\")\n",
    "df.head()"
   ]
  },
  {
   "cell_type": "code",
   "execution_count": 2,
   "id": "2ec3e0c6",
   "metadata": {},
   "outputs": [
    {
     "data": {
      "text/html": [
       "<div>\n",
       "<style scoped>\n",
       "    .dataframe tbody tr th:only-of-type {\n",
       "        vertical-align: middle;\n",
       "    }\n",
       "\n",
       "    .dataframe tbody tr th {\n",
       "        vertical-align: top;\n",
       "    }\n",
       "\n",
       "    .dataframe thead th {\n",
       "        text-align: right;\n",
       "    }\n",
       "</style>\n",
       "<table border=\"1\" class=\"dataframe\">\n",
       "  <thead>\n",
       "    <tr style=\"text-align: right;\">\n",
       "      <th></th>\n",
       "      <th>Method</th>\n",
       "      <th>CuO</th>\n",
       "      <th>Part</th>\n",
       "      <th>CuSO4</th>\n",
       "      <th>Group</th>\n",
       "      <th>N</th>\n",
       "      <th>Place</th>\n",
       "      <th>X</th>\n",
       "      <th>Т(С)</th>\n",
       "      <th>Product</th>\n",
       "    </tr>\n",
       "  </thead>\n",
       "  <tbody>\n",
       "    <tr>\n",
       "      <th>0</th>\n",
       "      <td>1.0</td>\n",
       "      <td>38.20</td>\n",
       "      <td>1.0</td>\n",
       "      <td>98.2</td>\n",
       "      <td>1.0</td>\n",
       "      <td>9.29</td>\n",
       "      <td>1.0</td>\n",
       "      <td>26.3</td>\n",
       "      <td>20</td>\n",
       "      <td>2.4</td>\n",
       "    </tr>\n",
       "    <tr>\n",
       "      <th>1</th>\n",
       "      <td>1.0</td>\n",
       "      <td>38.00</td>\n",
       "      <td>1.0</td>\n",
       "      <td>98.7</td>\n",
       "      <td>1.0</td>\n",
       "      <td>9.38</td>\n",
       "      <td>1.0</td>\n",
       "      <td>26.6</td>\n",
       "      <td>20</td>\n",
       "      <td>3.3</td>\n",
       "    </tr>\n",
       "    <tr>\n",
       "      <th>2</th>\n",
       "      <td>1.0</td>\n",
       "      <td>37.66</td>\n",
       "      <td>1.0</td>\n",
       "      <td>97.8</td>\n",
       "      <td>1.0</td>\n",
       "      <td>9.35</td>\n",
       "      <td>1.0</td>\n",
       "      <td>26.1</td>\n",
       "      <td>20</td>\n",
       "      <td>3.4</td>\n",
       "    </tr>\n",
       "    <tr>\n",
       "      <th>3</th>\n",
       "      <td>2.0</td>\n",
       "      <td>37.70</td>\n",
       "      <td>2.0</td>\n",
       "      <td>98.1</td>\n",
       "      <td>1.0</td>\n",
       "      <td>9.43</td>\n",
       "      <td>1.0</td>\n",
       "      <td>26.0</td>\n",
       "      <td>20</td>\n",
       "      <td>3.2</td>\n",
       "    </tr>\n",
       "    <tr>\n",
       "      <th>4</th>\n",
       "      <td>2.0</td>\n",
       "      <td>37.65</td>\n",
       "      <td>2.0</td>\n",
       "      <td>97.7</td>\n",
       "      <td>2.0</td>\n",
       "      <td>9.53</td>\n",
       "      <td>1.0</td>\n",
       "      <td>26.9</td>\n",
       "      <td>20</td>\n",
       "      <td>4.4</td>\n",
       "    </tr>\n",
       "    <tr>\n",
       "      <th>5</th>\n",
       "      <td>2.0</td>\n",
       "      <td>37.55</td>\n",
       "      <td>2.0</td>\n",
       "      <td>97.3</td>\n",
       "      <td>2.0</td>\n",
       "      <td>9.48</td>\n",
       "      <td>2.0</td>\n",
       "      <td>26.8</td>\n",
       "      <td>20</td>\n",
       "      <td>3.4</td>\n",
       "    </tr>\n",
       "    <tr>\n",
       "      <th>6</th>\n",
       "      <td>NaN</td>\n",
       "      <td>NaN</td>\n",
       "      <td>NaN</td>\n",
       "      <td>NaN</td>\n",
       "      <td>2.0</td>\n",
       "      <td>9.61</td>\n",
       "      <td>2.0</td>\n",
       "      <td>26.1</td>\n",
       "      <td>80</td>\n",
       "      <td>1.7</td>\n",
       "    </tr>\n",
       "    <tr>\n",
       "      <th>7</th>\n",
       "      <td>NaN</td>\n",
       "      <td>NaN</td>\n",
       "      <td>NaN</td>\n",
       "      <td>NaN</td>\n",
       "      <td>2.0</td>\n",
       "      <td>9.68</td>\n",
       "      <td>2.0</td>\n",
       "      <td>25.9</td>\n",
       "      <td>80</td>\n",
       "      <td>1.6</td>\n",
       "    </tr>\n",
       "    <tr>\n",
       "      <th>8</th>\n",
       "      <td>NaN</td>\n",
       "      <td>NaN</td>\n",
       "      <td>NaN</td>\n",
       "      <td>NaN</td>\n",
       "      <td>NaN</td>\n",
       "      <td>NaN</td>\n",
       "      <td>2.0</td>\n",
       "      <td>26.4</td>\n",
       "      <td>80</td>\n",
       "      <td>2.7</td>\n",
       "    </tr>\n",
       "    <tr>\n",
       "      <th>9</th>\n",
       "      <td>NaN</td>\n",
       "      <td>NaN</td>\n",
       "      <td>NaN</td>\n",
       "      <td>NaN</td>\n",
       "      <td>NaN</td>\n",
       "      <td>9.52</td>\n",
       "      <td>2.0</td>\n",
       "      <td>26.6</td>\n",
       "      <td>80</td>\n",
       "      <td>2.2</td>\n",
       "    </tr>\n",
       "    <tr>\n",
       "      <th>10</th>\n",
       "      <td>NaN</td>\n",
       "      <td>NaN</td>\n",
       "      <td>NaN</td>\n",
       "      <td>NaN</td>\n",
       "      <td>NaN</td>\n",
       "      <td>NaN</td>\n",
       "      <td>NaN</td>\n",
       "      <td>NaN</td>\n",
       "      <td>80</td>\n",
       "      <td>2.7</td>\n",
       "    </tr>\n",
       "    <tr>\n",
       "      <th>11</th>\n",
       "      <td>NaN</td>\n",
       "      <td>NaN</td>\n",
       "      <td>NaN</td>\n",
       "      <td>NaN</td>\n",
       "      <td>NaN</td>\n",
       "      <td>NaN</td>\n",
       "      <td>NaN</td>\n",
       "      <td>NaN</td>\n",
       "      <td>80</td>\n",
       "      <td>2.1</td>\n",
       "    </tr>\n",
       "  </tbody>\n",
       "</table>\n",
       "</div>"
      ],
      "text/plain": [
       "    Method    CuO  Part  CuSO4  Group     N  Place     X  Т(С)  Product\n",
       "0      1.0  38.20   1.0   98.2    1.0  9.29    1.0  26.3    20      2.4\n",
       "1      1.0  38.00   1.0   98.7    1.0  9.38    1.0  26.6    20      3.3\n",
       "2      1.0  37.66   1.0   97.8    1.0  9.35    1.0  26.1    20      3.4\n",
       "3      2.0  37.70   2.0   98.1    1.0  9.43    1.0  26.0    20      3.2\n",
       "4      2.0  37.65   2.0   97.7    2.0  9.53    1.0  26.9    20      4.4\n",
       "5      2.0  37.55   2.0   97.3    2.0  9.48    2.0  26.8    20      3.4\n",
       "6      NaN    NaN   NaN    NaN    2.0  9.61    2.0  26.1    80      1.7\n",
       "7      NaN    NaN   NaN    NaN    2.0  9.68    2.0  25.9    80      1.6\n",
       "8      NaN    NaN   NaN    NaN    NaN   NaN    2.0  26.4    80      2.7\n",
       "9      NaN    NaN   NaN    NaN    NaN  9.52    2.0  26.6    80      2.2\n",
       "10     NaN    NaN   NaN    NaN    NaN   NaN    NaN   NaN    80      2.7\n",
       "11     NaN    NaN   NaN    NaN    NaN   NaN    NaN   NaN    80      2.1"
      ]
     },
     "metadata": {},
     "output_type": "display_data"
    }
   ],
   "source": [
    "pd.set_option('display.max_rows', 100)\n",
    "display(df)"
   ]
  },
  {
   "cell_type": "markdown",
   "id": "98c40261",
   "metadata": {},
   "source": [
    "*From this point on, I'm removing the pieces about formatting tables, assuming you've already learned that."
   ]
  },
  {
   "cell_type": "code",
   "execution_count": 3,
   "id": "cce1def8",
   "metadata": {},
   "outputs": [
    {
     "name": "stdout",
     "output_type": "stream",
     "text": [
      "<class 'pandas.core.frame.DataFrame'>\n",
      "RangeIndex: 12 entries, 0 to 11\n",
      "Data columns (total 10 columns):\n",
      " #   Column   Non-Null Count  Dtype  \n",
      "---  ------   --------------  -----  \n",
      " 0   Method   6 non-null      float64\n",
      " 1   CuO      6 non-null      float64\n",
      " 2   Part     6 non-null      float64\n",
      " 3   CuSO4    6 non-null      float64\n",
      " 4   Group    8 non-null      float64\n",
      " 5   N        9 non-null      float64\n",
      " 6   Place    10 non-null     float64\n",
      " 7   X        10 non-null     float64\n",
      " 8   Т(С)     12 non-null     int64  \n",
      " 9   Product  12 non-null     float64\n",
      "dtypes: float64(9), int64(1)\n",
      "memory usage: 1.1 KB\n"
     ]
    }
   ],
   "source": [
    "df.info()"
   ]
  },
  {
   "cell_type": "code",
   "execution_count": 4,
   "id": "940b7b09",
   "metadata": {},
   "outputs": [],
   "source": [
    "df = df.fillna(0)"
   ]
  },
  {
   "cell_type": "markdown",
   "id": "c6041066",
   "metadata": {},
   "source": [
    "Let's look at the descriptive statistics of our dataframe-we won't need it today obviously, but we do it for order and to reinforce the material."
   ]
  },
  {
   "cell_type": "code",
   "execution_count": 5,
   "id": "36f1e576",
   "metadata": {},
   "outputs": [
    {
     "data": {
      "text/html": [
       "<div>\n",
       "<style scoped>\n",
       "    .dataframe tbody tr th:only-of-type {\n",
       "        vertical-align: middle;\n",
       "    }\n",
       "\n",
       "    .dataframe tbody tr th {\n",
       "        vertical-align: top;\n",
       "    }\n",
       "\n",
       "    .dataframe thead th {\n",
       "        text-align: right;\n",
       "    }\n",
       "</style>\n",
       "<table border=\"1\" class=\"dataframe\">\n",
       "  <thead>\n",
       "    <tr style=\"text-align: right;\">\n",
       "      <th></th>\n",
       "      <th>Method</th>\n",
       "      <th>CuO</th>\n",
       "      <th>Part</th>\n",
       "      <th>CuSO4</th>\n",
       "      <th>Group</th>\n",
       "      <th>N</th>\n",
       "      <th>Place</th>\n",
       "      <th>X</th>\n",
       "      <th>Т(С)</th>\n",
       "      <th>Product</th>\n",
       "    </tr>\n",
       "  </thead>\n",
       "  <tbody>\n",
       "    <tr>\n",
       "      <th>count</th>\n",
       "      <td>12.000000</td>\n",
       "      <td>12.000000</td>\n",
       "      <td>12.000000</td>\n",
       "      <td>12.000000</td>\n",
       "      <td>12.000000</td>\n",
       "      <td>12.000000</td>\n",
       "      <td>12.000000</td>\n",
       "      <td>12.000000</td>\n",
       "      <td>12.000000</td>\n",
       "      <td>12.000000</td>\n",
       "    </tr>\n",
       "    <tr>\n",
       "      <th>mean</th>\n",
       "      <td>0.750000</td>\n",
       "      <td>18.896667</td>\n",
       "      <td>0.750000</td>\n",
       "      <td>48.983333</td>\n",
       "      <td>1.000000</td>\n",
       "      <td>7.105833</td>\n",
       "      <td>1.250000</td>\n",
       "      <td>21.975000</td>\n",
       "      <td>50.000000</td>\n",
       "      <td>2.758333</td>\n",
       "    </tr>\n",
       "    <tr>\n",
       "      <th>std</th>\n",
       "      <td>0.866025</td>\n",
       "      <td>19.737649</td>\n",
       "      <td>0.866025</td>\n",
       "      <td>51.162448</td>\n",
       "      <td>0.852803</td>\n",
       "      <td>4.286317</td>\n",
       "      <td>0.753778</td>\n",
       "      <td>10.269294</td>\n",
       "      <td>31.333978</td>\n",
       "      <td>0.817378</td>\n",
       "    </tr>\n",
       "    <tr>\n",
       "      <th>min</th>\n",
       "      <td>0.000000</td>\n",
       "      <td>0.000000</td>\n",
       "      <td>0.000000</td>\n",
       "      <td>0.000000</td>\n",
       "      <td>0.000000</td>\n",
       "      <td>0.000000</td>\n",
       "      <td>0.000000</td>\n",
       "      <td>0.000000</td>\n",
       "      <td>20.000000</td>\n",
       "      <td>1.600000</td>\n",
       "    </tr>\n",
       "    <tr>\n",
       "      <th>25%</th>\n",
       "      <td>0.000000</td>\n",
       "      <td>0.000000</td>\n",
       "      <td>0.000000</td>\n",
       "      <td>0.000000</td>\n",
       "      <td>0.000000</td>\n",
       "      <td>6.967500</td>\n",
       "      <td>1.000000</td>\n",
       "      <td>25.975000</td>\n",
       "      <td>20.000000</td>\n",
       "      <td>2.175000</td>\n",
       "    </tr>\n",
       "    <tr>\n",
       "      <th>50%</th>\n",
       "      <td>0.500000</td>\n",
       "      <td>18.775000</td>\n",
       "      <td>0.500000</td>\n",
       "      <td>48.650000</td>\n",
       "      <td>1.000000</td>\n",
       "      <td>9.405000</td>\n",
       "      <td>1.000000</td>\n",
       "      <td>26.200000</td>\n",
       "      <td>50.000000</td>\n",
       "      <td>2.700000</td>\n",
       "    </tr>\n",
       "    <tr>\n",
       "      <th>75%</th>\n",
       "      <td>1.250000</td>\n",
       "      <td>37.670000</td>\n",
       "      <td>1.250000</td>\n",
       "      <td>97.875000</td>\n",
       "      <td>2.000000</td>\n",
       "      <td>9.522500</td>\n",
       "      <td>2.000000</td>\n",
       "      <td>26.600000</td>\n",
       "      <td>80.000000</td>\n",
       "      <td>3.325000</td>\n",
       "    </tr>\n",
       "    <tr>\n",
       "      <th>max</th>\n",
       "      <td>2.000000</td>\n",
       "      <td>38.200000</td>\n",
       "      <td>2.000000</td>\n",
       "      <td>98.700000</td>\n",
       "      <td>2.000000</td>\n",
       "      <td>9.680000</td>\n",
       "      <td>2.000000</td>\n",
       "      <td>26.900000</td>\n",
       "      <td>80.000000</td>\n",
       "      <td>4.400000</td>\n",
       "    </tr>\n",
       "  </tbody>\n",
       "</table>\n",
       "</div>"
      ],
      "text/plain": [
       "          Method        CuO       Part      CuSO4      Group          N  \\\n",
       "count  12.000000  12.000000  12.000000  12.000000  12.000000  12.000000   \n",
       "mean    0.750000  18.896667   0.750000  48.983333   1.000000   7.105833   \n",
       "std     0.866025  19.737649   0.866025  51.162448   0.852803   4.286317   \n",
       "min     0.000000   0.000000   0.000000   0.000000   0.000000   0.000000   \n",
       "25%     0.000000   0.000000   0.000000   0.000000   0.000000   6.967500   \n",
       "50%     0.500000  18.775000   0.500000  48.650000   1.000000   9.405000   \n",
       "75%     1.250000  37.670000   1.250000  97.875000   2.000000   9.522500   \n",
       "max     2.000000  38.200000   2.000000  98.700000   2.000000   9.680000   \n",
       "\n",
       "           Place          X       Т(С)    Product  \n",
       "count  12.000000  12.000000  12.000000  12.000000  \n",
       "mean    1.250000  21.975000  50.000000   2.758333  \n",
       "std     0.753778  10.269294  31.333978   0.817378  \n",
       "min     0.000000   0.000000  20.000000   1.600000  \n",
       "25%     1.000000  25.975000  20.000000   2.175000  \n",
       "50%     1.000000  26.200000  50.000000   2.700000  \n",
       "75%     2.000000  26.600000  80.000000   3.325000  \n",
       "max     2.000000  26.900000  80.000000   4.400000  "
      ]
     },
     "execution_count": 5,
     "metadata": {},
     "output_type": "execute_result"
    }
   ],
   "source": [
    "df.describe()"
   ]
  },
  {
   "cell_type": "markdown",
   "id": "fa0e18af",
   "metadata": {},
   "source": [
    "Now let's perform a *two-sample $F$-test* to check for equality of variance for column **N**."
   ]
  },
  {
   "cell_type": "code",
   "execution_count": 6,
   "id": "17d5fc28",
   "metadata": {},
   "outputs": [],
   "source": [
    "import scipy.stats\n",
    "import numpy as np"
   ]
  },
  {
   "cell_type": "markdown",
   "id": "3a7ebff5",
   "metadata": {},
   "source": [
    "Let's choose the first group as the first set of data, and the second group as the second."
   ]
  },
  {
   "cell_type": "code",
   "execution_count": 7,
   "id": "fd25050b",
   "metadata": {},
   "outputs": [
    {
     "name": "stdout",
     "output_type": "stream",
     "text": [
      "0    9.29\n",
      "1    9.38\n",
      "2    9.35\n",
      "3    9.43\n",
      "Name: N, dtype: float64\n",
      "------\n",
      "4    9.53\n",
      "5    9.48\n",
      "6    9.61\n",
      "7    9.68\n",
      "Name: N, dtype: float64\n"
     ]
    }
   ],
   "source": [
    "firstGroupBadWay = df['N'][0:4]\n",
    "secondGroupBadWay = df['N'][4:8]\n",
    "print(firstGroupBadWay)\n",
    "print(\"------\")\n",
    "print(secondGroupBadWay)"
   ]
  },
  {
   "cell_type": "markdown",
   "id": "bebc8909",
   "metadata": {},
   "source": [
    "As you can see, we had to look at the row indexes corresponding to the first and second groups with our eyes, which is not very convenient. Besides, what to do if the table is very large, and the same groups are scattered on different rows? Of course, there is a more convenient way to select the values we need in column **N**, depending on the value in the column **Group**."
   ]
  },
  {
   "cell_type": "code",
   "execution_count": 8,
   "id": "8459dfe3",
   "metadata": {},
   "outputs": [],
   "source": [
    "firstGroup = df.loc[df['Group'] == 1.0, 'N']\n",
    "secondGroup = df.loc[df['Group'] == 2.0, 'N']"
   ]
  },
  {
   "cell_type": "code",
   "execution_count": 9,
   "id": "ce9220ea",
   "metadata": {},
   "outputs": [
    {
     "name": "stdout",
     "output_type": "stream",
     "text": [
      "0    9.29\n",
      "1    9.38\n",
      "2    9.35\n",
      "3    9.43\n",
      "Name: N, dtype: float64\n",
      "-------\n",
      "4    9.53\n",
      "5    9.48\n",
      "6    9.61\n",
      "7    9.68\n",
      "Name: N, dtype: float64\n"
     ]
    }
   ],
   "source": [
    "print(firstGroup)\n",
    "print(\"-------\")\n",
    "print(secondGroup)"
   ]
  },
  {
   "cell_type": "markdown",
   "id": "76182d1e",
   "metadata": {},
   "source": [
    "As we can see, everything is in order."
   ]
  },
  {
   "cell_type": "markdown",
   "id": "d7a816c2",
   "metadata": {},
   "source": [
    "Let's find the variances of the samples. We know how to do this in several ways, and you can choose whichever one you like best."
   ]
  },
  {
   "cell_type": "code",
   "execution_count": 10,
   "id": "3bd7f168",
   "metadata": {},
   "outputs": [
    {
     "name": "stdout",
     "output_type": "stream",
     "text": [
      "firstGroupVar:  0.003425000000000041\n",
      "secondGroupVar:  0.007766666666666626\n"
     ]
    }
   ],
   "source": [
    "firstVar = np.var(firstGroup, ddof = 1)\n",
    "secondVar = np.var(secondGroup, ddof = 1)\n",
    "print(\"firstGroupVar: \",firstVar)\n",
    "print(\"secondGroupVar: \", secondVar)"
   ]
  },
  {
   "cell_type": "code",
   "execution_count": 11,
   "id": "4ed00072",
   "metadata": {},
   "outputs": [
    {
     "name": "stdout",
     "output_type": "stream",
     "text": [
      "firstGroupVar: 0.003425000000000041\n"
     ]
    }
   ],
   "source": [
    "print(\"firstGroupVar:\", firstVar)"
   ]
  },
  {
   "cell_type": "markdown",
   "id": "6c29d5ac",
   "metadata": {},
   "source": [
    "Now we need to find the ratio of point estimates of variance. For example, we can do this for sample variances. "
   ]
  },
  {
   "cell_type": "markdown",
   "id": "ab37a1bb",
   "metadata": {},
   "source": [
    "Let's write a function that will perform an $F$-test to test for equality of variance between two samples - make sure you understand why this is the function."
   ]
  },
  {
   "cell_type": "code",
   "execution_count": 12,
   "id": "503d4cf7",
   "metadata": {},
   "outputs": [],
   "source": [
    "def fTest(firstSample, secondSample):\n",
    "    firstSample = np.array(firstSample)\n",
    "    secondSample = np.array(secondSample)\n",
    "    f = np.var(firstSample, ddof=1) / np.var(secondGroup, ddof=1)\n",
    "    dfn = firstGroup.size - 1\n",
    "    dfd = secondGroup.size - 1\n",
    "    p = 1 - scipy.stats.f.cdf(f, dfn, dfd)\n",
    "    return (f, p)"
   ]
  },
  {
   "cell_type": "markdown",
   "id": "e6dccba6",
   "metadata": {},
   "source": [
    "> Especially this line `p = 1 - scipy.stats.f.cdf(f, dfn, dfd)`. Please, in your completed assignment, write a textual parsing of this line along the lines of \"Since the P-value is so-and-so, we must do so-and-so to get so-and-so.\""
   ]
  },
  {
   "cell_type": "markdown",
   "id": "29c53fb8",
   "metadata": {},
   "source": [
    "Let us finally perform the $F$-test to check the variance of our samples."
   ]
  },
  {
   "cell_type": "code",
   "execution_count": 13,
   "id": "90488fe5",
   "metadata": {},
   "outputs": [
    {
     "name": "stdout",
     "output_type": "stream",
     "text": [
      "F: 0.4409871244635269\n",
      "P-value: 0.7406260852648179\n"
     ]
    }
   ],
   "source": [
    "f, pValue = fTest(firstGroup, secondGroup)\n",
    "print(\"F:\", f)\n",
    "print(\"P-value:\", pValue)"
   ]
  },
  {
   "cell_type": "markdown",
   "id": "95370528",
   "metadata": {},
   "source": [
    "## Part 3. Comparison of the Averages of Two Samples."
   ]
  },
  {
   "cell_type": "markdown",
   "id": "c04a0209",
   "metadata": {},
   "source": [
    "You can use Student's t-test (or, as it is also called, $t$-test) to compare the averages of two samples."
   ]
  },
  {
   "cell_type": "markdown",
   "id": "b88b7244",
   "metadata": {},
   "source": [
    "It is worth noting that the classical Student's test uses the assumption that the variances are equal."
   ]
  },
  {
   "cell_type": "markdown",
   "id": "b11e5215",
   "metadata": {},
   "source": [
    "Consider the following hypotheses:\n",
    "<br>$H_0:$ The samples have equal averages,\n",
    "<br>$H_1:$ The samples have different averages."
   ]
  },
  {
   "cell_type": "markdown",
   "id": "6240c9e9",
   "metadata": {},
   "source": [
    "Suppose there are two independent normal samples of size $n_1$ and $n_2$. If the variances coincide, the statistic of the criterion is"
   ]
  },
  {
   "cell_type": "markdown",
   "id": "e28f4ff2",
   "metadata": {},
   "source": [
    "$$\n",
    "t = \\frac{\\overline X_1 - \\overline X_2}{s_X \\sqrt{\\frac{1}{n_1}+\\frac{1}{n_2}}} ~,~~s_X=\\sqrt {\\frac{(n_1 - 1)s_1^2 + (n_2 - 1)s_2^2}{n_1 + n_2 - 2}},\n",
    "$$\n",
    "where $s$ – unbiased variance estimation:\n",
    "$$\n",
    "s^2=\\frac {\\sum^n_{t=1}(X_t-\\overline X)^2}{n-1}\n",
    "$$"
   ]
  },
  {
   "cell_type": "markdown",
   "id": "0f395ea9",
   "metadata": {},
   "source": [
    "Note also that this statistic has a Student distribution $t(n_1 + n_2 - 2)$."
   ]
  },
  {
   "cell_type": "markdown",
   "id": "abee4b10",
   "metadata": {},
   "source": [
    "Since we did not reject the hypothesis of matching variance, let's perform the $t$-test for the same groups."
   ]
  },
  {
   "cell_type": "code",
   "execution_count": 14,
   "id": "989db742",
   "metadata": {},
   "outputs": [
    {
     "data": {
      "text/plain": [
       "Ttest_indResult(statistic=-4.017367360141328, pvalue=0.006979687421480706)"
      ]
     },
     "execution_count": 14,
     "metadata": {},
     "output_type": "execute_result"
    }
   ],
   "source": [
    "scipy.stats.ttest_ind(firstGroup, secondGroup)"
   ]
  },
  {
   "cell_type": "markdown",
   "id": "a55d4f82",
   "metadata": {},
   "source": [
    "What do we see? The value of the statistic deviates quite strongly from zero (it is negative because we took samples with smaller mean values as the first sample). The very small (by the way, two-sided) $P$-value confirms this. What is the conclusion that follows from this? That we can reject the hypothesis of equality of means. The probability of being wrong in this case is very, very small. "
   ]
  },
  {
   "cell_type": "markdown",
   "id": "6bfd3f03",
   "metadata": {},
   "source": [
    "## Part 4. A Two-sample t-test."
   ]
  },
  {
   "cell_type": "markdown",
   "id": "3dd26a56",
   "metadata": {},
   "source": [
    "Here we will not go deeply into the theoretical justification. Instead, we will perform the necessary calculations."
   ]
  },
  {
   "cell_type": "code",
   "execution_count": 15,
   "id": "2092a212",
   "metadata": {},
   "outputs": [],
   "source": [
    "dfFilter = pd.read_excel(\"../Data-EN/Filter.xls\")"
   ]
  },
  {
   "cell_type": "code",
   "execution_count": 16,
   "id": "7284e74b",
   "metadata": {},
   "outputs": [
    {
     "data": {
      "text/html": [
       "<div>\n",
       "<style scoped>\n",
       "    .dataframe tbody tr th:only-of-type {\n",
       "        vertical-align: middle;\n",
       "    }\n",
       "\n",
       "    .dataframe tbody tr th {\n",
       "        vertical-align: top;\n",
       "    }\n",
       "\n",
       "    .dataframe thead th {\n",
       "        text-align: right;\n",
       "    }\n",
       "</style>\n",
       "<table border=\"1\" class=\"dataframe\">\n",
       "  <thead>\n",
       "    <tr style=\"text-align: right;\">\n",
       "      <th></th>\n",
       "      <th>Before</th>\n",
       "      <th>After</th>\n",
       "    </tr>\n",
       "  </thead>\n",
       "  <tbody>\n",
       "    <tr>\n",
       "      <th>0</th>\n",
       "      <td>100.1</td>\n",
       "      <td>96.6</td>\n",
       "    </tr>\n",
       "    <tr>\n",
       "      <th>1</th>\n",
       "      <td>115.1</td>\n",
       "      <td>115.6</td>\n",
       "    </tr>\n",
       "    <tr>\n",
       "      <th>2</th>\n",
       "      <td>130.0</td>\n",
       "      <td>125.5</td>\n",
       "    </tr>\n",
       "    <tr>\n",
       "      <th>3</th>\n",
       "      <td>93.6</td>\n",
       "      <td>94.0</td>\n",
       "    </tr>\n",
       "    <tr>\n",
       "      <th>4</th>\n",
       "      <td>108.3</td>\n",
       "      <td>103.3</td>\n",
       "    </tr>\n",
       "    <tr>\n",
       "      <th>5</th>\n",
       "      <td>137.2</td>\n",
       "      <td>134.4</td>\n",
       "    </tr>\n",
       "    <tr>\n",
       "      <th>6</th>\n",
       "      <td>104.4</td>\n",
       "      <td>100.2</td>\n",
       "    </tr>\n",
       "    <tr>\n",
       "      <th>7</th>\n",
       "      <td>97.3</td>\n",
       "      <td>97.1</td>\n",
       "    </tr>\n",
       "  </tbody>\n",
       "</table>\n",
       "</div>"
      ],
      "text/plain": [
       "   Before  After\n",
       "0   100.1   96.6\n",
       "1   115.1  115.6\n",
       "2   130.0  125.5\n",
       "3    93.6   94.0\n",
       "4   108.3  103.3\n",
       "5   137.2  134.4\n",
       "6   104.4  100.2\n",
       "7    97.3   97.1"
      ]
     },
     "metadata": {},
     "output_type": "display_data"
    }
   ],
   "source": [
    "display(dfFilter)"
   ]
  },
  {
   "cell_type": "code",
   "execution_count": 17,
   "id": "58c6e85d",
   "metadata": {},
   "outputs": [
    {
     "name": "stdout",
     "output_type": "stream",
     "text": [
      "<class 'pandas.core.frame.DataFrame'>\n",
      "RangeIndex: 8 entries, 0 to 7\n",
      "Data columns (total 2 columns):\n",
      " #   Column  Non-Null Count  Dtype  \n",
      "---  ------  --------------  -----  \n",
      " 0   Before  8 non-null      float64\n",
      " 1   After   8 non-null      float64\n",
      "dtypes: float64(2)\n",
      "memory usage: 256.0 bytes\n"
     ]
    }
   ],
   "source": [
    "dfFilter.info()"
   ]
  },
  {
   "cell_type": "code",
   "execution_count": 18,
   "id": "61926c0b",
   "metadata": {},
   "outputs": [
    {
     "data": {
      "text/plain": [
       "Ttest_relResult(statistic=2.9732548005798334, pvalue=0.020711935094041782)"
      ]
     },
     "execution_count": 18,
     "metadata": {},
     "output_type": "execute_result"
    }
   ],
   "source": [
    "scipy.stats.ttest_rel(dfFilter['Before'], dfFilter['After'])"
   ]
  },
  {
   "cell_type": "markdown",
   "id": "6684924e",
   "metadata": {},
   "source": [
    "We see that the $P$-value is quite small. Consequently, we can reject the hypothesis that the results **Before** and **After** the filtering result is significant."
   ]
  },
  {
   "cell_type": "code",
   "execution_count": 19,
   "id": "6fc1a332",
   "metadata": {},
   "outputs": [
    {
     "name": "stdout",
     "output_type": "stream",
     "text": [
      "110.74999999999999\n",
      "108.3375\n"
     ]
    }
   ],
   "source": [
    "print(dfFilter['Before'].mean())\n",
    "print(dfFilter['After'].mean())"
   ]
  },
  {
   "cell_type": "markdown",
   "id": "30b39fd2",
   "metadata": {},
   "source": [
    "## Part 5. Check for Equality of the Average to a Certain Number."
   ]
  },
  {
   "cell_type": "markdown",
   "id": "1e05fea9",
   "metadata": {},
   "source": [
    "Let's go back to the file where the contents were. "
   ]
  },
  {
   "cell_type": "code",
   "execution_count": 20,
   "id": "1abf023d",
   "metadata": {},
   "outputs": [],
   "source": [
    "dfContents = pd.read_excel(\"../Data-EN/Contents.xls\")"
   ]
  },
  {
   "cell_type": "code",
   "execution_count": 21,
   "id": "dad06e3b",
   "metadata": {},
   "outputs": [
    {
     "data": {
      "text/html": [
       "<div>\n",
       "<style scoped>\n",
       "    .dataframe tbody tr th:only-of-type {\n",
       "        vertical-align: middle;\n",
       "    }\n",
       "\n",
       "    .dataframe tbody tr th {\n",
       "        vertical-align: top;\n",
       "    }\n",
       "\n",
       "    .dataframe thead th {\n",
       "        text-align: right;\n",
       "    }\n",
       "</style>\n",
       "<table border=\"1\" class=\"dataframe\">\n",
       "  <thead>\n",
       "    <tr style=\"text-align: right;\">\n",
       "      <th></th>\n",
       "      <th>Lab</th>\n",
       "      <th>Al</th>\n",
       "      <th>Sn</th>\n",
       "      <th>FeO</th>\n",
       "    </tr>\n",
       "  </thead>\n",
       "  <tbody>\n",
       "    <tr>\n",
       "      <th>0</th>\n",
       "      <td>1</td>\n",
       "      <td>0.016</td>\n",
       "      <td>0.42</td>\n",
       "      <td>6.21</td>\n",
       "    </tr>\n",
       "    <tr>\n",
       "      <th>1</th>\n",
       "      <td>1</td>\n",
       "      <td>0.015</td>\n",
       "      <td>0.20</td>\n",
       "      <td>6.22</td>\n",
       "    </tr>\n",
       "    <tr>\n",
       "      <th>2</th>\n",
       "      <td>1</td>\n",
       "      <td>0.017</td>\n",
       "      <td>0.26</td>\n",
       "      <td>6.33</td>\n",
       "    </tr>\n",
       "    <tr>\n",
       "      <th>3</th>\n",
       "      <td>1</td>\n",
       "      <td>0.016</td>\n",
       "      <td>0.27</td>\n",
       "      <td>6.02</td>\n",
       "    </tr>\n",
       "    <tr>\n",
       "      <th>4</th>\n",
       "      <td>1</td>\n",
       "      <td>0.019</td>\n",
       "      <td>0.32</td>\n",
       "      <td>6.32</td>\n",
       "    </tr>\n",
       "    <tr>\n",
       "      <th>5</th>\n",
       "      <td>2</td>\n",
       "      <td>0.017</td>\n",
       "      <td>0.19</td>\n",
       "      <td>6.09</td>\n",
       "    </tr>\n",
       "    <tr>\n",
       "      <th>6</th>\n",
       "      <td>2</td>\n",
       "      <td>0.016</td>\n",
       "      <td>0.12</td>\n",
       "      <td>6.23</td>\n",
       "    </tr>\n",
       "    <tr>\n",
       "      <th>7</th>\n",
       "      <td>2</td>\n",
       "      <td>0.016</td>\n",
       "      <td>0.21</td>\n",
       "      <td>6.15</td>\n",
       "    </tr>\n",
       "    <tr>\n",
       "      <th>8</th>\n",
       "      <td>2</td>\n",
       "      <td>0.016</td>\n",
       "      <td>0.43</td>\n",
       "      <td>6.26</td>\n",
       "    </tr>\n",
       "    <tr>\n",
       "      <th>9</th>\n",
       "      <td>2</td>\n",
       "      <td>0.018</td>\n",
       "      <td>0.27</td>\n",
       "      <td>6.14</td>\n",
       "    </tr>\n",
       "    <tr>\n",
       "      <th>10</th>\n",
       "      <td>3</td>\n",
       "      <td>0.015</td>\n",
       "      <td>0.38</td>\n",
       "      <td>6.18</td>\n",
       "    </tr>\n",
       "    <tr>\n",
       "      <th>11</th>\n",
       "      <td>3</td>\n",
       "      <td>0.014</td>\n",
       "      <td>0.17</td>\n",
       "      <td>6.23</td>\n",
       "    </tr>\n",
       "    <tr>\n",
       "      <th>12</th>\n",
       "      <td>3</td>\n",
       "      <td>0.014</td>\n",
       "      <td>0.28</td>\n",
       "      <td>5.71</td>\n",
       "    </tr>\n",
       "    <tr>\n",
       "      <th>13</th>\n",
       "      <td>3</td>\n",
       "      <td>0.014</td>\n",
       "      <td>0.19</td>\n",
       "      <td>6.33</td>\n",
       "    </tr>\n",
       "    <tr>\n",
       "      <th>14</th>\n",
       "      <td>3</td>\n",
       "      <td>0.015</td>\n",
       "      <td>0.35</td>\n",
       "      <td>6.13</td>\n",
       "    </tr>\n",
       "    <tr>\n",
       "      <th>15</th>\n",
       "      <td>4</td>\n",
       "      <td>0.011</td>\n",
       "      <td>0.17</td>\n",
       "      <td>5.74</td>\n",
       "    </tr>\n",
       "    <tr>\n",
       "      <th>16</th>\n",
       "      <td>4</td>\n",
       "      <td>0.007</td>\n",
       "      <td>0.23</td>\n",
       "      <td>6.06</td>\n",
       "    </tr>\n",
       "    <tr>\n",
       "      <th>17</th>\n",
       "      <td>4</td>\n",
       "      <td>0.008</td>\n",
       "      <td>0.27</td>\n",
       "      <td>6.28</td>\n",
       "    </tr>\n",
       "    <tr>\n",
       "      <th>18</th>\n",
       "      <td>4</td>\n",
       "      <td>0.010</td>\n",
       "      <td>0.53</td>\n",
       "      <td>6.32</td>\n",
       "    </tr>\n",
       "    <tr>\n",
       "      <th>19</th>\n",
       "      <td>4</td>\n",
       "      <td>0.009</td>\n",
       "      <td>0.39</td>\n",
       "      <td>6.03</td>\n",
       "    </tr>\n",
       "    <tr>\n",
       "      <th>20</th>\n",
       "      <td>5</td>\n",
       "      <td>0.011</td>\n",
       "      <td>0.35</td>\n",
       "      <td>5.98</td>\n",
       "    </tr>\n",
       "    <tr>\n",
       "      <th>21</th>\n",
       "      <td>5</td>\n",
       "      <td>0.011</td>\n",
       "      <td>0.24</td>\n",
       "      <td>6.50</td>\n",
       "    </tr>\n",
       "    <tr>\n",
       "      <th>22</th>\n",
       "      <td>5</td>\n",
       "      <td>0.013</td>\n",
       "      <td>0.22</td>\n",
       "      <td>5.94</td>\n",
       "    </tr>\n",
       "    <tr>\n",
       "      <th>23</th>\n",
       "      <td>5</td>\n",
       "      <td>0.012</td>\n",
       "      <td>0.17</td>\n",
       "      <td>6.05</td>\n",
       "    </tr>\n",
       "    <tr>\n",
       "      <th>24</th>\n",
       "      <td>5</td>\n",
       "      <td>0.012</td>\n",
       "      <td>0.18</td>\n",
       "      <td>5.88</td>\n",
       "    </tr>\n",
       "    <tr>\n",
       "      <th>25</th>\n",
       "      <td>6</td>\n",
       "      <td>0.012</td>\n",
       "      <td>0.33</td>\n",
       "      <td>6.14</td>\n",
       "    </tr>\n",
       "    <tr>\n",
       "      <th>26</th>\n",
       "      <td>6</td>\n",
       "      <td>0.014</td>\n",
       "      <td>0.53</td>\n",
       "      <td>5.92</td>\n",
       "    </tr>\n",
       "    <tr>\n",
       "      <th>27</th>\n",
       "      <td>6</td>\n",
       "      <td>0.013</td>\n",
       "      <td>0.18</td>\n",
       "      <td>6.26</td>\n",
       "    </tr>\n",
       "    <tr>\n",
       "      <th>28</th>\n",
       "      <td>6</td>\n",
       "      <td>0.013</td>\n",
       "      <td>0.44</td>\n",
       "      <td>6.40</td>\n",
       "    </tr>\n",
       "    <tr>\n",
       "      <th>29</th>\n",
       "      <td>6</td>\n",
       "      <td>0.015</td>\n",
       "      <td>0.26</td>\n",
       "      <td>6.11</td>\n",
       "    </tr>\n",
       "    <tr>\n",
       "      <th>30</th>\n",
       "      <td>7</td>\n",
       "      <td>0.011</td>\n",
       "      <td>0.23</td>\n",
       "      <td>5.96</td>\n",
       "    </tr>\n",
       "    <tr>\n",
       "      <th>31</th>\n",
       "      <td>7</td>\n",
       "      <td>0.009</td>\n",
       "      <td>0.23</td>\n",
       "      <td>6.43</td>\n",
       "    </tr>\n",
       "    <tr>\n",
       "      <th>32</th>\n",
       "      <td>7</td>\n",
       "      <td>0.012</td>\n",
       "      <td>0.23</td>\n",
       "      <td>6.15</td>\n",
       "    </tr>\n",
       "    <tr>\n",
       "      <th>33</th>\n",
       "      <td>7</td>\n",
       "      <td>0.010</td>\n",
       "      <td>0.21</td>\n",
       "      <td>6.10</td>\n",
       "    </tr>\n",
       "    <tr>\n",
       "      <th>34</th>\n",
       "      <td>7</td>\n",
       "      <td>0.012</td>\n",
       "      <td>0.20</td>\n",
       "      <td>6.31</td>\n",
       "    </tr>\n",
       "    <tr>\n",
       "      <th>35</th>\n",
       "      <td>8</td>\n",
       "      <td>0.011</td>\n",
       "      <td>0.24</td>\n",
       "      <td>6.21</td>\n",
       "    </tr>\n",
       "    <tr>\n",
       "      <th>36</th>\n",
       "      <td>8</td>\n",
       "      <td>0.011</td>\n",
       "      <td>0.32</td>\n",
       "      <td>6.05</td>\n",
       "    </tr>\n",
       "    <tr>\n",
       "      <th>37</th>\n",
       "      <td>8</td>\n",
       "      <td>0.012</td>\n",
       "      <td>0.18</td>\n",
       "      <td>6.33</td>\n",
       "    </tr>\n",
       "    <tr>\n",
       "      <th>38</th>\n",
       "      <td>8</td>\n",
       "      <td>0.014</td>\n",
       "      <td>0.27</td>\n",
       "      <td>5.84</td>\n",
       "    </tr>\n",
       "    <tr>\n",
       "      <th>39</th>\n",
       "      <td>8</td>\n",
       "      <td>0.013</td>\n",
       "      <td>0.21</td>\n",
       "      <td>5.80</td>\n",
       "    </tr>\n",
       "    <tr>\n",
       "      <th>40</th>\n",
       "      <td>9</td>\n",
       "      <td>0.012</td>\n",
       "      <td>0.21</td>\n",
       "      <td>5.99</td>\n",
       "    </tr>\n",
       "    <tr>\n",
       "      <th>41</th>\n",
       "      <td>9</td>\n",
       "      <td>0.014</td>\n",
       "      <td>0.16</td>\n",
       "      <td>6.29</td>\n",
       "    </tr>\n",
       "    <tr>\n",
       "      <th>42</th>\n",
       "      <td>9</td>\n",
       "      <td>0.015</td>\n",
       "      <td>0.18</td>\n",
       "      <td>6.01</td>\n",
       "    </tr>\n",
       "    <tr>\n",
       "      <th>43</th>\n",
       "      <td>9</td>\n",
       "      <td>0.013</td>\n",
       "      <td>0.22</td>\n",
       "      <td>5.84</td>\n",
       "    </tr>\n",
       "    <tr>\n",
       "      <th>44</th>\n",
       "      <td>9</td>\n",
       "      <td>0.014</td>\n",
       "      <td>0.29</td>\n",
       "      <td>6.38</td>\n",
       "    </tr>\n",
       "    <tr>\n",
       "      <th>45</th>\n",
       "      <td>10</td>\n",
       "      <td>0.015</td>\n",
       "      <td>0.18</td>\n",
       "      <td>6.28</td>\n",
       "    </tr>\n",
       "    <tr>\n",
       "      <th>46</th>\n",
       "      <td>10</td>\n",
       "      <td>0.018</td>\n",
       "      <td>0.51</td>\n",
       "      <td>6.07</td>\n",
       "    </tr>\n",
       "    <tr>\n",
       "      <th>47</th>\n",
       "      <td>10</td>\n",
       "      <td>0.016</td>\n",
       "      <td>0.25</td>\n",
       "      <td>6.03</td>\n",
       "    </tr>\n",
       "    <tr>\n",
       "      <th>48</th>\n",
       "      <td>10</td>\n",
       "      <td>0.017</td>\n",
       "      <td>0.14</td>\n",
       "      <td>6.23</td>\n",
       "    </tr>\n",
       "    <tr>\n",
       "      <th>49</th>\n",
       "      <td>10</td>\n",
       "      <td>0.016</td>\n",
       "      <td>0.27</td>\n",
       "      <td>6.13</td>\n",
       "    </tr>\n",
       "    <tr>\n",
       "      <th>50</th>\n",
       "      <td>11</td>\n",
       "      <td>0.015</td>\n",
       "      <td>0.15</td>\n",
       "      <td>6.17</td>\n",
       "    </tr>\n",
       "    <tr>\n",
       "      <th>51</th>\n",
       "      <td>11</td>\n",
       "      <td>0.014</td>\n",
       "      <td>0.20</td>\n",
       "      <td>6.26</td>\n",
       "    </tr>\n",
       "    <tr>\n",
       "      <th>52</th>\n",
       "      <td>11</td>\n",
       "      <td>0.013</td>\n",
       "      <td>0.40</td>\n",
       "      <td>5.97</td>\n",
       "    </tr>\n",
       "    <tr>\n",
       "      <th>53</th>\n",
       "      <td>11</td>\n",
       "      <td>0.014</td>\n",
       "      <td>0.21</td>\n",
       "      <td>6.01</td>\n",
       "    </tr>\n",
       "    <tr>\n",
       "      <th>54</th>\n",
       "      <td>11</td>\n",
       "      <td>0.014</td>\n",
       "      <td>0.30</td>\n",
       "      <td>5.86</td>\n",
       "    </tr>\n",
       "    <tr>\n",
       "      <th>55</th>\n",
       "      <td>12</td>\n",
       "      <td>0.012</td>\n",
       "      <td>0.18</td>\n",
       "      <td>5.84</td>\n",
       "    </tr>\n",
       "    <tr>\n",
       "      <th>56</th>\n",
       "      <td>12</td>\n",
       "      <td>0.014</td>\n",
       "      <td>0.22</td>\n",
       "      <td>6.32</td>\n",
       "    </tr>\n",
       "    <tr>\n",
       "      <th>57</th>\n",
       "      <td>12</td>\n",
       "      <td>0.012</td>\n",
       "      <td>0.15</td>\n",
       "      <td>6.16</td>\n",
       "    </tr>\n",
       "    <tr>\n",
       "      <th>58</th>\n",
       "      <td>12</td>\n",
       "      <td>0.013</td>\n",
       "      <td>0.20</td>\n",
       "      <td>6.02</td>\n",
       "    </tr>\n",
       "    <tr>\n",
       "      <th>59</th>\n",
       "      <td>12</td>\n",
       "      <td>0.012</td>\n",
       "      <td>0.27</td>\n",
       "      <td>5.82</td>\n",
       "    </tr>\n",
       "  </tbody>\n",
       "</table>\n",
       "</div>"
      ],
      "text/plain": [
       "    Lab     Al    Sn   FeO\n",
       "0     1  0.016  0.42  6.21\n",
       "1     1  0.015  0.20  6.22\n",
       "2     1  0.017  0.26  6.33\n",
       "3     1  0.016  0.27  6.02\n",
       "4     1  0.019  0.32  6.32\n",
       "5     2  0.017  0.19  6.09\n",
       "6     2  0.016  0.12  6.23\n",
       "7     2  0.016  0.21  6.15\n",
       "8     2  0.016  0.43  6.26\n",
       "9     2  0.018  0.27  6.14\n",
       "10    3  0.015  0.38  6.18\n",
       "11    3  0.014  0.17  6.23\n",
       "12    3  0.014  0.28  5.71\n",
       "13    3  0.014  0.19  6.33\n",
       "14    3  0.015  0.35  6.13\n",
       "15    4  0.011  0.17  5.74\n",
       "16    4  0.007  0.23  6.06\n",
       "17    4  0.008  0.27  6.28\n",
       "18    4  0.010  0.53  6.32\n",
       "19    4  0.009  0.39  6.03\n",
       "20    5  0.011  0.35  5.98\n",
       "21    5  0.011  0.24  6.50\n",
       "22    5  0.013  0.22  5.94\n",
       "23    5  0.012  0.17  6.05\n",
       "24    5  0.012  0.18  5.88\n",
       "25    6  0.012  0.33  6.14\n",
       "26    6  0.014  0.53  5.92\n",
       "27    6  0.013  0.18  6.26\n",
       "28    6  0.013  0.44  6.40\n",
       "29    6  0.015  0.26  6.11\n",
       "30    7  0.011  0.23  5.96\n",
       "31    7  0.009  0.23  6.43\n",
       "32    7  0.012  0.23  6.15\n",
       "33    7  0.010  0.21  6.10\n",
       "34    7  0.012  0.20  6.31\n",
       "35    8  0.011  0.24  6.21\n",
       "36    8  0.011  0.32  6.05\n",
       "37    8  0.012  0.18  6.33\n",
       "38    8  0.014  0.27  5.84\n",
       "39    8  0.013  0.21  5.80\n",
       "40    9  0.012  0.21  5.99\n",
       "41    9  0.014  0.16  6.29\n",
       "42    9  0.015  0.18  6.01\n",
       "43    9  0.013  0.22  5.84\n",
       "44    9  0.014  0.29  6.38\n",
       "45   10  0.015  0.18  6.28\n",
       "46   10  0.018  0.51  6.07\n",
       "47   10  0.016  0.25  6.03\n",
       "48   10  0.017  0.14  6.23\n",
       "49   10  0.016  0.27  6.13\n",
       "50   11  0.015  0.15  6.17\n",
       "51   11  0.014  0.20  6.26\n",
       "52   11  0.013  0.40  5.97\n",
       "53   11  0.014  0.21  6.01\n",
       "54   11  0.014  0.30  5.86\n",
       "55   12  0.012  0.18  5.84\n",
       "56   12  0.014  0.22  6.32\n",
       "57   12  0.012  0.15  6.16\n",
       "58   12  0.013  0.20  6.02\n",
       "59   12  0.012  0.27  5.82"
      ]
     },
     "metadata": {},
     "output_type": "display_data"
    }
   ],
   "source": [
    "display(dfContents)"
   ]
  },
  {
   "cell_type": "code",
   "execution_count": 22,
   "id": "742985be",
   "metadata": {},
   "outputs": [
    {
     "name": "stdout",
     "output_type": "stream",
     "text": [
      "<class 'pandas.core.frame.DataFrame'>\n",
      "RangeIndex: 60 entries, 0 to 59\n",
      "Data columns (total 4 columns):\n",
      " #   Column  Non-Null Count  Dtype  \n",
      "---  ------  --------------  -----  \n",
      " 0   Lab     60 non-null     int64  \n",
      " 1   Al      60 non-null     float64\n",
      " 2   Sn      60 non-null     float64\n",
      " 3   FeO     60 non-null     float64\n",
      "dtypes: float64(3), int64(1)\n",
      "memory usage: 2.0 KB\n"
     ]
    }
   ],
   "source": [
    "dfContents.info()"
   ]
  },
  {
   "cell_type": "code",
   "execution_count": 23,
   "id": "06310fc4",
   "metadata": {},
   "outputs": [
    {
     "data": {
      "text/plain": [
       "Ttest_1sampResult(statistic=-0.053254042834835584, pvalue=0.9577094055431739)"
      ]
     },
     "execution_count": 23,
     "metadata": {},
     "output_type": "execute_result"
    }
   ],
   "source": [
    "scipy.stats.ttest_1samp(dfContents['Sn'], 0.26)"
   ]
  },
  {
   "cell_type": "markdown",
   "id": "db0602cb",
   "metadata": {},
   "source": [
    "We see that the deviation is very small, and the $P$-value is very large. So, the hypothesis of equality of the mean to a given number ($0.26$) is accepted. "
   ]
  },
  {
   "cell_type": "code",
   "execution_count": 24,
   "id": "277222f0",
   "metadata": {},
   "outputs": [
    {
     "data": {
      "text/plain": [
       "Ttest_1sampResult(statistic=247.2628135524946, pvalue=1.1124582548513744e-90)"
      ]
     },
     "execution_count": 24,
     "metadata": {},
     "output_type": "execute_result"
    }
   ],
   "source": [
    "scipy.stats.ttest_1samp(dfContents['FeO'], 0.26)"
   ]
  },
  {
   "cell_type": "markdown",
   "id": "9969ca4c",
   "metadata": {},
   "source": [
    "What's here? The deviation is very large, and the $P$-value is almost zero."
   ]
  },
  {
   "cell_type": "code",
   "execution_count": 25,
   "id": "99d810b5",
   "metadata": {},
   "outputs": [
    {
     "data": {
      "text/plain": [
       "6.117"
      ]
     },
     "execution_count": 25,
     "metadata": {},
     "output_type": "execute_result"
    }
   ],
   "source": [
    "dfContents['FeO'].mean()"
   ]
  },
  {
   "cell_type": "markdown",
   "id": "5890f06c",
   "metadata": {},
   "source": [
    "Let's look at the hypothesis that the average of the last sample is equal to $6$."
   ]
  },
  {
   "cell_type": "code",
   "execution_count": 26,
   "id": "dce4b8c1",
   "metadata": {},
   "outputs": [
    {
     "data": {
      "text/plain": [
       "Ttest_1sampResult(statistic=4.939345942571638, pvalue=6.791082679392058e-06)"
      ]
     },
     "execution_count": 26,
     "metadata": {},
     "output_type": "execute_result"
    }
   ],
   "source": [
    "scipy.stats.ttest_1samp(dfContents['FeO'], 6.0)"
   ]
  },
  {
   "cell_type": "markdown",
   "id": "327fb98d",
   "metadata": {},
   "source": [
    "What do we see? A small deviation and a small $P$-value. Consequently, we accept the hypothesis that the mean is equal to a given number. "
   ]
  },
  {
   "cell_type": "markdown",
   "id": "8bdfc24a",
   "metadata": {},
   "source": [
    "For fun, let's see what happens if we check the average against the exact value of the average."
   ]
  },
  {
   "cell_type": "code",
   "execution_count": 27,
   "id": "e6ae948d",
   "metadata": {},
   "outputs": [
    {
     "data": {
      "text/plain": [
       "Ttest_1sampResult(statistic=3.7495901483978375e-14, pvalue=0.9999999999999702)"
      ]
     },
     "execution_count": 27,
     "metadata": {},
     "output_type": "execute_result"
    }
   ],
   "source": [
    "scipy.stats.ttest_1samp(dfContents['FeO'], 6.117)"
   ]
  },
  {
   "cell_type": "markdown",
   "id": "94106248",
   "metadata": {},
   "source": [
    "As expected, the deviation is almost zero with a large $P$-value."
   ]
  },
  {
   "cell_type": "markdown",
   "id": "53525c5e",
   "metadata": {},
   "source": [
    "## Task."
   ]
  },
  {
   "cell_type": "markdown",
   "id": "cb345a59",
   "metadata": {},
   "source": [
    "Complete your individual assignment."
   ]
  }
 ],
 "metadata": {
  "kernelspec": {
   "display_name": "Python 3 (ipykernel)",
   "language": "python",
   "name": "python3"
  },
  "language_info": {
   "codemirror_mode": {
    "name": "ipython",
    "version": 3
   },
   "file_extension": ".py",
   "mimetype": "text/x-python",
   "name": "python",
   "nbconvert_exporter": "python",
   "pygments_lexer": "ipython3",
   "version": "3.9.13"
  }
 },
 "nbformat": 4,
 "nbformat_minor": 5
}
