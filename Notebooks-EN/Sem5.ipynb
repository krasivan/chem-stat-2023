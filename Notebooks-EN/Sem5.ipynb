{
 "cells": [
  {
   "cell_type": "markdown",
   "id": "4eec3a0c",
   "metadata": {},
   "source": [
    "# Lesson 5"
   ]
  },
  {
   "cell_type": "markdown",
   "id": "079f8743",
   "metadata": {},
   "source": [
    "## Intro"
   ]
  },
  {
   "cell_type": "markdown",
   "id": "86e9f6c8",
   "metadata": {},
   "source": [
    "Hello, everyone! Here is the material for the fifth lesson. "
   ]
  },
  {
   "cell_type": "markdown",
   "id": "fda9909a",
   "metadata": {},
   "source": [
    "Today we are going to talk about such a concept as *regression*, or more specifically, *regressive analysis*."
   ]
  },
  {
   "cell_type": "markdown",
   "id": "95370528",
   "metadata": {},
   "source": [
    "### Problem Statement."
   ]
  },
  {
   "cell_type": "markdown",
   "id": "6ad5eb9e",
   "metadata": {},
   "source": [
    "The traditional formulation of the problem for regression analysis can be formulated as follows."
   ]
  },
  {
   "cell_type": "markdown",
   "id": "2858072e",
   "metadata": {},
   "source": [
    "Let there be an index $Y$ of interest, which somehow depends functionally on the variables $X_1, \\dots, X_m$, and this dependence can be distorted in some way by some random noise or, as it is more correct to say, by noise. We need to find this dependence and make as accurate a *prediction* of $Y$ as possible based on the measured *predictor* variables $X_1, \\dots, X_m$."
   ]
  },
  {
   "cell_type": "markdown",
   "id": "70bd0955",
   "metadata": {},
   "source": [
    "## Part 1. Fitting a Straight Line."
   ]
  },
  {
   "cell_type": "markdown",
   "id": "8eeb2b49",
   "metadata": {},
   "source": [
    "Let there be a cloud of experimental points $(x_i, \\eta_i)$, obtained according to the model"
   ]
  },
  {
   "cell_type": "markdown",
   "id": "54562a55",
   "metadata": {},
   "source": [
    "$$\n",
    "\\eta_i = a + b x_i + \\varepsilon_i, \\quad i = 1, \\dots, n.\n",
    "$$"
   ]
  },
  {
   "cell_type": "markdown",
   "id": "bcf2d08c",
   "metadata": {},
   "source": [
    "> In our particular case we see a linear dependence, but in a more general case we can take some arbitrary parametric family of functions $f(x, T),$ where $T$ is a set of parameters. Then we can write the following expression: $\\eta_i = f(x, T) + \\varepsilon_i$."
   ]
  },
  {
   "cell_type": "markdown",
   "id": "208ada90",
   "metadata": {},
   "source": [
    "In our case, the straight line coefficients $a$ and $b$ are unknown parameters, $x_i$ are predictor values (which are non-random), $\\varepsilon_i$ are independent and equally distributed random errors with zero mean, i.e. $\\mathbb{E}\\varepsilon_i = 0$."
   ]
  },
  {
   "cell_type": "markdown",
   "id": "7e6a7b23",
   "metadata": {},
   "source": [
    "Interpreting the original statement of the problem for our particular case, we understand that we just need to find the coefficients $a$ and $b$. How can this be done?"
   ]
  },
  {
   "cell_type": "markdown",
   "id": "dad7a7dd",
   "metadata": {},
   "source": [
    "## Part 2. Least Squares Method (LSM)."
   ]
  },
  {
   "cell_type": "markdown",
   "id": "d92ba929",
   "metadata": {},
   "source": [
    "Construct a trial straight line $y = \\alpha + \\beta x$. The residuals can be defined as $\\delta(\\alpha, \\beta) = \\eta_i - \\alpha - \\beta x_i.$"
   ]
  },
  {
   "cell_type": "markdown",
   "id": "d3189ca8",
   "metadata": {},
   "source": [
    "We need to somehow measure the quality of our test line, i.e. to understand how well it approximates the original point cloud $(x_i, \\eta_i)$. As a general measure of proximity we propose to take the following measure"
   ]
  },
  {
   "cell_type": "markdown",
   "id": "5bdfae27",
   "metadata": {},
   "source": [
    "$$\n",
    "F(\\alpha, \\beta) = \\sum_{i = 1}^{n} \\delta_i^2 = \\sum_{i = 1}^{n}(\\eta_i - \\alpha - \\beta x_i)^2.\n",
    "$$"
   ]
  },
  {
   "cell_type": "markdown",
   "id": "fd2e2d73",
   "metadata": {},
   "source": [
    "Thus, we need to minimize this functional. We denote by $(\\hat{a}, \\hat{b})$ the point of minimum. It turns out that they have the form"
   ]
  },
  {
   "cell_type": "markdown",
   "id": "84a3fc15",
   "metadata": {},
   "source": [
    "$$\n",
    "\\hat{b} = \\dfrac{\\sum_{i = 1}^{n}(\\eta_i - \\overline{\\eta})(x_i - \\overline{x})}{\\sum_{i = 1}^{n}(x_i - \\overline{x})^2}, \\qquad \\hat{a} = \\overline{\\eta} - \\hat{b} \\overline{x}.\n",
    "$$"
   ]
  },
  {
   "cell_type": "markdown",
   "id": "307aba09",
   "metadata": {},
   "source": [
    "It is impossible not to mention one of the essential disadvantages of the least-squares method: this method has a strong sensitivity to outliers (observations that are knocked out of the general cloud of points)."
   ]
  },
  {
   "cell_type": "markdown",
   "id": "e8b632b1",
   "metadata": {},
   "source": [
    "> The control question: why?"
   ]
  },
  {
   "cell_type": "code",
   "execution_count": 1,
   "id": "efdba13c",
   "metadata": {},
   "outputs": [
    {
     "data": {
      "text/html": [
       "<div>\n",
       "<style scoped>\n",
       "    .dataframe tbody tr th:only-of-type {\n",
       "        vertical-align: middle;\n",
       "    }\n",
       "\n",
       "    .dataframe tbody tr th {\n",
       "        vertical-align: top;\n",
       "    }\n",
       "\n",
       "    .dataframe thead th {\n",
       "        text-align: right;\n",
       "    }\n",
       "</style>\n",
       "<table border=\"1\" class=\"dataframe\">\n",
       "  <thead>\n",
       "    <tr style=\"text-align: right;\">\n",
       "      <th></th>\n",
       "      <th>Alk</th>\n",
       "      <th>Peak</th>\n",
       "      <th>Bens</th>\n",
       "      <th>Ext</th>\n",
       "      <th>Dan</th>\n",
       "      <th>Res</th>\n",
       "      <th>Stand</th>\n",
       "      <th>Enzim</th>\n",
       "      <th>T(C)</th>\n",
       "      <th>Sol</th>\n",
       "    </tr>\n",
       "  </thead>\n",
       "  <tbody>\n",
       "    <tr>\n",
       "      <th>0</th>\n",
       "      <td>0.09</td>\n",
       "      <td>3.2</td>\n",
       "      <td>0.2</td>\n",
       "      <td>0.20</td>\n",
       "      <td>9.5</td>\n",
       "      <td>12.08</td>\n",
       "      <td>10.2</td>\n",
       "      <td>10.2</td>\n",
       "      <td>0</td>\n",
       "      <td>33.5</td>\n",
       "    </tr>\n",
       "    <tr>\n",
       "      <th>1</th>\n",
       "      <td>0.14</td>\n",
       "      <td>4.7</td>\n",
       "      <td>0.5</td>\n",
       "      <td>0.37</td>\n",
       "      <td>19.0</td>\n",
       "      <td>19.42</td>\n",
       "      <td>20.3</td>\n",
       "      <td>20.5</td>\n",
       "      <td>10</td>\n",
       "      <td>37.0</td>\n",
       "    </tr>\n",
       "    <tr>\n",
       "      <th>2</th>\n",
       "      <td>0.18</td>\n",
       "      <td>5.9</td>\n",
       "      <td>1.0</td>\n",
       "      <td>0.64</td>\n",
       "      <td>28.5</td>\n",
       "      <td>28.64</td>\n",
       "      <td>29.8</td>\n",
       "      <td>30.9</td>\n",
       "      <td>20</td>\n",
       "      <td>41.2</td>\n",
       "    </tr>\n",
       "    <tr>\n",
       "      <th>3</th>\n",
       "      <td>0.25</td>\n",
       "      <td>7.7</td>\n",
       "      <td>1.5</td>\n",
       "      <td>0.93</td>\n",
       "      <td>38.0</td>\n",
       "      <td>37.87</td>\n",
       "      <td>40.1</td>\n",
       "      <td>41.3</td>\n",
       "      <td>30</td>\n",
       "      <td>46.1</td>\n",
       "    </tr>\n",
       "    <tr>\n",
       "      <th>4</th>\n",
       "      <td>0.30</td>\n",
       "      <td>9.1</td>\n",
       "      <td>2.0</td>\n",
       "      <td>1.22</td>\n",
       "      <td>47.5</td>\n",
       "      <td>46.37</td>\n",
       "      <td>49.8</td>\n",
       "      <td>51.2</td>\n",
       "      <td>40</td>\n",
       "      <td>50.0</td>\n",
       "    </tr>\n",
       "    <tr>\n",
       "      <th>5</th>\n",
       "      <td>0.35</td>\n",
       "      <td>10.7</td>\n",
       "      <td>2.5</td>\n",
       "      <td>1.50</td>\n",
       "      <td>95.0</td>\n",
       "      <td>93.12</td>\n",
       "      <td>NaN</td>\n",
       "      <td>NaN</td>\n",
       "      <td>50</td>\n",
       "      <td>52.9</td>\n",
       "    </tr>\n",
       "    <tr>\n",
       "      <th>6</th>\n",
       "      <td>NaN</td>\n",
       "      <td>NaN</td>\n",
       "      <td>3.0</td>\n",
       "      <td>1.80</td>\n",
       "      <td>142.5</td>\n",
       "      <td>139.50</td>\n",
       "      <td>NaN</td>\n",
       "      <td>NaN</td>\n",
       "      <td>60</td>\n",
       "      <td>56.8</td>\n",
       "    </tr>\n",
       "    <tr>\n",
       "      <th>7</th>\n",
       "      <td>NaN</td>\n",
       "      <td>NaN</td>\n",
       "      <td>NaN</td>\n",
       "      <td>NaN</td>\n",
       "      <td>190.0</td>\n",
       "      <td>185.96</td>\n",
       "      <td>NaN</td>\n",
       "      <td>NaN</td>\n",
       "      <td>70</td>\n",
       "      <td>64.3</td>\n",
       "    </tr>\n",
       "    <tr>\n",
       "      <th>8</th>\n",
       "      <td>NaN</td>\n",
       "      <td>NaN</td>\n",
       "      <td>NaN</td>\n",
       "      <td>NaN</td>\n",
       "      <td>237.0</td>\n",
       "      <td>232.95</td>\n",
       "      <td>NaN</td>\n",
       "      <td>NaN</td>\n",
       "      <td>80</td>\n",
       "      <td>69.9</td>\n",
       "    </tr>\n",
       "  </tbody>\n",
       "</table>\n",
       "</div>"
      ],
      "text/plain": [
       "    Alk  Peak  Bens   Ext    Dan     Res  Stand  Enzim  T(C)   Sol\n",
       "0  0.09   3.2   0.2  0.20    9.5   12.08   10.2   10.2     0  33.5\n",
       "1  0.14   4.7   0.5  0.37   19.0   19.42   20.3   20.5    10  37.0\n",
       "2  0.18   5.9   1.0  0.64   28.5   28.64   29.8   30.9    20  41.2\n",
       "3  0.25   7.7   1.5  0.93   38.0   37.87   40.1   41.3    30  46.1\n",
       "4  0.30   9.1   2.0  1.22   47.5   46.37   49.8   51.2    40  50.0\n",
       "5  0.35  10.7   2.5  1.50   95.0   93.12    NaN    NaN    50  52.9\n",
       "6   NaN   NaN   3.0  1.80  142.5  139.50    NaN    NaN    60  56.8\n",
       "7   NaN   NaN   NaN   NaN  190.0  185.96    NaN    NaN    70  64.3\n",
       "8   NaN   NaN   NaN   NaN  237.0  232.95    NaN    NaN    80  69.9"
      ]
     },
     "metadata": {},
     "output_type": "display_data"
    }
   ],
   "source": [
    "import pandas as pd\n",
    "import scipy.stats as stats\n",
    "import seaborn as sns\n",
    "import matplotlib.pyplot as plt\n",
    "import numpy as np\n",
    "pd.set_option('display.max_rows', 100)\n",
    "df = pd.read_excel(\"../Data-EN/Linear.xlsx\")\n",
    "display(df)"
   ]
  },
  {
   "cell_type": "code",
   "execution_count": 2,
   "id": "e7aa3011",
   "metadata": {},
   "outputs": [
    {
     "name": "stdout",
     "output_type": "stream",
     "text": [
      "<class 'pandas.core.frame.DataFrame'>\n",
      "RangeIndex: 9 entries, 0 to 8\n",
      "Data columns (total 10 columns):\n",
      " #   Column  Non-Null Count  Dtype  \n",
      "---  ------  --------------  -----  \n",
      " 0   Alk     6 non-null      float64\n",
      " 1   Peak    6 non-null      float64\n",
      " 2   Bens    7 non-null      float64\n",
      " 3   Ext     7 non-null      float64\n",
      " 4   Dan     9 non-null      float64\n",
      " 5   Res     9 non-null      float64\n",
      " 6   Stand   5 non-null      float64\n",
      " 7   Enzim   5 non-null      float64\n",
      " 8   T(C)    9 non-null      int64  \n",
      " 9   Sol     9 non-null      float64\n",
      "dtypes: float64(9), int64(1)\n",
      "memory usage: 848.0 bytes\n"
     ]
    }
   ],
   "source": [
    "df.info()"
   ]
  },
  {
   "cell_type": "markdown",
   "id": "f707b1ad",
   "metadata": {},
   "source": [
    "Let's build a graph of the dependence of **Pic** on **Alkine**, but first let's collect the necessary data in one dataframe."
   ]
  },
  {
   "cell_type": "code",
   "execution_count": 3,
   "id": "e7b7b386",
   "metadata": {},
   "outputs": [
    {
     "data": {
      "text/html": [
       "<div>\n",
       "<style scoped>\n",
       "    .dataframe tbody tr th:only-of-type {\n",
       "        vertical-align: middle;\n",
       "    }\n",
       "\n",
       "    .dataframe tbody tr th {\n",
       "        vertical-align: top;\n",
       "    }\n",
       "\n",
       "    .dataframe thead th {\n",
       "        text-align: right;\n",
       "    }\n",
       "</style>\n",
       "<table border=\"1\" class=\"dataframe\">\n",
       "  <thead>\n",
       "    <tr style=\"text-align: right;\">\n",
       "      <th></th>\n",
       "      <th>Peak</th>\n",
       "      <th>Alk</th>\n",
       "    </tr>\n",
       "  </thead>\n",
       "  <tbody>\n",
       "    <tr>\n",
       "      <th>0</th>\n",
       "      <td>3.2</td>\n",
       "      <td>0.09</td>\n",
       "    </tr>\n",
       "    <tr>\n",
       "      <th>1</th>\n",
       "      <td>4.7</td>\n",
       "      <td>0.14</td>\n",
       "    </tr>\n",
       "    <tr>\n",
       "      <th>2</th>\n",
       "      <td>5.9</td>\n",
       "      <td>0.18</td>\n",
       "    </tr>\n",
       "    <tr>\n",
       "      <th>3</th>\n",
       "      <td>7.7</td>\n",
       "      <td>0.25</td>\n",
       "    </tr>\n",
       "    <tr>\n",
       "      <th>4</th>\n",
       "      <td>9.1</td>\n",
       "      <td>0.30</td>\n",
       "    </tr>\n",
       "    <tr>\n",
       "      <th>5</th>\n",
       "      <td>10.7</td>\n",
       "      <td>0.35</td>\n",
       "    </tr>\n",
       "  </tbody>\n",
       "</table>\n",
       "</div>"
      ],
      "text/plain": [
       "   Peak   Alk\n",
       "0   3.2  0.09\n",
       "1   4.7  0.14\n",
       "2   5.9  0.18\n",
       "3   7.7  0.25\n",
       "4   9.1  0.30\n",
       "5  10.7  0.35"
      ]
     },
     "metadata": {},
     "output_type": "display_data"
    }
   ],
   "source": [
    "dfAlkPic = df[['Peak', 'Alk']].dropna()\n",
    "display(dfAlkPic)"
   ]
  },
  {
   "cell_type": "code",
   "execution_count": 4,
   "id": "b02b809d",
   "metadata": {},
   "outputs": [
    {
     "data": {
      "image/png": "[encoded data removed]",
      "text/plain": [
       "<Figure size 640x480 with 1 Axes>"
      ]
     },
     "metadata": {},
     "output_type": "display_data"
    }
   ],
   "source": [
    "plt.scatter(dfAlkPic['Alk'], dfAlkPic['Peak'])\n",
    "plt.show()"
   ]
  },
  {
   "cell_type": "markdown",
   "id": "846f5a0c",
   "metadata": {},
   "source": [
    "What do we see? A very good, almost linear relationship. But how do we find that linear regression? To do that, we need to find the coefficients."
   ]
  },
  {
   "cell_type": "markdown",
   "id": "7826638e",
   "metadata": {},
   "source": [
    "We will use the familiar `np.polyfit()` method to find the coefficients of the line. Let's do this, and at the same time let's derive the equation of the line we are looking for."
   ]
  },
  {
   "cell_type": "code",
   "execution_count": 5,
   "id": "43e109af",
   "metadata": {},
   "outputs": [
    {
     "name": "stdout",
     "output_type": "stream",
     "text": [
      " \n",
      "28.34 x + 0.6966\n"
     ]
    }
   ],
   "source": [
    "coefs = np.polyfit(dfAlkPic['Alk'], dfAlkPic['Peak'], 1)\n",
    "polynom = np.poly1d(coefs)\n",
    "print(polynom)"
   ]
  },
  {
   "cell_type": "markdown",
   "id": "4ce21821",
   "metadata": {},
   "source": [
    "Now let's put everything into one picture."
   ]
  },
  {
   "cell_type": "code",
   "execution_count": 6,
   "id": "bd5a0510",
   "metadata": {},
   "outputs": [
    {
     "data": {
      "image/png": "[encoded data removed]",
      "text/plain": [
       "<Figure size 640x480 with 1 Axes>"
      ]
     },
     "metadata": {},
     "output_type": "display_data"
    }
   ],
   "source": [
    "plt.scatter(dfAlkPic['Alk'], dfAlkPic['Peak'])\n",
    "plt.plot(dfAlkPic['Alk'], polynom(dfAlkPic['Alk']))\n",
    "plt.grid()\n",
    "plt.show()"
   ]
  },
  {
   "cell_type": "markdown",
   "id": "6f582fa7",
   "metadata": {},
   "source": [
    "We confirm what we noticed earlier - the styling is almost linear."
   ]
  },
  {
   "cell_type": "markdown",
   "id": "2f0b1a39",
   "metadata": {},
   "source": [
    "### One More Method."
   ]
  },
  {
   "cell_type": "markdown",
   "id": "ec604884",
   "metadata": {},
   "source": [
    "Another method of performing a linear regression is to use the `sklearn.linear_model` library. (Again, it may be that you do not have this library, in which case `pip` will help you.)"
   ]
  },
  {
   "cell_type": "code",
   "execution_count": 7,
   "id": "b6bfa1b7",
   "metadata": {},
   "outputs": [],
   "source": [
    "from sklearn.linear_model import LinearRegression"
   ]
  },
  {
   "cell_type": "markdown",
   "id": "fcedec40",
   "metadata": {},
   "source": [
    "There is one nuance here. What type does the `dfAlcPic['Pic']` object have?"
   ]
  },
  {
   "cell_type": "code",
   "execution_count": 8,
   "id": "1303386e",
   "metadata": {},
   "outputs": [
    {
     "data": {
      "text/plain": [
       "pandas.core.series.Series"
      ]
     },
     "execution_count": 8,
     "metadata": {},
     "output_type": "execute_result"
    }
   ],
   "source": [
    "type(dfAlkPic['Peak'])"
   ]
  },
  {
   "cell_type": "markdown",
   "id": "4eb3e195",
   "metadata": {},
   "source": [
    "As we can see, `series`. But we need an object of type `arrays`. Let's change the types and set variables to refer to them more conveniently later. Also note the construct `.reshape(-1, 1)` - what does it do?"
   ]
  },
  {
   "cell_type": "code",
   "execution_count": 9,
   "id": "da00c947",
   "metadata": {},
   "outputs": [],
   "source": [
    "alc = dfAlkPic['Alk'].values.reshape(-1, 1)\n",
    "pic = dfAlkPic['Peak'].values"
   ]
  },
  {
   "cell_type": "markdown",
   "id": "b65b83f5",
   "metadata": {},
   "source": [
    "Now let's set the model we want and make a fitting."
   ]
  },
  {
   "cell_type": "code",
   "execution_count": 10,
   "id": "2af9571d",
   "metadata": {},
   "outputs": [
    {
     "data": {
      "text/plain": [
       "LinearRegression()"
      ]
     },
     "execution_count": 10,
     "metadata": {},
     "output_type": "execute_result"
    }
   ],
   "source": [
    "model = LinearRegression()\n",
    "model.fit(alc, pic)"
   ]
  },
  {
   "cell_type": "markdown",
   "id": "05672638",
   "metadata": {},
   "source": [
    "> If we hadn't done `.reshape(-1, 1)`, the `.fit()` function would have returned an error. Try running it without `.reshape(-1, 1)`."
   ]
  },
  {
   "cell_type": "markdown",
   "id": "2fdaf769",
   "metadata": {},
   "source": [
    "Let's try to predict the behavior of our regression at two \"neighboring\" points from the plotted graph: $0.05, 0.40.$"
   ]
  },
  {
   "cell_type": "code",
   "execution_count": 11,
   "id": "afca5732",
   "metadata": {},
   "outputs": [],
   "source": [
    "sample = np.array([0.05, 0.40]).reshape(-1, 1)"
   ]
  },
  {
   "cell_type": "code",
   "execution_count": 12,
   "id": "8dc41c5e",
   "metadata": {},
   "outputs": [],
   "source": [
    "pred = model.predict(sample)"
   ]
  },
  {
   "cell_type": "code",
   "execution_count": 13,
   "id": "433788b5",
   "metadata": {},
   "outputs": [
    {
     "name": "stdout",
     "output_type": "stream",
     "text": [
      "[28.33616299]\n",
      "0.6966044142614587\n",
      "[ 2.11341256 12.03106961]\n"
     ]
    }
   ],
   "source": [
    "print(model.coef_)\n",
    "print(model.intercept_)\n",
    "print(pred)"
   ]
  },
  {
   "cell_type": "markdown",
   "id": "ec424659",
   "metadata": {},
   "source": [
    "What did we just get? The first two conclusions correspond to the unknown coefficients in the straight line equation - compare them with the results above. The last conclusion corresponds to the \"prediction\" of our regression values at the given points."
   ]
  },
  {
   "cell_type": "markdown",
   "id": "731579f4",
   "metadata": {},
   "source": [
    "> By the way, why is the first conclusion a list?"
   ]
  },
  {
   "cell_type": "markdown",
   "id": "e8448525",
   "metadata": {},
   "source": [
    "Let's put it all into one picture."
   ]
  },
  {
   "cell_type": "code",
   "execution_count": 14,
   "id": "75dd8ab5",
   "metadata": {},
   "outputs": [
    {
     "data": {
      "image/png": "[encoded data removed]",
      "text/plain": [
       "<Figure size 640x480 with 1 Axes>"
      ]
     },
     "metadata": {},
     "output_type": "display_data"
    }
   ],
   "source": [
    "plt.scatter(dfAlkPic['Alk'], dfAlkPic['Peak'])\n",
    "plt.plot(dfAlkPic['Alk'], polynom(dfAlkPic['Peak']))\n",
    "plt.plot([0.05, 0.40],pred, 'ro--')\n",
    "plt.grid()\n",
    "plt.show()"
   ]
  },
  {
   "cell_type": "markdown",
   "id": "e7831331",
   "metadata": {},
   "source": [
    "Of course, within the scope of this exercise, we cannot even describe the library [`scikit-learn`](https://scikit-learn.org/stable/) roughly. But now you know it exists. It is worth saying that it is one of the most used libraries for data analysis and machine learning."
   ]
  },
  {
   "cell_type": "markdown",
   "id": "1adaeb80",
   "metadata": {},
   "source": [
    "Again you can say, \"Okay, let's say we built the straight line. But what if I don't believe my eyes?\" This is a very valid question. This question can even be extended to, \"How do I know that the model I built is good?\" The answer is simple: \"You have to use metrics that reflect the quality of the model you built.\""
   ]
  },
  {
   "cell_type": "markdown",
   "id": "cb99e0a2",
   "metadata": {},
   "source": [
    "We are \"lucky\" in that our model is very simple. But nevertheless, even with it we can illustrate the general approach."
   ]
  },
  {
   "cell_type": "markdown",
   "id": "ca0f8edd",
   "metadata": {},
   "source": [
    "The value of $R^2$ (approximation reliability value) is measured in the range from $0$ to $1$. The closer it is to unity, the more accurate our regression is. At the same time, if it is far from one, it does not mean that we have built some bad regression - in real problems it can be explained by the presence of other influencing factors. At the same time, if the value is very close to zero, it means that there is no influence of this factor - and therefore it is useless to regress on it."
   ]
  },
  {
   "cell_type": "markdown",
   "id": "2ee670ed",
   "metadata": {},
   "source": [
    "Let us calculate this coefficient for our model. (In doing so, we strongly suspect that it will be close to $1$)."
   ]
  },
  {
   "cell_type": "code",
   "execution_count": 15,
   "id": "4f087bd5",
   "metadata": {},
   "outputs": [
    {
     "name": "stdout",
     "output_type": "stream",
     "text": [
      "0.9990505730526149\n"
     ]
    }
   ],
   "source": [
    "from sklearn.metrics import r2_score\n",
    "R2 = r2_score(pic, model.predict(alc))\n",
    "print(R2)"
   ]
  },
  {
   "cell_type": "markdown",
   "id": "af093069",
   "metadata": {},
   "source": [
    "Which is exactly what I needed to prove."
   ]
  },
  {
   "cell_type": "markdown",
   "id": "3961553c",
   "metadata": {},
   "source": [
    "## Part 2. Error Study for Some Method."
   ]
  },
  {
   "cell_type": "markdown",
   "id": "2dcc05db",
   "metadata": {},
   "source": [
    "Consider the other two columns of the table. Let's do for them what we did above."
   ]
  },
  {
   "cell_type": "code",
   "execution_count": 16,
   "id": "1f6a21b0",
   "metadata": {},
   "outputs": [],
   "source": [
    "dan = df['Dan']\n",
    "res = df['Res']"
   ]
  },
  {
   "cell_type": "code",
   "execution_count": 17,
   "id": "7e8af9ca",
   "metadata": {},
   "outputs": [
    {
     "name": "stdout",
     "output_type": "stream",
     "text": [
      " \n",
      "0.9749 x + 1.02\n"
     ]
    },
    {
     "data": {
      "image/png": "[encoded data removed]",
      "text/plain": [
       "<Figure size 640x480 with 1 Axes>"
      ]
     },
     "metadata": {},
     "output_type": "display_data"
    }
   ],
   "source": [
    "coefs = np.polyfit(dan, res, 1)\n",
    "polynom = np.poly1d(coefs)\n",
    "print(polynom)\n",
    "\n",
    "plt.scatter(dan, res)\n",
    "plt.plot(dan, polynom(dan))\n",
    "plt.grid()\n",
    "plt.show()"
   ]
  },
  {
   "cell_type": "code",
   "execution_count": 18,
   "id": "0beb1c4c",
   "metadata": {},
   "outputs": [
    {
     "name": "stdout",
     "output_type": "stream",
     "text": [
      "[0.97488549]\n",
      "1.019711977811781\n",
      "0.9998922473302879\n"
     ]
    }
   ],
   "source": [
    "danArr = dan.values.reshape(-1, 1)\n",
    "resArr = res.values\n",
    "\n",
    "model = LinearRegression()\n",
    "model.fit(danArr, resArr)\n",
    "\n",
    "R2 = r2_score(resArr, model.predict(danArr))\n",
    "print(model.coef_)\n",
    "print(model.intercept_)\n",
    "print(R2)"
   ]
  },
  {
   "cell_type": "markdown",
   "id": "9912b43f",
   "metadata": {},
   "source": [
    "Since our straight line has the form $y = \\texttt{.coef } x + \\texttt{.intercept} = ax + b$, the value of the coefficient $a$ can be interpreted as the linear component of the deviation; the coefficient $b$ as the systematic deviation. "
   ]
  },
  {
   "cell_type": "markdown",
   "id": "e7bd2e81",
   "metadata": {},
   "source": [
    "Thus, the measurement gives an underestimation of the value if $a < 1$, and an overestimation if $a > 1$."
   ]
  },
  {
   "cell_type": "markdown",
   "id": "f7ce5deb",
   "metadata": {},
   "source": [
    "Let's calculate the \"residuals\" for our model (as the difference between the predicted values and the values in the \"Rez\" column)."
   ]
  },
  {
   "cell_type": "code",
   "execution_count": 19,
   "id": "c275dd78",
   "metadata": {},
   "outputs": [
    {
     "name": "stdout",
     "output_type": "stream",
     "text": [
      "[ 10.28112415  19.54253633  28.80394851  38.06536068  47.32677286\n",
      "  93.63383374 139.94089462 186.24795549 232.06757363]\n"
     ]
    }
   ],
   "source": [
    "print(model.predict(danArr))"
   ]
  },
  {
   "cell_type": "code",
   "execution_count": 20,
   "id": "0043539a",
   "metadata": {},
   "outputs": [
    {
     "name": "stdout",
     "output_type": "stream",
     "text": [
      "[ 12.08  19.42  28.64  37.87  46.37  93.12 139.5  185.96 232.95]\n"
     ]
    }
   ],
   "source": [
    "print(resArr)"
   ]
  },
  {
   "cell_type": "code",
   "execution_count": 21,
   "id": "5620a8ad",
   "metadata": {},
   "outputs": [],
   "source": [
    "# residuals\n",
    "residuals = resArr - model.predict(danArr)"
   ]
  },
  {
   "cell_type": "code",
   "execution_count": 22,
   "id": "5ee7903c",
   "metadata": {},
   "outputs": [
    {
     "name": "stdout",
     "output_type": "stream",
     "text": [
      "[ 1.79887585 -0.12253633 -0.16394851 -0.19536068 -0.95677286 -0.51383374\n",
      " -0.44089462 -0.28795549  0.88242637]\n"
     ]
    }
   ],
   "source": [
    "print(residuals)"
   ]
  },
  {
   "cell_type": "code",
   "execution_count": 23,
   "id": "16301da2",
   "metadata": {},
   "outputs": [
    {
     "data": {
      "image/png": "[encoded data removed]",
      "text/plain": [
       "<Figure size 640x480 with 1 Axes>"
      ]
     },
     "metadata": {},
     "output_type": "display_data"
    }
   ],
   "source": [
    "plt.scatter(dan, residuals)\n",
    "# I added a zero level to better see the difference relative to zero\n",
    "plt.axhline(y=0, color='red', linewidth=1.5)\n",
    "plt.grid()\n",
    "plt.show()"
   ]
  },
  {
   "cell_type": "markdown",
   "id": "5909c2cd",
   "metadata": {},
   "source": [
    "If the value of $R^2$ is close to zero, that is, the regression consideration practically does not reduce the sample variance (the line will be almost parallel to the abscissa axis), then we can test the following hypothesis:"
   ]
  },
  {
   "cell_type": "markdown",
   "id": "d9ccf473",
   "metadata": {},
   "source": [
    "$H_0$: The average does not depend on the parameter $X$, i.e. there is no regression."
   ]
  },
  {
   "cell_type": "markdown",
   "id": "b64ba718",
   "metadata": {},
   "source": [
    "That is, we need to perform the $F$-test known to you to check the equality for the two variances: the original sample and the residuals. Recall that if the null hypothesis is true, we will get $F$-value close to one, and $P$-value will be large."
   ]
  },
  {
   "cell_type": "code",
   "execution_count": 24,
   "id": "84f505bf",
   "metadata": {},
   "outputs": [],
   "source": [
    "import scipy.stats\n",
    "def fTest(firstSample, secondSample):\n",
    "    firstSample = np.array(firstSample)\n",
    "    secondSample = np.array(secondSample)\n",
    "    f = np.var(firstSample, ddof=1) / np.var(secondSample, ddof=1)\n",
    "    dfn = firstSample.size - 1\n",
    "    dfd = secondSample.size - 1\n",
    "    p = 1 - scipy.stats.f.cdf(f, dfn, dfd)\n",
    "    return (f, p)"
   ]
  },
  {
   "cell_type": "code",
   "execution_count": 25,
   "id": "9cb81283",
   "metadata": {},
   "outputs": [
    {
     "data": {
      "text/plain": [
       "(9763.779140432272, 3.885780586188048e-15)"
      ]
     },
     "execution_count": 25,
     "metadata": {},
     "output_type": "execute_result"
    }
   ],
   "source": [
    "fTest(dan, residuals)"
   ]
  },
  {
   "cell_type": "markdown",
   "id": "8734079c",
   "metadata": {},
   "source": [
    "The values obtained clearly refute the null hypothesis."
   ]
  },
  {
   "cell_type": "markdown",
   "id": "fe684fe5",
   "metadata": {},
   "source": [
    "Again:\n",
    "1. We built a picture, we saw a linear stacking there.\n",
    "2. We calculated the residuals - they turned out to be small.\n",
    "3. To be sure, we performed $F$-test to check variance of initial sample and residuals."
   ]
  },
  {
   "cell_type": "markdown",
   "id": "8c49bc99",
   "metadata": {},
   "source": [
    "## Part 4. Multivariate regression."
   ]
  },
  {
   "cell_type": "markdown",
   "id": "8d88df80",
   "metadata": {},
   "source": [
    "Let's take another frame to work with."
   ]
  },
  {
   "cell_type": "code",
   "execution_count": 26,
   "id": "7386f50f",
   "metadata": {},
   "outputs": [],
   "source": [
    "dfFlame = pd.read_excel(\"../Data-EN/Flame.xlsx\")"
   ]
  },
  {
   "cell_type": "code",
   "execution_count": 27,
   "id": "8e34f154",
   "metadata": {
    "scrolled": true
   },
   "outputs": [
    {
     "name": "stdout",
     "output_type": "stream",
     "text": [
      "<class 'pandas.core.frame.DataFrame'>\n",
      "RangeIndex: 8 entries, 0 to 7\n",
      "Data columns (total 4 columns):\n",
      " #   Column  Non-Null Count  Dtype\n",
      "---  ------  --------------  -----\n",
      " 0   Cl      8 non-null      int64\n",
      " 1   SO4     8 non-null      int64\n",
      " 2   PO3     8 non-null      int64\n",
      " 3   Arrow   8 non-null      int64\n",
      "dtypes: int64(4)\n",
      "memory usage: 384.0 bytes\n"
     ]
    }
   ],
   "source": [
    "dfFlame.info()"
   ]
  },
  {
   "cell_type": "code",
   "execution_count": 28,
   "id": "dc0b5b5d",
   "metadata": {},
   "outputs": [
    {
     "data": {
      "text/html": [
       "<div>\n",
       "<style scoped>\n",
       "    .dataframe tbody tr th:only-of-type {\n",
       "        vertical-align: middle;\n",
       "    }\n",
       "\n",
       "    .dataframe tbody tr th {\n",
       "        vertical-align: top;\n",
       "    }\n",
       "\n",
       "    .dataframe thead th {\n",
       "        text-align: right;\n",
       "    }\n",
       "</style>\n",
       "<table border=\"1\" class=\"dataframe\">\n",
       "  <thead>\n",
       "    <tr style=\"text-align: right;\">\n",
       "      <th></th>\n",
       "      <th>Cl</th>\n",
       "      <th>SO4</th>\n",
       "      <th>PO3</th>\n",
       "      <th>Arrow</th>\n",
       "    </tr>\n",
       "  </thead>\n",
       "  <tbody>\n",
       "    <tr>\n",
       "      <th>0</th>\n",
       "      <td>0</td>\n",
       "      <td>0</td>\n",
       "      <td>0</td>\n",
       "      <td>214</td>\n",
       "    </tr>\n",
       "    <tr>\n",
       "      <th>1</th>\n",
       "      <td>0</td>\n",
       "      <td>0</td>\n",
       "      <td>20</td>\n",
       "      <td>161</td>\n",
       "    </tr>\n",
       "    <tr>\n",
       "      <th>2</th>\n",
       "      <td>0</td>\n",
       "      <td>20</td>\n",
       "      <td>0</td>\n",
       "      <td>185</td>\n",
       "    </tr>\n",
       "    <tr>\n",
       "      <th>3</th>\n",
       "      <td>0</td>\n",
       "      <td>20</td>\n",
       "      <td>20</td>\n",
       "      <td>132</td>\n",
       "    </tr>\n",
       "    <tr>\n",
       "      <th>4</th>\n",
       "      <td>20</td>\n",
       "      <td>0</td>\n",
       "      <td>0</td>\n",
       "      <td>217</td>\n",
       "    </tr>\n",
       "    <tr>\n",
       "      <th>5</th>\n",
       "      <td>20</td>\n",
       "      <td>0</td>\n",
       "      <td>20</td>\n",
       "      <td>162</td>\n",
       "    </tr>\n",
       "    <tr>\n",
       "      <th>6</th>\n",
       "      <td>20</td>\n",
       "      <td>20</td>\n",
       "      <td>0</td>\n",
       "      <td>190</td>\n",
       "    </tr>\n",
       "    <tr>\n",
       "      <th>7</th>\n",
       "      <td>20</td>\n",
       "      <td>20</td>\n",
       "      <td>20</td>\n",
       "      <td>136</td>\n",
       "    </tr>\n",
       "  </tbody>\n",
       "</table>\n",
       "</div>"
      ],
      "text/plain": [
       "   Cl  SO4  PO3  Arrow\n",
       "0   0    0    0    214\n",
       "1   0    0   20    161\n",
       "2   0   20    0    185\n",
       "3   0   20   20    132\n",
       "4  20    0    0    217\n",
       "5  20    0   20    162\n",
       "6  20   20    0    190\n",
       "7  20   20   20    136"
      ]
     },
     "metadata": {},
     "output_type": "display_data"
    }
   ],
   "source": [
    "display(dfFlame)"
   ]
  },
  {
   "cell_type": "markdown",
   "id": "7746bf9e",
   "metadata": {},
   "source": [
    "Fortunately for us, we need only repeat what we have already done. "
   ]
  },
  {
   "cell_type": "code",
   "execution_count": 29,
   "id": "65ecee3a",
   "metadata": {},
   "outputs": [],
   "source": [
    "dfFlameFeatures = dfFlame[['Cl', 'SO4', 'PO3']]\n",
    "arrow = dfFlame['Arrow']"
   ]
  },
  {
   "cell_type": "code",
   "execution_count": 30,
   "id": "9d8344a7",
   "metadata": {},
   "outputs": [
    {
     "name": "stdout",
     "output_type": "stream",
     "text": [
      "Coefficients: [ 0.1625 -1.3875 -2.6875]\n",
      "Intercept: 213.75\n",
      "0.9993872444724345\n"
     ]
    }
   ],
   "source": [
    "model = LinearRegression()\n",
    "model.fit(dfFlameFeatures, arrow)\n",
    "R2 = r2_score(arrow, model.predict(dfFlameFeatures))\n",
    "print(\"Coefficients:\", model.coef_)\n",
    "print(\"Intercept:\", model.intercept_)\n",
    "print(R2)"
   ]
  },
  {
   "cell_type": "markdown",
   "id": "5146a2cc",
   "metadata": {},
   "source": [
    "We see that the coefficient $R^2$ is almost $1$ again. Consequently, the regression explains almost all of the variation in the data."
   ]
  },
  {
   "cell_type": "markdown",
   "id": "53525c5e",
   "metadata": {},
   "source": [
    "## Task."
   ]
  },
  {
   "cell_type": "markdown",
   "id": "cb345a59",
   "metadata": {},
   "source": [
    "Complete your individual assignment."
   ]
  }
 ],
 "metadata": {
  "kernelspec": {
   "display_name": "Python 3 (ipykernel)",
   "language": "python",
   "name": "python3"
  },
  "language_info": {
   "codemirror_mode": {
    "name": "ipython",
    "version": 3
   },
   "file_extension": ".py",
   "mimetype": "text/x-python",
   "name": "python",
   "nbconvert_exporter": "python",
   "pygments_lexer": "ipython3",
   "version": "3.9.13"
  }
 },
 "nbformat": 4,
 "nbformat_minor": 5
}
