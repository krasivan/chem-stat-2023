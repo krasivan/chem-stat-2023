{
 "cells": [
  {
   "cell_type": "markdown",
   "id": "4eec3a0c",
   "metadata": {},
   "source": [
    "# Lesson 4"
   ]
  },
  {
   "cell_type": "markdown",
   "id": "079f8743",
   "metadata": {},
   "source": [
    "## Intro"
   ]
  },
  {
   "cell_type": "markdown",
   "id": "86e9f6c8",
   "metadata": {},
   "source": [
    "Hello, everyone! Here is the material for the fourth lesson. "
   ]
  },
  {
   "cell_type": "markdown",
   "id": "9131128c",
   "metadata": {},
   "source": [
    "As you already know, in mathematical statistics there is a task of testing statistical hypotheses: the null hypothesis is tested against some alternative. Recall that last time you were testing two samples for homogeneity. In this lesson we are going to test the homogeneity of several samples. But first, a quick reminder."
   ]
  },
  {
   "cell_type": "markdown",
   "id": "95370528",
   "metadata": {},
   "source": [
    "### Reminder. Comparison of Averages of Two Samples. Student's t-test."
   ]
  },
  {
   "cell_type": "markdown",
   "id": "c04a0209",
   "metadata": {},
   "source": [
    "You can use Student's t-test (or, as it is also called, $t$-test) to compare the averages of two samples."
   ]
  },
  {
   "cell_type": "markdown",
   "id": "b88b7244",
   "metadata": {},
   "source": [
    "It is worth noting that the classical Student's test uses the assumption that the variances are equal."
   ]
  },
  {
   "cell_type": "markdown",
   "id": "b11e5215",
   "metadata": {},
   "source": [
    "Consider the following hypotheses:\n",
    "<br>$H_0:$ The samples have equal averages,\n",
    "<br>$H_1:$ The samples have different averages."
   ]
  },
  {
   "cell_type": "markdown",
   "id": "6240c9e9",
   "metadata": {},
   "source": [
    "Suppose there are two independent normal samples of size $n_1$ and $n_2$. If the variances coincide, the statistic of the criterion is"
   ]
  },
  {
   "cell_type": "markdown",
   "id": "e28f4ff2",
   "metadata": {},
   "source": [
    "$$\n",
    "t = \\frac{\\overline X_1 - \\overline X_2}{s_X \\sqrt{\\frac{1}{n_1}+\\frac{1}{n_2}}} ~,~~s_X=\\sqrt {\\frac{(n_1 - 1)s_1^2 + (n_2 - 1)s_2^2}{n_1 + n_2 - 2}},\n",
    "$$\n",
    "where $s$ – unbiased variance estimation:\n",
    "$$\n",
    "s^2=\\frac {\\sum^n_{t=1}(X_t-\\overline X)^2}{n-1}\n",
    "$$"
   ]
  },
  {
   "cell_type": "markdown",
   "id": "0f395ea9",
   "metadata": {},
   "source": [
    "Note also that this statistic has a Student distribution $t(n_1 + n_2 - 2)$."
   ]
  },
  {
   "cell_type": "markdown",
   "id": "853de357",
   "metadata": {},
   "source": [
    "## Part 1. Comparison of the Variance of Several Samples."
   ]
  },
  {
   "cell_type": "markdown",
   "id": "9c8c577d",
   "metadata": {},
   "source": [
    "Under the assumption of normal samples, the Bartlett criterion can be used to check the equality of variance of several samples."
   ]
  },
  {
   "cell_type": "markdown",
   "id": "2b3acc34",
   "metadata": {},
   "source": [
    "Let all $X_{ij} \\sim \\mathcal{N}(m_j, \\sigma_j), \\:(i = 1, \\dots, n_j, j = 1, \\dots, k)$ are independent, and the parameters $m_j, \\sigma_j$ are unknown. As we know, the unbiased estimates for the shift and scale parameters are:"
   ]
  },
  {
   "cell_type": "markdown",
   "id": "a75bb975",
   "metadata": {},
   "source": [
    "$$\n",
    "X_{\\cdot j} = \\dfrac{1}{n_j} \\sum_{i = 1}^{n_j} X_{ij} \\; \\text{и} \\; S_{j}^{2} = \\dfrac{1}{n_j - 1} \\sum_{i = 1}^{n_j}(X_{ij} - X_{\\cdot j})^2.\n",
    "$$"
   ]
  },
  {
   "cell_type": "markdown",
   "id": "9ae46097",
   "metadata": {},
   "source": [
    "Let $N = n_1 + \\dots + n_k$. The hypothesis of equality of all variances is tested:\n",
    "<br>$H_0:$ All samples have equal variance,\n",
    "<br>$H_1:$ Not all samples have equal variance."
   ]
  },
  {
   "cell_type": "markdown",
   "id": "53b4b01b",
   "metadata": {},
   "source": [
    "The Bartlett criterion statistic is the following function"
   ]
  },
  {
   "cell_type": "markdown",
   "id": "ae809320",
   "metadata": {},
   "source": [
    "$$\n",
    "B = \\dfrac{\\dfrac{1}{N} \\sum_{j = 1}^{k} n_j S_j^2}{\\sqrt[N]{\\prod_{j = 1}^{k}(S_j^2)^{n_j}}}.\n",
    "$$"
   ]
  },
  {
   "cell_type": "markdown",
   "id": "9a2b12da",
   "metadata": {},
   "source": [
    "If the null hypothesis is satisfied and all $n_j > 3$, then the statistic"
   ]
  },
  {
   "cell_type": "markdown",
   "id": "6ba1957a",
   "metadata": {},
   "source": [
    "$$\n",
    "B^* = \\gamma^{-1} N \\ln{B}, \\text{где } \\gamma = 1 + \\dfrac{1}{3(k - 1) }\\left[\\left( \\sum_{j = 1}^{k} \\dfrac{1}{n_j} \\right) - \\dfrac{1}{N} \\right]\n",
    "$$"
   ]
  },
  {
   "cell_type": "markdown",
   "id": "488752a4",
   "metadata": {},
   "source": [
    "has an approximate $\\chi_{k - 1}^2$ distribution."
   ]
  },
  {
   "cell_type": "markdown",
   "id": "9cf4f987",
   "metadata": {},
   "source": [
    "Let us test the Bartlett criterion for the following data set."
   ]
  },
  {
   "cell_type": "code",
   "execution_count": 1,
   "id": "72b82478",
   "metadata": {
    "scrolled": true
   },
   "outputs": [
    {
     "data": {
      "text/html": [
       "<div>\n",
       "<style scoped>\n",
       "    .dataframe tbody tr th:only-of-type {\n",
       "        vertical-align: middle;\n",
       "    }\n",
       "\n",
       "    .dataframe tbody tr th {\n",
       "        vertical-align: top;\n",
       "    }\n",
       "\n",
       "    .dataframe thead th {\n",
       "        text-align: right;\n",
       "    }\n",
       "</style>\n",
       "<table border=\"1\" class=\"dataframe\">\n",
       "  <thead>\n",
       "    <tr style=\"text-align: right;\">\n",
       "      <th></th>\n",
       "      <th>Plate1</th>\n",
       "      <th>Plate2</th>\n",
       "      <th>Plate3</th>\n",
       "      <th>Plate4</th>\n",
       "      <th>Plate5</th>\n",
       "      <th>Plate6</th>\n",
       "      <th>Plate7</th>\n",
       "      <th>Plate8</th>\n",
       "    </tr>\n",
       "  </thead>\n",
       "  <tbody>\n",
       "    <tr>\n",
       "      <th>0</th>\n",
       "      <td>1.42</td>\n",
       "      <td>1.42</td>\n",
       "      <td>1.42</td>\n",
       "      <td>1.38</td>\n",
       "      <td>1.36</td>\n",
       "      <td>1.37</td>\n",
       "      <td>1.38</td>\n",
       "      <td>1.32</td>\n",
       "    </tr>\n",
       "    <tr>\n",
       "      <th>1</th>\n",
       "      <td>1.42</td>\n",
       "      <td>1.39</td>\n",
       "      <td>1.38</td>\n",
       "      <td>1.41</td>\n",
       "      <td>1.37</td>\n",
       "      <td>1.34</td>\n",
       "      <td>1.37</td>\n",
       "      <td>1.33</td>\n",
       "    </tr>\n",
       "    <tr>\n",
       "      <th>2</th>\n",
       "      <td>1.41</td>\n",
       "      <td>1.38</td>\n",
       "      <td>1.41</td>\n",
       "      <td>1.41</td>\n",
       "      <td>1.37</td>\n",
       "      <td>1.38</td>\n",
       "      <td>1.36</td>\n",
       "      <td>1.34</td>\n",
       "    </tr>\n",
       "    <tr>\n",
       "      <th>3</th>\n",
       "      <td>1.44</td>\n",
       "      <td>1.38</td>\n",
       "      <td>1.41</td>\n",
       "      <td>1.42</td>\n",
       "      <td>1.39</td>\n",
       "      <td>1.34</td>\n",
       "      <td>1.37</td>\n",
       "      <td>1.32</td>\n",
       "    </tr>\n",
       "  </tbody>\n",
       "</table>\n",
       "</div>"
      ],
      "text/plain": [
       "   Plate1  Plate2  Plate3  Plate4  Plate5  Plate6  Plate7  Plate8\n",
       "0    1.42    1.42    1.42    1.38    1.36    1.37    1.38    1.32\n",
       "1    1.42    1.39    1.38    1.41    1.37    1.34    1.37    1.33\n",
       "2    1.41    1.38    1.41    1.41    1.37    1.38    1.36    1.34\n",
       "3    1.44    1.38    1.41    1.42    1.39    1.34    1.37    1.32"
      ]
     },
     "execution_count": 1,
     "metadata": {},
     "output_type": "execute_result"
    }
   ],
   "source": [
    "import pandas as pd\n",
    "import scipy.stats as stats\n",
    "import seaborn as sns\n",
    "import matplotlib.pyplot as plt\n",
    "pd.set_option('display.max_rows', 100)\n",
    "df = pd.read_excel(\"../Data-EN/Chromium.xls\")\n",
    "df.head()"
   ]
  },
  {
   "cell_type": "code",
   "execution_count": 2,
   "id": "b5d00d7f",
   "metadata": {
    "scrolled": true
   },
   "outputs": [
    {
     "data": {
      "text/html": [
       "<div>\n",
       "<style scoped>\n",
       "    .dataframe tbody tr th:only-of-type {\n",
       "        vertical-align: middle;\n",
       "    }\n",
       "\n",
       "    .dataframe tbody tr th {\n",
       "        vertical-align: top;\n",
       "    }\n",
       "\n",
       "    .dataframe thead th {\n",
       "        text-align: right;\n",
       "    }\n",
       "</style>\n",
       "<table border=\"1\" class=\"dataframe\">\n",
       "  <thead>\n",
       "    <tr style=\"text-align: right;\">\n",
       "      <th></th>\n",
       "      <th>Plate1</th>\n",
       "      <th>Plate2</th>\n",
       "      <th>Plate3</th>\n",
       "      <th>Plate4</th>\n",
       "      <th>Plate5</th>\n",
       "      <th>Plate6</th>\n",
       "      <th>Plate7</th>\n",
       "      <th>Plate8</th>\n",
       "    </tr>\n",
       "  </thead>\n",
       "  <tbody>\n",
       "    <tr>\n",
       "      <th>0</th>\n",
       "      <td>1.42</td>\n",
       "      <td>1.42</td>\n",
       "      <td>1.42</td>\n",
       "      <td>1.38</td>\n",
       "      <td>1.36</td>\n",
       "      <td>1.37</td>\n",
       "      <td>1.38</td>\n",
       "      <td>1.32</td>\n",
       "    </tr>\n",
       "    <tr>\n",
       "      <th>1</th>\n",
       "      <td>1.42</td>\n",
       "      <td>1.39</td>\n",
       "      <td>1.38</td>\n",
       "      <td>1.41</td>\n",
       "      <td>1.37</td>\n",
       "      <td>1.34</td>\n",
       "      <td>1.37</td>\n",
       "      <td>1.33</td>\n",
       "    </tr>\n",
       "    <tr>\n",
       "      <th>2</th>\n",
       "      <td>1.41</td>\n",
       "      <td>1.38</td>\n",
       "      <td>1.41</td>\n",
       "      <td>1.41</td>\n",
       "      <td>1.37</td>\n",
       "      <td>1.38</td>\n",
       "      <td>1.36</td>\n",
       "      <td>1.34</td>\n",
       "    </tr>\n",
       "    <tr>\n",
       "      <th>3</th>\n",
       "      <td>1.44</td>\n",
       "      <td>1.38</td>\n",
       "      <td>1.41</td>\n",
       "      <td>1.42</td>\n",
       "      <td>1.39</td>\n",
       "      <td>1.34</td>\n",
       "      <td>1.37</td>\n",
       "      <td>1.32</td>\n",
       "    </tr>\n",
       "  </tbody>\n",
       "</table>\n",
       "</div>"
      ],
      "text/plain": [
       "   Plate1  Plate2  Plate3  Plate4  Plate5  Plate6  Plate7  Plate8\n",
       "0    1.42    1.42    1.42    1.38    1.36    1.37    1.38    1.32\n",
       "1    1.42    1.39    1.38    1.41    1.37    1.34    1.37    1.33\n",
       "2    1.41    1.38    1.41    1.41    1.37    1.38    1.36    1.34\n",
       "3    1.44    1.38    1.41    1.42    1.39    1.34    1.37    1.32"
      ]
     },
     "metadata": {},
     "output_type": "display_data"
    }
   ],
   "source": [
    "display(df)"
   ]
  },
  {
   "cell_type": "markdown",
   "id": "506d1cd6",
   "metadata": {},
   "source": [
    "As usual, let's call the `info()` method."
   ]
  },
  {
   "cell_type": "code",
   "execution_count": 3,
   "id": "ea48d6b4",
   "metadata": {},
   "outputs": [
    {
     "name": "stdout",
     "output_type": "stream",
     "text": [
      "<class 'pandas.core.frame.DataFrame'>\n",
      "RangeIndex: 4 entries, 0 to 3\n",
      "Data columns (total 8 columns):\n",
      " #   Column  Non-Null Count  Dtype  \n",
      "---  ------  --------------  -----  \n",
      " 0   Plate1  4 non-null      float64\n",
      " 1   Plate2  4 non-null      float64\n",
      " 2   Plate3  4 non-null      float64\n",
      " 3   Plate4  4 non-null      float64\n",
      " 4   Plate5  4 non-null      float64\n",
      " 5   Plate6  4 non-null      float64\n",
      " 6   Plate7  4 non-null      float64\n",
      " 7   Plate8  4 non-null      float64\n",
      "dtypes: float64(8)\n",
      "memory usage: 384.0 bytes\n"
     ]
    }
   ],
   "source": [
    "df.info()"
   ]
  },
  {
   "cell_type": "markdown",
   "id": "e5e1bab0",
   "metadata": {},
   "source": [
    "Let's also call the `describe()` method."
   ]
  },
  {
   "cell_type": "code",
   "execution_count": 4,
   "id": "46cb1041",
   "metadata": {},
   "outputs": [
    {
     "data": {
      "text/html": [
       "<div>\n",
       "<style scoped>\n",
       "    .dataframe tbody tr th:only-of-type {\n",
       "        vertical-align: middle;\n",
       "    }\n",
       "\n",
       "    .dataframe tbody tr th {\n",
       "        vertical-align: top;\n",
       "    }\n",
       "\n",
       "    .dataframe thead th {\n",
       "        text-align: right;\n",
       "    }\n",
       "</style>\n",
       "<table border=\"1\" class=\"dataframe\">\n",
       "  <thead>\n",
       "    <tr style=\"text-align: right;\">\n",
       "      <th></th>\n",
       "      <th>Plate1</th>\n",
       "      <th>Plate2</th>\n",
       "      <th>Plate3</th>\n",
       "      <th>Plate4</th>\n",
       "      <th>Plate5</th>\n",
       "      <th>Plate6</th>\n",
       "      <th>Plate7</th>\n",
       "      <th>Plate8</th>\n",
       "    </tr>\n",
       "  </thead>\n",
       "  <tbody>\n",
       "    <tr>\n",
       "      <th>count</th>\n",
       "      <td>4.000000</td>\n",
       "      <td>4.00000</td>\n",
       "      <td>4.000000</td>\n",
       "      <td>4.000000</td>\n",
       "      <td>4.000000</td>\n",
       "      <td>4.000000</td>\n",
       "      <td>4.000000</td>\n",
       "      <td>4.000000</td>\n",
       "    </tr>\n",
       "    <tr>\n",
       "      <th>mean</th>\n",
       "      <td>1.422500</td>\n",
       "      <td>1.39250</td>\n",
       "      <td>1.405000</td>\n",
       "      <td>1.405000</td>\n",
       "      <td>1.372500</td>\n",
       "      <td>1.357500</td>\n",
       "      <td>1.370000</td>\n",
       "      <td>1.327500</td>\n",
       "    </tr>\n",
       "    <tr>\n",
       "      <th>std</th>\n",
       "      <td>0.012583</td>\n",
       "      <td>0.01893</td>\n",
       "      <td>0.017321</td>\n",
       "      <td>0.017321</td>\n",
       "      <td>0.012583</td>\n",
       "      <td>0.020616</td>\n",
       "      <td>0.008165</td>\n",
       "      <td>0.009574</td>\n",
       "    </tr>\n",
       "    <tr>\n",
       "      <th>min</th>\n",
       "      <td>1.410000</td>\n",
       "      <td>1.38000</td>\n",
       "      <td>1.380000</td>\n",
       "      <td>1.380000</td>\n",
       "      <td>1.360000</td>\n",
       "      <td>1.340000</td>\n",
       "      <td>1.360000</td>\n",
       "      <td>1.320000</td>\n",
       "    </tr>\n",
       "    <tr>\n",
       "      <th>25%</th>\n",
       "      <td>1.417500</td>\n",
       "      <td>1.38000</td>\n",
       "      <td>1.402500</td>\n",
       "      <td>1.402500</td>\n",
       "      <td>1.367500</td>\n",
       "      <td>1.340000</td>\n",
       "      <td>1.367500</td>\n",
       "      <td>1.320000</td>\n",
       "    </tr>\n",
       "    <tr>\n",
       "      <th>50%</th>\n",
       "      <td>1.420000</td>\n",
       "      <td>1.38500</td>\n",
       "      <td>1.410000</td>\n",
       "      <td>1.410000</td>\n",
       "      <td>1.370000</td>\n",
       "      <td>1.355000</td>\n",
       "      <td>1.370000</td>\n",
       "      <td>1.325000</td>\n",
       "    </tr>\n",
       "    <tr>\n",
       "      <th>75%</th>\n",
       "      <td>1.425000</td>\n",
       "      <td>1.39750</td>\n",
       "      <td>1.412500</td>\n",
       "      <td>1.412500</td>\n",
       "      <td>1.375000</td>\n",
       "      <td>1.372500</td>\n",
       "      <td>1.372500</td>\n",
       "      <td>1.332500</td>\n",
       "    </tr>\n",
       "    <tr>\n",
       "      <th>max</th>\n",
       "      <td>1.440000</td>\n",
       "      <td>1.42000</td>\n",
       "      <td>1.420000</td>\n",
       "      <td>1.420000</td>\n",
       "      <td>1.390000</td>\n",
       "      <td>1.380000</td>\n",
       "      <td>1.380000</td>\n",
       "      <td>1.340000</td>\n",
       "    </tr>\n",
       "  </tbody>\n",
       "</table>\n",
       "</div>"
      ],
      "text/plain": [
       "         Plate1   Plate2    Plate3    Plate4    Plate5    Plate6    Plate7  \\\n",
       "count  4.000000  4.00000  4.000000  4.000000  4.000000  4.000000  4.000000   \n",
       "mean   1.422500  1.39250  1.405000  1.405000  1.372500  1.357500  1.370000   \n",
       "std    0.012583  0.01893  0.017321  0.017321  0.012583  0.020616  0.008165   \n",
       "min    1.410000  1.38000  1.380000  1.380000  1.360000  1.340000  1.360000   \n",
       "25%    1.417500  1.38000  1.402500  1.402500  1.367500  1.340000  1.367500   \n",
       "50%    1.420000  1.38500  1.410000  1.410000  1.370000  1.355000  1.370000   \n",
       "75%    1.425000  1.39750  1.412500  1.412500  1.375000  1.372500  1.372500   \n",
       "max    1.440000  1.42000  1.420000  1.420000  1.390000  1.380000  1.380000   \n",
       "\n",
       "         Plate8  \n",
       "count  4.000000  \n",
       "mean   1.327500  \n",
       "std    0.009574  \n",
       "min    1.320000  \n",
       "25%    1.320000  \n",
       "50%    1.325000  \n",
       "75%    1.332500  \n",
       "max    1.340000  "
      ]
     },
     "execution_count": 4,
     "metadata": {},
     "output_type": "execute_result"
    }
   ],
   "source": [
    "df.describe()"
   ]
  },
  {
   "cell_type": "markdown",
   "id": "0f61d9e1",
   "metadata": {},
   "source": [
    "As we can see from our input data table above, we have 8 plates-samples whose variances need to be checked. Let's think of some more elegant function for creating samples than just enumerating the columns of the table as the argument of the function."
   ]
  },
  {
   "cell_type": "markdown",
   "id": "1f5bdf09",
   "metadata": {},
   "source": [
    "First, we make a list in which we put the names of all the columns from the table. "
   ]
  },
  {
   "cell_type": "code",
   "execution_count": 5,
   "id": "a878ca25",
   "metadata": {},
   "outputs": [
    {
     "name": "stdout",
     "output_type": "stream",
     "text": [
      "['Plate1', 'Plate2', 'Plate3', 'Plate4', 'Plate5', 'Plate6', 'Plate7', 'Plate8']\n"
     ]
    }
   ],
   "source": [
    "names = list(df.columns)\n",
    "print(names)"
   ]
  },
  {
   "cell_type": "markdown",
   "id": "e5c8fd95",
   "metadata": {},
   "source": [
    "We will use the `*` operator to automatically look through all the tables - unpacking into function arguments. You can read more details, for example, [here](https://tproger.ru/translations/asterisks-in-python-what-they-are-and-how-to-use-them/)."
   ]
  },
  {
   "cell_type": "code",
   "execution_count": 6,
   "id": "d458f3f0",
   "metadata": {},
   "outputs": [
    {
     "name": "stdout",
     "output_type": "stream",
     "text": [
      "F: 3.7215025069362024\n",
      "P-value: 0.8112377426908652\n"
     ]
    }
   ],
   "source": [
    "f, p = stats.bartlett(*[df[col] for col in names])\n",
    "print(\"F:\", f)\n",
    "print(\"P-value:\", p)"
   ]
  },
  {
   "cell_type": "markdown",
   "id": "610884b5",
   "metadata": {},
   "source": [
    "We obtained a large $P$-value. This means that we can confidently accept the hypothesis of equality of variances."
   ]
  },
  {
   "cell_type": "markdown",
   "id": "f36c58df",
   "metadata": {},
   "source": [
    "## Part 2. Comparison of Averages of Several Samples."
   ]
  },
  {
   "cell_type": "markdown",
   "id": "6daceaf9",
   "metadata": {},
   "source": [
    "The classical Student's test essentially uses the assumption of the normality of the samples, as well as the equality of variances. Let us save this requirement for the case of many samples. Moreover, we have already checked the equality of variances."
   ]
  },
  {
   "cell_type": "markdown",
   "id": "3644f3ea",
   "metadata": {},
   "source": [
    "Let us consider the problem of testing the averages of several samples. Let us formulate the following hypotheses."
   ]
  },
  {
   "cell_type": "markdown",
   "id": "9880658e",
   "metadata": {},
   "source": [
    "$H_0:$ All samples have equal averages,\n",
    "<br>$H_1:$ Not all samples have equal averages."
   ]
  },
  {
   "cell_type": "markdown",
   "id": "ec990031",
   "metadata": {},
   "source": [
    "We will use the `f_oneway()` method from the `scipy.stats` library to perform a single-factor analysis of variance."
   ]
  },
  {
   "cell_type": "code",
   "execution_count": 7,
   "id": "142acbb7",
   "metadata": {},
   "outputs": [
    {
     "name": "stdout",
     "output_type": "stream",
     "text": [
      "F: 16.26457399103135\n",
      "P-value: 1.0530803541299794e-07\n"
     ]
    }
   ],
   "source": [
    "f, p = stats.f_oneway(*[df[col] for col in names])\n",
    "print(\"F:\", f)\n",
    "print(\"P-value:\", p)"
   ]
  },
  {
   "cell_type": "markdown",
   "id": "b3646299",
   "metadata": {},
   "source": [
    "What do we see? The statistic value is large. The $P$-value is very small. This means that we can reject the hypothesis of equality of the averages with sufficient certainty."
   ]
  },
  {
   "cell_type": "markdown",
   "id": "55853da1",
   "metadata": {},
   "source": [
    "## Part 3. Note About the \"long\" Table Format and the Mustache Boxes."
   ]
  },
  {
   "cell_type": "markdown",
   "id": "323380be",
   "metadata": {},
   "source": [
    "Our original table is presented in a \"wide\" format. This format is more convenient to read for a human, but the \"long\" format is better for a computer. Let's perform the necessary transformations, observing the difference."
   ]
  },
  {
   "cell_type": "code",
   "execution_count": 8,
   "id": "41995ddb",
   "metadata": {
    "scrolled": true
   },
   "outputs": [
    {
     "data": {
      "text/html": [
       "<div>\n",
       "<style scoped>\n",
       "    .dataframe tbody tr th:only-of-type {\n",
       "        vertical-align: middle;\n",
       "    }\n",
       "\n",
       "    .dataframe tbody tr th {\n",
       "        vertical-align: top;\n",
       "    }\n",
       "\n",
       "    .dataframe thead th {\n",
       "        text-align: right;\n",
       "    }\n",
       "</style>\n",
       "<table border=\"1\" class=\"dataframe\">\n",
       "  <thead>\n",
       "    <tr style=\"text-align: right;\">\n",
       "      <th></th>\n",
       "      <th>Plate1</th>\n",
       "      <th>Plate2</th>\n",
       "      <th>Plate3</th>\n",
       "      <th>Plate4</th>\n",
       "      <th>Plate5</th>\n",
       "      <th>Plate6</th>\n",
       "      <th>Plate7</th>\n",
       "      <th>Plate8</th>\n",
       "    </tr>\n",
       "  </thead>\n",
       "  <tbody>\n",
       "    <tr>\n",
       "      <th>0</th>\n",
       "      <td>1.42</td>\n",
       "      <td>1.42</td>\n",
       "      <td>1.42</td>\n",
       "      <td>1.38</td>\n",
       "      <td>1.36</td>\n",
       "      <td>1.37</td>\n",
       "      <td>1.38</td>\n",
       "      <td>1.32</td>\n",
       "    </tr>\n",
       "    <tr>\n",
       "      <th>1</th>\n",
       "      <td>1.42</td>\n",
       "      <td>1.39</td>\n",
       "      <td>1.38</td>\n",
       "      <td>1.41</td>\n",
       "      <td>1.37</td>\n",
       "      <td>1.34</td>\n",
       "      <td>1.37</td>\n",
       "      <td>1.33</td>\n",
       "    </tr>\n",
       "    <tr>\n",
       "      <th>2</th>\n",
       "      <td>1.41</td>\n",
       "      <td>1.38</td>\n",
       "      <td>1.41</td>\n",
       "      <td>1.41</td>\n",
       "      <td>1.37</td>\n",
       "      <td>1.38</td>\n",
       "      <td>1.36</td>\n",
       "      <td>1.34</td>\n",
       "    </tr>\n",
       "    <tr>\n",
       "      <th>3</th>\n",
       "      <td>1.44</td>\n",
       "      <td>1.38</td>\n",
       "      <td>1.41</td>\n",
       "      <td>1.42</td>\n",
       "      <td>1.39</td>\n",
       "      <td>1.34</td>\n",
       "      <td>1.37</td>\n",
       "      <td>1.32</td>\n",
       "    </tr>\n",
       "  </tbody>\n",
       "</table>\n",
       "</div>"
      ],
      "text/plain": [
       "   Plate1  Plate2  Plate3  Plate4  Plate5  Plate6  Plate7  Plate8\n",
       "0    1.42    1.42    1.42    1.38    1.36    1.37    1.38    1.32\n",
       "1    1.42    1.39    1.38    1.41    1.37    1.34    1.37    1.33\n",
       "2    1.41    1.38    1.41    1.41    1.37    1.38    1.36    1.34\n",
       "3    1.44    1.38    1.41    1.42    1.39    1.34    1.37    1.32"
      ]
     },
     "metadata": {},
     "output_type": "display_data"
    }
   ],
   "source": [
    "display(df)"
   ]
  },
  {
   "cell_type": "code",
   "execution_count": 9,
   "id": "de251396",
   "metadata": {},
   "outputs": [],
   "source": [
    "dfMelt = pd.melt(df, var_name = 'plast', value_name = 'value' )"
   ]
  },
  {
   "cell_type": "code",
   "execution_count": 10,
   "id": "ed04bf7b",
   "metadata": {
    "scrolled": true
   },
   "outputs": [
    {
     "name": "stdout",
     "output_type": "stream",
     "text": [
      "     plast  value\n",
      "0   Plate1   1.42\n",
      "1   Plate1   1.42\n",
      "2   Plate1   1.41\n",
      "3   Plate1   1.44\n",
      "4   Plate2   1.42\n",
      "5   Plate2   1.39\n",
      "6   Plate2   1.38\n",
      "7   Plate2   1.38\n",
      "8   Plate3   1.42\n",
      "9   Plate3   1.38\n",
      "10  Plate3   1.41\n",
      "11  Plate3   1.41\n",
      "12  Plate4   1.38\n",
      "13  Plate4   1.41\n",
      "14  Plate4   1.41\n",
      "15  Plate4   1.42\n",
      "16  Plate5   1.36\n",
      "17  Plate5   1.37\n",
      "18  Plate5   1.37\n",
      "19  Plate5   1.39\n",
      "20  Plate6   1.37\n",
      "21  Plate6   1.34\n",
      "22  Plate6   1.38\n",
      "23  Plate6   1.34\n",
      "24  Plate7   1.38\n",
      "25  Plate7   1.37\n",
      "26  Plate7   1.36\n",
      "27  Plate7   1.37\n",
      "28  Plate8   1.32\n",
      "29  Plate8   1.33\n",
      "30  Plate8   1.34\n",
      "31  Plate8   1.32\n"
     ]
    }
   ],
   "source": [
    "print(dfMelt)"
   ]
  },
  {
   "cell_type": "code",
   "execution_count": 11,
   "id": "a46a5411",
   "metadata": {
    "scrolled": true
   },
   "outputs": [
    {
     "data": {
      "text/plain": [
       "<AxesSubplot:xlabel='plast', ylabel='value'>"
      ]
     },
     "execution_count": 11,
     "metadata": {},
     "output_type": "execute_result"
    },
    {
     "data": {
      "image/png": "[encoded data removed]",
      "text/plain": [
       "<Figure size 640x480 with 1 Axes>"
      ]
     },
     "metadata": {},
     "output_type": "display_data"
    }
   ],
   "source": [
    "sns.boxplot(x = 'plast', y = 'value', data=dfMelt)"
   ]
  },
  {
   "cell_type": "markdown",
   "id": "05309520",
   "metadata": {},
   "source": [
    "How should these pictures be understood?\n",
    "* If the box is short and the whiskers are long, it indicates that the data are tightly clustered around the median, and the variance is small. \n",
    "* If the box is long and the whiskers are short, it indicates that the data are scattered and the variance is large."
   ]
  },
  {
   "cell_type": "markdown",
   "id": "61b85bae",
   "metadata": {},
   "source": [
    "## Part 4. Finding the Dependence of the Variance on the Mean."
   ]
  },
  {
   "cell_type": "markdown",
   "id": "0dc30f63",
   "metadata": {},
   "source": [
    "First, let's apply the Bartlett criterion to test the variance of the following data set."
   ]
  },
  {
   "cell_type": "code",
   "execution_count": 12,
   "id": "737c9ca9",
   "metadata": {},
   "outputs": [],
   "source": [
    "dfSamples = pd.read_excel('../Data-EN/Samples.xls')"
   ]
  },
  {
   "cell_type": "code",
   "execution_count": 13,
   "id": "097f7611",
   "metadata": {},
   "outputs": [
    {
     "data": {
      "text/html": [
       "<div>\n",
       "<style scoped>\n",
       "    .dataframe tbody tr th:only-of-type {\n",
       "        vertical-align: middle;\n",
       "    }\n",
       "\n",
       "    .dataframe tbody tr th {\n",
       "        vertical-align: top;\n",
       "    }\n",
       "\n",
       "    .dataframe thead th {\n",
       "        text-align: right;\n",
       "    }\n",
       "</style>\n",
       "<table border=\"1\" class=\"dataframe\">\n",
       "  <thead>\n",
       "    <tr style=\"text-align: right;\">\n",
       "      <th></th>\n",
       "      <th>Sample1</th>\n",
       "      <th>Sample2</th>\n",
       "      <th>Sample3</th>\n",
       "      <th>Sample4</th>\n",
       "      <th>Sample5</th>\n",
       "    </tr>\n",
       "  </thead>\n",
       "  <tbody>\n",
       "    <tr>\n",
       "      <th>0</th>\n",
       "      <td>0.085</td>\n",
       "      <td>0.180</td>\n",
       "      <td>0.487</td>\n",
       "      <td>0.683</td>\n",
       "      <td>0.970</td>\n",
       "    </tr>\n",
       "    <tr>\n",
       "      <th>1</th>\n",
       "      <td>0.090</td>\n",
       "      <td>0.183</td>\n",
       "      <td>0.489</td>\n",
       "      <td>0.684</td>\n",
       "      <td>0.970</td>\n",
       "    </tr>\n",
       "    <tr>\n",
       "      <th>2</th>\n",
       "      <td>0.091</td>\n",
       "      <td>0.187</td>\n",
       "      <td>0.490</td>\n",
       "      <td>0.688</td>\n",
       "      <td>0.972</td>\n",
       "    </tr>\n",
       "    <tr>\n",
       "      <th>3</th>\n",
       "      <td>0.093</td>\n",
       "      <td>0.188</td>\n",
       "      <td>0.490</td>\n",
       "      <td>0.690</td>\n",
       "      <td>0.982</td>\n",
       "    </tr>\n",
       "    <tr>\n",
       "      <th>4</th>\n",
       "      <td>0.095</td>\n",
       "      <td>0.188</td>\n",
       "      <td>0.494</td>\n",
       "      <td>0.690</td>\n",
       "      <td>0.986</td>\n",
       "    </tr>\n",
       "  </tbody>\n",
       "</table>\n",
       "</div>"
      ],
      "text/plain": [
       "   Sample1  Sample2  Sample3  Sample4  Sample5\n",
       "0    0.085    0.180    0.487    0.683    0.970\n",
       "1    0.090    0.183    0.489    0.684    0.970\n",
       "2    0.091    0.187    0.490    0.688    0.972\n",
       "3    0.093    0.188    0.490    0.690    0.982\n",
       "4    0.095    0.188    0.494    0.690    0.986"
      ]
     },
     "execution_count": 13,
     "metadata": {},
     "output_type": "execute_result"
    }
   ],
   "source": [
    "dfSamples.head()"
   ]
  },
  {
   "cell_type": "code",
   "execution_count": 14,
   "id": "eb47da3a",
   "metadata": {},
   "outputs": [
    {
     "name": "stdout",
     "output_type": "stream",
     "text": [
      "<class 'pandas.core.frame.DataFrame'>\n",
      "RangeIndex: 20 entries, 0 to 19\n",
      "Data columns (total 5 columns):\n",
      " #   Column   Non-Null Count  Dtype  \n",
      "---  ------   --------------  -----  \n",
      " 0   Sample1  20 non-null     float64\n",
      " 1   Sample2  20 non-null     float64\n",
      " 2   Sample3  20 non-null     float64\n",
      " 3   Sample4  20 non-null     float64\n",
      " 4   Sample5  20 non-null     float64\n",
      "dtypes: float64(5)\n",
      "memory usage: 928.0 bytes\n"
     ]
    }
   ],
   "source": [
    "dfSamples.info()"
   ]
  },
  {
   "cell_type": "code",
   "execution_count": 15,
   "id": "6b39df2b",
   "metadata": {},
   "outputs": [
    {
     "data": {
      "text/html": [
       "<div>\n",
       "<style scoped>\n",
       "    .dataframe tbody tr th:only-of-type {\n",
       "        vertical-align: middle;\n",
       "    }\n",
       "\n",
       "    .dataframe tbody tr th {\n",
       "        vertical-align: top;\n",
       "    }\n",
       "\n",
       "    .dataframe thead th {\n",
       "        text-align: right;\n",
       "    }\n",
       "</style>\n",
       "<table border=\"1\" class=\"dataframe\">\n",
       "  <thead>\n",
       "    <tr style=\"text-align: right;\">\n",
       "      <th></th>\n",
       "      <th>Sample1</th>\n",
       "      <th>Sample2</th>\n",
       "      <th>Sample3</th>\n",
       "      <th>Sample4</th>\n",
       "      <th>Sample5</th>\n",
       "    </tr>\n",
       "  </thead>\n",
       "  <tbody>\n",
       "    <tr>\n",
       "      <th>count</th>\n",
       "      <td>20.000000</td>\n",
       "      <td>20.000000</td>\n",
       "      <td>20.00000</td>\n",
       "      <td>20.000000</td>\n",
       "      <td>20.000000</td>\n",
       "    </tr>\n",
       "    <tr>\n",
       "      <th>mean</th>\n",
       "      <td>0.100500</td>\n",
       "      <td>0.194900</td>\n",
       "      <td>0.50210</td>\n",
       "      <td>0.703000</td>\n",
       "      <td>0.999850</td>\n",
       "    </tr>\n",
       "    <tr>\n",
       "      <th>std</th>\n",
       "      <td>0.007944</td>\n",
       "      <td>0.009049</td>\n",
       "      <td>0.01167</td>\n",
       "      <td>0.013131</td>\n",
       "      <td>0.016903</td>\n",
       "    </tr>\n",
       "    <tr>\n",
       "      <th>min</th>\n",
       "      <td>0.085000</td>\n",
       "      <td>0.180000</td>\n",
       "      <td>0.48700</td>\n",
       "      <td>0.683000</td>\n",
       "      <td>0.970000</td>\n",
       "    </tr>\n",
       "    <tr>\n",
       "      <th>25%</th>\n",
       "      <td>0.096500</td>\n",
       "      <td>0.189500</td>\n",
       "      <td>0.49400</td>\n",
       "      <td>0.693750</td>\n",
       "      <td>0.989750</td>\n",
       "    </tr>\n",
       "    <tr>\n",
       "      <th>50%</th>\n",
       "      <td>0.101000</td>\n",
       "      <td>0.192500</td>\n",
       "      <td>0.49950</td>\n",
       "      <td>0.703000</td>\n",
       "      <td>1.001000</td>\n",
       "    </tr>\n",
       "    <tr>\n",
       "      <th>75%</th>\n",
       "      <td>0.104250</td>\n",
       "      <td>0.201000</td>\n",
       "      <td>0.50550</td>\n",
       "      <td>0.709500</td>\n",
       "      <td>1.015250</td>\n",
       "    </tr>\n",
       "    <tr>\n",
       "      <th>max</th>\n",
       "      <td>0.120000</td>\n",
       "      <td>0.216000</td>\n",
       "      <td>0.52800</td>\n",
       "      <td>0.736000</td>\n",
       "      <td>1.021000</td>\n",
       "    </tr>\n",
       "  </tbody>\n",
       "</table>\n",
       "</div>"
      ],
      "text/plain": [
       "         Sample1    Sample2   Sample3    Sample4    Sample5\n",
       "count  20.000000  20.000000  20.00000  20.000000  20.000000\n",
       "mean    0.100500   0.194900   0.50210   0.703000   0.999850\n",
       "std     0.007944   0.009049   0.01167   0.013131   0.016903\n",
       "min     0.085000   0.180000   0.48700   0.683000   0.970000\n",
       "25%     0.096500   0.189500   0.49400   0.693750   0.989750\n",
       "50%     0.101000   0.192500   0.49950   0.703000   1.001000\n",
       "75%     0.104250   0.201000   0.50550   0.709500   1.015250\n",
       "max     0.120000   0.216000   0.52800   0.736000   1.021000"
      ]
     },
     "execution_count": 15,
     "metadata": {},
     "output_type": "execute_result"
    }
   ],
   "source": [
    "dfSamples.describe()"
   ]
  },
  {
   "cell_type": "code",
   "execution_count": 16,
   "id": "20499e31",
   "metadata": {},
   "outputs": [
    {
     "name": "stdout",
     "output_type": "stream",
     "text": [
      "F: 13.255157005107282\n",
      "P-value: 0.010094060746970808\n"
     ]
    }
   ],
   "source": [
    "names = list(dfSamples.columns)\n",
    "f, p = stats.bartlett(*[dfSamples[col] for col in names])\n",
    "print(\"F:\", f)\n",
    "print(\"P-value:\", p)"
   ]
  },
  {
   "cell_type": "markdown",
   "id": "b373ac0a",
   "metadata": {},
   "source": [
    "Again we obtain a sufficiently small $P$-value. Consequently, the null hypothesis of equality of variance can be rejected. "
   ]
  },
  {
   "cell_type": "markdown",
   "id": "40165e32",
   "metadata": {},
   "source": [
    "But what do the variance values depend on? The most naive idea that can arise here is that variance values depend on mean values. \n",
    "\n",
    "However, there is a small nuance here related to the dimensions: the dimensions of the variance and the mean are not equal. Therefore, let us take the standard deviation instead of the variance.\n",
    "\n",
    "Let us test this idea and plot the dependence of the variance on the mean."
   ]
  },
  {
   "cell_type": "markdown",
   "id": "4e16f081",
   "metadata": {},
   "source": [
    "Set some empty list that will contain pairs of points in the plane to plot. These pairs will be `std` and `mean`. "
   ]
  },
  {
   "cell_type": "code",
   "execution_count": 17,
   "id": "88aafffd",
   "metadata": {},
   "outputs": [
    {
     "name": "stdout",
     "output_type": "stream",
     "text": [
      "[[0.007943882121349404, 0.1005], [0.009048989475422976, 0.1949], [0.011670475568716138, 0.5021], [0.013130919717657967, 0.7030000000000001], [0.016903051733185227, 0.99985]]\n"
     ]
    }
   ],
   "source": [
    "dots = []\n",
    "for column in dfSamples.columns:\n",
    "    dots.append([dfSamples[column].std(), dfSamples[column].mean()])\n",
    "print(dots)"
   ]
  },
  {
   "cell_type": "markdown",
   "id": "27f76320",
   "metadata": {},
   "source": [
    "All that remains is to plot the graph! Again we use the `*` operator and also the `zip()` method."
   ]
  },
  {
   "cell_type": "code",
   "execution_count": 18,
   "id": "4ede84ad",
   "metadata": {},
   "outputs": [
    {
     "data": {
      "text/plain": [
       "Text(0, 0.5, 'mean')"
      ]
     },
     "execution_count": 18,
     "metadata": {},
     "output_type": "execute_result"
    },
    {
     "data": {
      "image/png": "[encoded data removed]",
      "text/plain": [
       "<Figure size 640x480 with 1 Axes>"
      ]
     },
     "metadata": {},
     "output_type": "display_data"
    }
   ],
   "source": [
    "plt.scatter(*zip(*dots), color = 'red')\n",
    "plt.plot(*zip(*dots), color = 'blue')\n",
    "plt.xlabel('std')\n",
    "plt.ylabel('mean')"
   ]
  },
  {
   "cell_type": "markdown",
   "id": "6677c956",
   "metadata": {},
   "source": [
    "**P.S.** See how `zip()` works."
   ]
  },
  {
   "cell_type": "markdown",
   "id": "a9051133",
   "metadata": {},
   "source": [
    "> Test question: What is the difference between `zip(dots)` and `zip(*dots)`?"
   ]
  },
  {
   "cell_type": "markdown",
   "id": "53525c5e",
   "metadata": {},
   "source": [
    "## Task."
   ]
  },
  {
   "cell_type": "markdown",
   "id": "cb345a59",
   "metadata": {},
   "source": [
    "Complete your individual assignment."
   ]
  }
 ],
 "metadata": {
  "kernelspec": {
   "display_name": "Python 3 (ipykernel)",
   "language": "python",
   "name": "python3"
  },
  "language_info": {
   "codemirror_mode": {
    "name": "ipython",
    "version": 3
   },
   "file_extension": ".py",
   "mimetype": "text/x-python",
   "name": "python",
   "nbconvert_exporter": "python",
   "pygments_lexer": "ipython3",
   "version": "3.9.13"
  }
 },
 "nbformat": 4,
 "nbformat_minor": 5
}
